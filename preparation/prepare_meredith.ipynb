{
 "cells": [
  {
   "cell_type": "code",
   "execution_count": 15,
   "id": "782b3271",
   "metadata": {},
   "outputs": [],
   "source": [
    "# import essential libraries\n",
    "import pandas as pd\n",
    "import numpy as np\n",
    "\n",
    "# visual\n",
    "import matplotlib.pyplot as plt\n",
    "import seaborn as sns\n",
    "import plotly.express as px\n",
    "\n",
    "# import the datetime module\n",
    "from datetime import datetime\n",
    "\n",
    "# ignore warnings\n",
    "import warnings\n",
    "warnings.filterwarnings('ignore')\n",
    "\n",
    "# set format\n",
    "pd.options.display.float_format = '{:.2f}'.format"
   ]
  },
  {
   "cell_type": "markdown",
   "id": "a61862cb",
   "metadata": {},
   "source": [
    "# YouTube"
   ]
  },
  {
   "cell_type": "code",
   "execution_count": 2,
   "id": "c6622d34",
   "metadata": {},
   "outputs": [],
   "source": [
    "# read in youtube data\n",
    "youtube = pd.read_csv('youtube_data.csv')"
   ]
  },
  {
   "cell_type": "code",
   "execution_count": 3,
   "id": "cc0515df",
   "metadata": {},
   "outputs": [
    {
     "data": {
      "text/plain": [
       "(15730, 9)"
      ]
     },
     "execution_count": 3,
     "metadata": {},
     "output_type": "execute_result"
    }
   ],
   "source": [
    "# check shape\n",
    "youtube.shape"
   ]
  },
  {
   "cell_type": "code",
   "execution_count": 4,
   "id": "e2913c0c",
   "metadata": {},
   "outputs": [
    {
     "data": {
      "text/html": [
       "<div>\n",
       "<style scoped>\n",
       "    .dataframe tbody tr th:only-of-type {\n",
       "        vertical-align: middle;\n",
       "    }\n",
       "\n",
       "    .dataframe tbody tr th {\n",
       "        vertical-align: top;\n",
       "    }\n",
       "\n",
       "    .dataframe thead th {\n",
       "        text-align: right;\n",
       "    }\n",
       "</style>\n",
       "<table border=\"1\" class=\"dataframe\">\n",
       "  <thead>\n",
       "    <tr style=\"text-align: right;\">\n",
       "      <th></th>\n",
       "      <th>title</th>\n",
       "      <th>publishedTime</th>\n",
       "      <th>Unnamed: 2</th>\n",
       "      <th>date_ref</th>\n",
       "      <th>pub_date</th>\n",
       "      <th>duration</th>\n",
       "      <th>viewCount</th>\n",
       "      <th>hashtag</th>\n",
       "      <th>category</th>\n",
       "    </tr>\n",
       "  </thead>\n",
       "  <tbody>\n",
       "    <tr>\n",
       "      <th>0</th>\n",
       "      <td>The Truth Behind The Global Pandemic. Jordan M...</td>\n",
       "      <td>18</td>\n",
       "      <td>0</td>\n",
       "      <td>9/16/22</td>\n",
       "      <td>09/16/22</td>\n",
       "      <td>26:40:00</td>\n",
       "      <td>48882</td>\n",
       "      <td>comedy</td>\n",
       "      <td>humor</td>\n",
       "    </tr>\n",
       "    <tr>\n",
       "      <th>1</th>\n",
       "      <td>The Best Comedy Special Ever. Gabriel Rutledge...</td>\n",
       "      <td>1</td>\n",
       "      <td>30.5</td>\n",
       "      <td>9/16/22</td>\n",
       "      <td>08/16/22</td>\n",
       "      <td>25:24:00</td>\n",
       "      <td>621694</td>\n",
       "      <td>comedy</td>\n",
       "      <td>humor</td>\n",
       "    </tr>\n",
       "    <tr>\n",
       "      <th>2</th>\n",
       "      <td>Look At These Assholes: Trump Family Edition |...</td>\n",
       "      <td>2</td>\n",
       "      <td>30.5</td>\n",
       "      <td>9/16/22</td>\n",
       "      <td>07/17/22</td>\n",
       "      <td>05:45</td>\n",
       "      <td>2248400</td>\n",
       "      <td>comedy</td>\n",
       "      <td>humor</td>\n",
       "    </tr>\n",
       "    <tr>\n",
       "      <th>3</th>\n",
       "      <td>More Than Funny Comedy Special | Michael Jr. #...</td>\n",
       "      <td>11</td>\n",
       "      <td>30.5</td>\n",
       "      <td>9/16/22</td>\n",
       "      <td>10/15/21</td>\n",
       "      <td>01:23:38</td>\n",
       "      <td>1813052</td>\n",
       "      <td>comedy</td>\n",
       "      <td>humor</td>\n",
       "    </tr>\n",
       "    <tr>\n",
       "      <th>4</th>\n",
       "      <td>2020 FUNNY COMEDY BEST OF MARVELOUS SARAH PRIN...</td>\n",
       "      <td>1</td>\n",
       "      <td>365</td>\n",
       "      <td>9/16/22</td>\n",
       "      <td>09/16/21</td>\n",
       "      <td>28:51:00</td>\n",
       "      <td>21036895</td>\n",
       "      <td>comedy</td>\n",
       "      <td>humor</td>\n",
       "    </tr>\n",
       "  </tbody>\n",
       "</table>\n",
       "</div>"
      ],
      "text/plain": [
       "                                               title  publishedTime  \\\n",
       "0  The Truth Behind The Global Pandemic. Jordan M...             18   \n",
       "1  The Best Comedy Special Ever. Gabriel Rutledge...              1   \n",
       "2  Look At These Assholes: Trump Family Edition |...              2   \n",
       "3  More Than Funny Comedy Special | Michael Jr. #...             11   \n",
       "4  2020 FUNNY COMEDY BEST OF MARVELOUS SARAH PRIN...              1   \n",
       "\n",
       "  Unnamed: 2 date_ref  pub_date  duration viewCount hashtag category  \n",
       "0          0  9/16/22  09/16/22  26:40:00     48882  comedy    humor  \n",
       "1       30.5  9/16/22  08/16/22  25:24:00    621694  comedy    humor  \n",
       "2       30.5  9/16/22  07/17/22     05:45   2248400  comedy    humor  \n",
       "3       30.5  9/16/22  10/15/21  01:23:38   1813052  comedy    humor  \n",
       "4        365  9/16/22  09/16/21  28:51:00  21036895  comedy    humor  "
      ]
     },
     "execution_count": 4,
     "metadata": {},
     "output_type": "execute_result"
    }
   ],
   "source": [
    "youtube.head()"
   ]
  },
  {
   "cell_type": "markdown",
   "id": "dd1303d5",
   "metadata": {},
   "source": [
    "#### Date of reference: 09/16/2022"
   ]
  },
  {
   "cell_type": "code",
   "execution_count": 5,
   "id": "371ce4a8",
   "metadata": {},
   "outputs": [
    {
     "data": {
      "text/plain": [
       "title            object\n",
       "publishedTime     int64\n",
       "Unnamed: 2       object\n",
       "date_ref         object\n",
       "pub_date         object\n",
       "duration         object\n",
       "viewCount        object\n",
       "hashtag          object\n",
       "category         object\n",
       "dtype: object"
      ]
     },
     "execution_count": 5,
     "metadata": {},
     "output_type": "execute_result"
    }
   ],
   "source": [
    "# check datatypes\n",
    "youtube.dtypes"
   ]
  },
  {
   "cell_type": "markdown",
   "id": "78208767",
   "metadata": {},
   "source": [
    "#### Drop Columns"
   ]
  },
  {
   "cell_type": "code",
   "execution_count": 6,
   "id": "7a7c7bbf",
   "metadata": {},
   "outputs": [],
   "source": [
    "# drop meaningless columns\n",
    "youtube.drop(columns = ['publishedTime', 'Unnamed: 2', 'date_ref'], inplace=True)"
   ]
  },
  {
   "cell_type": "markdown",
   "id": "aba070ac",
   "metadata": {},
   "source": [
    "#### NaNs"
   ]
  },
  {
   "cell_type": "code",
   "execution_count": 7,
   "id": "67421aa2",
   "metadata": {},
   "outputs": [
    {
     "data": {
      "text/plain": [
       "title        0\n",
       "pub_date     0\n",
       "duration     0\n",
       "viewCount    0\n",
       "hashtag      0\n",
       "category     0\n",
       "dtype: int64"
      ]
     },
     "execution_count": 7,
     "metadata": {},
     "output_type": "execute_result"
    }
   ],
   "source": [
    "# check nulls\n",
    "youtube.isnull().sum()"
   ]
  },
  {
   "cell_type": "markdown",
   "id": "e20d7408",
   "metadata": {},
   "source": [
    "#### Drop ViewCount letter"
   ]
  },
  {
   "cell_type": "code",
   "execution_count": 8,
   "id": "4a5f9bf4",
   "metadata": {},
   "outputs": [],
   "source": [
    "# check viewCount datatype\n",
    "indexname = youtube[youtube.viewCount.str.contains('[A-Za-z]')].index"
   ]
  },
  {
   "cell_type": "code",
   "execution_count": 9,
   "id": "d8c553fd",
   "metadata": {},
   "outputs": [],
   "source": [
    "# drop index with letter as viewCount\n",
    "youtube.drop(indexname, inplace=True)"
   ]
  },
  {
   "cell_type": "code",
   "execution_count": 10,
   "id": "78bf514e",
   "metadata": {},
   "outputs": [
    {
     "data": {
      "text/plain": [
       "count     15678\n",
       "unique    11517\n",
       "top           2\n",
       "freq         25\n",
       "Name: viewCount, dtype: object"
      ]
     },
     "execution_count": 10,
     "metadata": {},
     "output_type": "execute_result"
    }
   ],
   "source": [
    "# it's not showing stats so there's other non-integer type in this column\n",
    "youtube.viewCount.describe()"
   ]
  },
  {
   "cell_type": "code",
   "execution_count": 11,
   "id": "f5330b55",
   "metadata": {},
   "outputs": [
    {
     "data": {
      "text/plain": [
       "(15678, 6)"
      ]
     },
     "execution_count": 11,
     "metadata": {},
     "output_type": "execute_result"
    }
   ],
   "source": [
    "# check shape after dropping views with letter\n",
    "youtube.shape"
   ]
  },
  {
   "cell_type": "markdown",
   "id": "28bd4d2c",
   "metadata": {},
   "source": [
    "#### Replace ',' in viewCount"
   ]
  },
  {
   "cell_type": "code",
   "execution_count": 12,
   "id": "1397bcc7",
   "metadata": {},
   "outputs": [],
   "source": [
    "# replace ','\n",
    "youtube.viewCount = youtube.viewCount.str.replace(',','')"
   ]
  },
  {
   "cell_type": "code",
   "execution_count": 13,
   "id": "c66c41ef",
   "metadata": {},
   "outputs": [],
   "source": [
    "# change viewcount to int\n",
    "youtube.viewCount = youtube.viewCount.astype(int)"
   ]
  },
  {
   "cell_type": "code",
   "execution_count": 14,
   "id": "c385260e",
   "metadata": {},
   "outputs": [
    {
     "data": {
      "text/plain": [
       "count        15678.00\n",
       "mean       2294596.36\n",
       "std       18669485.26\n",
       "min              1.00\n",
       "25%           1347.00\n",
       "50%           6870.00\n",
       "75%         219229.00\n",
       "max     1626628893.00\n",
       "Name: viewCount, dtype: float64"
      ]
     },
     "execution_count": 14,
     "metadata": {},
     "output_type": "execute_result"
    }
   ],
   "source": [
    "# check viewcount stats\n",
    "youtube.viewCount.describe()"
   ]
  },
  {
   "cell_type": "markdown",
   "id": "428d7726",
   "metadata": {},
   "source": [
    "#### Convert pub_date to datetime"
   ]
  },
  {
   "cell_type": "code",
   "execution_count": 16,
   "id": "2dffc2cc",
   "metadata": {},
   "outputs": [],
   "source": [
    "youtube['pub_date']=pd.to_datetime(youtube['pub_date'], errors='coerce')"
   ]
  },
  {
   "cell_type": "code",
   "execution_count": 17,
   "id": "b8baae78",
   "metadata": {},
   "outputs": [
    {
     "data": {
      "text/plain": [
       "title        0\n",
       "pub_date     1\n",
       "duration     0\n",
       "viewCount    0\n",
       "hashtag      0\n",
       "category     0\n",
       "dtype: int64"
      ]
     },
     "execution_count": 17,
     "metadata": {},
     "output_type": "execute_result"
    }
   ],
   "source": [
    "# check nulls\n",
    "youtube.isnull().sum()"
   ]
  },
  {
   "cell_type": "code",
   "execution_count": 18,
   "id": "9c9f70f3",
   "metadata": {},
   "outputs": [],
   "source": [
    "# drop nulls\n",
    "youtube.dropna(inplace = True)"
   ]
  },
  {
   "cell_type": "code",
   "execution_count": 19,
   "id": "a9a9ae18",
   "metadata": {},
   "outputs": [
    {
     "data": {
      "text/plain": [
       "(15677, 6)"
      ]
     },
     "execution_count": 19,
     "metadata": {},
     "output_type": "execute_result"
    }
   ],
   "source": [
    "# check shape\n",
    "youtube.shape"
   ]
  },
  {
   "cell_type": "code",
   "execution_count": 20,
   "id": "a9875068",
   "metadata": {
    "scrolled": true
   },
   "outputs": [
    {
     "data": {
      "text/plain": [
       "0       2022-09-16\n",
       "1       2022-08-16\n",
       "2       2022-07-17\n",
       "3       2021-10-15\n",
       "4       2021-09-16\n",
       "           ...    \n",
       "15725   2022-09-13\n",
       "15726   2022-09-15\n",
       "15727   2022-09-15\n",
       "15728   2022-09-13\n",
       "15729   2022-09-16\n",
       "Name: pub_date, Length: 15677, dtype: datetime64[ns]"
      ]
     },
     "execution_count": 20,
     "metadata": {},
     "output_type": "execute_result"
    }
   ],
   "source": [
    "youtube.pub_date"
   ]
  },
  {
   "cell_type": "markdown",
   "id": "409298cf",
   "metadata": {},
   "source": [
    "#### Convert 'duration' to seconds"
   ]
  },
  {
   "cell_type": "code",
   "execution_count": 21,
   "id": "df21972d",
   "metadata": {},
   "outputs": [],
   "source": [
    "def change_time(string):\n",
    "    if len(string)>5:\n",
    "        if string.endswith(':00'):\n",
    "            string = string.replace(':00', '')\n",
    "    return string"
   ]
  },
  {
   "cell_type": "code",
   "execution_count": 22,
   "id": "97fc3a7d",
   "metadata": {},
   "outputs": [],
   "source": [
    "# apply function to convert format\n",
    "youtube.duration = youtube.duration.apply(change_time)"
   ]
  },
  {
   "cell_type": "code",
   "execution_count": 23,
   "id": "2fbb3d57",
   "metadata": {},
   "outputs": [
    {
     "data": {
      "text/html": [
       "<div>\n",
       "<style scoped>\n",
       "    .dataframe tbody tr th:only-of-type {\n",
       "        vertical-align: middle;\n",
       "    }\n",
       "\n",
       "    .dataframe tbody tr th {\n",
       "        vertical-align: top;\n",
       "    }\n",
       "\n",
       "    .dataframe thead th {\n",
       "        text-align: right;\n",
       "    }\n",
       "</style>\n",
       "<table border=\"1\" class=\"dataframe\">\n",
       "  <thead>\n",
       "    <tr style=\"text-align: right;\">\n",
       "      <th></th>\n",
       "      <th>title</th>\n",
       "      <th>pub_date</th>\n",
       "      <th>duration</th>\n",
       "      <th>viewCount</th>\n",
       "      <th>hashtag</th>\n",
       "      <th>category</th>\n",
       "    </tr>\n",
       "  </thead>\n",
       "  <tbody>\n",
       "  </tbody>\n",
       "</table>\n",
       "</div>"
      ],
      "text/plain": [
       "Empty DataFrame\n",
       "Columns: [title, pub_date, duration, viewCount, hashtag, category]\n",
       "Index: []"
      ]
     },
     "execution_count": 23,
     "metadata": {},
     "output_type": "execute_result"
    }
   ],
   "source": [
    "# check result\n",
    "youtube[(youtube.duration.str.endswith(':00')) & (youtube.duration.str.len()>5)]"
   ]
  },
  {
   "cell_type": "code",
   "execution_count": 24,
   "id": "737fbe43",
   "metadata": {},
   "outputs": [
    {
     "data": {
      "text/plain": [
       "0           26:40\n",
       "1           25:24\n",
       "2           05:45\n",
       "3        01:23:38\n",
       "4           28:51\n",
       "           ...   \n",
       "15725       00:16\n",
       "15726       00:43\n",
       "15727       00:14\n",
       "15728       00:39\n",
       "15729       04:46\n",
       "Name: duration, Length: 15677, dtype: object"
      ]
     },
     "execution_count": 24,
     "metadata": {},
     "output_type": "execute_result"
    }
   ],
   "source": [
    "youtube.duration"
   ]
  },
  {
   "cell_type": "code",
   "execution_count": 25,
   "id": "dd6e8e7b",
   "metadata": {},
   "outputs": [],
   "source": [
    "# this need to apply twice\n",
    "def add_zero(string):\n",
    "    if len(string)<=5:\n",
    "        string = '00:' + string\n",
    "    return string"
   ]
  },
  {
   "cell_type": "code",
   "execution_count": 26,
   "id": "09d0129c",
   "metadata": {},
   "outputs": [],
   "source": [
    "youtube.duration = youtube.duration.apply(add_zero)\n",
    "youtube.duration = youtube.duration.apply(add_zero)"
   ]
  },
  {
   "cell_type": "code",
   "execution_count": 27,
   "id": "14718db5",
   "metadata": {},
   "outputs": [
    {
     "data": {
      "text/plain": [
       "0        00:26:40\n",
       "1        00:25:24\n",
       "2        00:05:45\n",
       "3        01:23:38\n",
       "4        00:28:51\n",
       "           ...   \n",
       "15725    00:00:16\n",
       "15726    00:00:43\n",
       "15727    00:00:14\n",
       "15728    00:00:39\n",
       "15729    00:04:46\n",
       "Name: duration, Length: 15677, dtype: object"
      ]
     },
     "execution_count": 27,
     "metadata": {},
     "output_type": "execute_result"
    }
   ],
   "source": [
    "# check result, now length should be universal (8)\n",
    "youtube.duration"
   ]
  },
  {
   "cell_type": "code",
   "execution_count": 28,
   "id": "2eeae37b",
   "metadata": {},
   "outputs": [
    {
     "data": {
      "text/html": [
       "<div>\n",
       "<style scoped>\n",
       "    .dataframe tbody tr th:only-of-type {\n",
       "        vertical-align: middle;\n",
       "    }\n",
       "\n",
       "    .dataframe tbody tr th {\n",
       "        vertical-align: top;\n",
       "    }\n",
       "\n",
       "    .dataframe thead th {\n",
       "        text-align: right;\n",
       "    }\n",
       "</style>\n",
       "<table border=\"1\" class=\"dataframe\">\n",
       "  <thead>\n",
       "    <tr style=\"text-align: right;\">\n",
       "      <th></th>\n",
       "      <th>title</th>\n",
       "      <th>pub_date</th>\n",
       "      <th>duration</th>\n",
       "      <th>viewCount</th>\n",
       "      <th>hashtag</th>\n",
       "      <th>category</th>\n",
       "    </tr>\n",
       "  </thead>\n",
       "  <tbody>\n",
       "  </tbody>\n",
       "</table>\n",
       "</div>"
      ],
      "text/plain": [
       "Empty DataFrame\n",
       "Columns: [title, pub_date, duration, viewCount, hashtag, category]\n",
       "Index: []"
      ]
     },
     "execution_count": 28,
     "metadata": {},
     "output_type": "execute_result"
    }
   ],
   "source": [
    "# double check length\n",
    "youtube[youtube.duration.str.len()<8]"
   ]
  },
  {
   "cell_type": "code",
   "execution_count": 29,
   "id": "1b04cda7",
   "metadata": {},
   "outputs": [],
   "source": [
    "# convert hour, minute, second\n",
    "youtube['hour'] = youtube['duration'].str.slice(0,2)\n",
    "youtube.hour = youtube.hour.astype(int)\n",
    "youtube['minute'] =  youtube['duration'].str.slice(3,5)\n",
    "youtube.minute = youtube.minute.astype(int)\n",
    "youtube['second'] =  youtube['duration'].str.slice(6,8)\n",
    "youtube.second = youtube.second.astype(int)\n",
    "youtube['length'] = 3600*youtube.hour + 60*youtube.minute + youtube.second"
   ]
  },
  {
   "cell_type": "code",
   "execution_count": 30,
   "id": "be15f1a6",
   "metadata": {},
   "outputs": [],
   "source": [
    "# combined function\n",
    "def change_time(string):\n",
    "    if len(string)>5:\n",
    "        if string.endswith(':00'):\n",
    "            string = string.replace(':00', '')\n",
    "    return string\n",
    "\n",
    "def add_zero(string):\n",
    "    if len(string)<=5:\n",
    "        string = '00:' + string\n",
    "    return string\n",
    "\n",
    "def prep_youtube(youtube):\n",
    "    # drop useless columns\n",
    "    youtube.drop(columns = ['publishedTime', 'Unnamed: 2', 'date_ref'], inplace=True)\n",
    "    # drop non-number viewCount rows\n",
    "    indexname = youtube[youtube.viewCount.str.contains('[A-Za-z]')].index\n",
    "    # drop index with letter as viewCount\n",
    "    youtube.drop(indexname, inplace=True)\n",
    "    # replace ',' in viewCount\n",
    "    youtube.viewCount = youtube.viewCount.str.replace(',','')\n",
    "    # change viewcount to int\n",
    "    youtube.viewCount = youtube.viewCount.astype(int)\n",
    "    # convert datetime\n",
    "    youtube['pub_date']=pd.to_datetime(youtube['pub_date'], errors='coerce')\n",
    "    # drop nulls after date conversion\n",
    "    youtube.dropna(inplace = True)\n",
    "    # convert duration to length\n",
    "    youtube.duration = youtube.duration.apply(change_time)\n",
    "    # add zero to have a universal length\n",
    "    youtube.duration = youtube.duration.apply(add_zero)\n",
    "    youtube.duration = youtube.duration.apply(add_zero)\n",
    "    # split time into hour, minute, second\n",
    "    youtube['hour'] = youtube['duration'].str.slice(0,2)\n",
    "    youtube['minute'] =  youtube['duration'].str.slice(3,5)\n",
    "    youtube['second'] =  youtube['duration'].str.slice(6,8)\n",
    "    # convert datatype\n",
    "    youtube.hour = youtube.hour.astype(int)\n",
    "    youtube.minute = youtube.minute.astype(int)\n",
    "    youtube.second = youtube.second.astype(int)\n",
    "    # calculate length\n",
    "    youtube['length(second)'] = 3600*youtube.hour + 60*youtube.minute + youtube.second\n",
    "    \n",
    "    return youtube"
   ]
  },
  {
   "cell_type": "markdown",
   "id": "8812e069",
   "metadata": {},
   "source": [
    "***"
   ]
  },
  {
   "cell_type": "markdown",
   "id": "3986ef1d",
   "metadata": {},
   "source": [
    "# TikTok"
   ]
  },
  {
   "cell_type": "code",
   "execution_count": 55,
   "id": "ee399cca",
   "metadata": {},
   "outputs": [],
   "source": [
    "# read in combined data from 5 categories\n",
    "tiktok = pd.read_csv('tiktok_data.csv')"
   ]
  },
  {
   "cell_type": "code",
   "execution_count": 56,
   "id": "095e5f4d",
   "metadata": {},
   "outputs": [
    {
     "data": {
      "text/plain": [
       "(21598, 12)"
      ]
     },
     "execution_count": 56,
     "metadata": {},
     "output_type": "execute_result"
    }
   ],
   "source": [
    "# check shaoe\n",
    "tiktok.shape"
   ]
  },
  {
   "cell_type": "code",
   "execution_count": 57,
   "id": "9dcab3bb",
   "metadata": {},
   "outputs": [
    {
     "data": {
      "text/html": [
       "<div>\n",
       "<style scoped>\n",
       "    .dataframe tbody tr th:only-of-type {\n",
       "        vertical-align: middle;\n",
       "    }\n",
       "\n",
       "    .dataframe tbody tr th {\n",
       "        vertical-align: top;\n",
       "    }\n",
       "\n",
       "    .dataframe thead th {\n",
       "        text-align: right;\n",
       "    }\n",
       "</style>\n",
       "<table border=\"1\" class=\"dataframe\">\n",
       "  <thead>\n",
       "    <tr style=\"text-align: right;\">\n",
       "      <th></th>\n",
       "      <th>commentCount</th>\n",
       "      <th>diggCount</th>\n",
       "      <th>playCount</th>\n",
       "      <th>shareCount</th>\n",
       "      <th>followerCount</th>\n",
       "      <th>heartCount</th>\n",
       "      <th>videoCount</th>\n",
       "      <th>description</th>\n",
       "      <th>duration</th>\n",
       "      <th>time</th>\n",
       "      <th>hashtag</th>\n",
       "      <th>category</th>\n",
       "    </tr>\n",
       "  </thead>\n",
       "  <tbody>\n",
       "    <tr>\n",
       "      <th>0</th>\n",
       "      <td>33000</td>\n",
       "      <td>5100000</td>\n",
       "      <td>46600000</td>\n",
       "      <td>16400</td>\n",
       "      <td>2800000</td>\n",
       "      <td>58800000</td>\n",
       "      <td>318</td>\n",
       "      <td>Can you count how many layers are in this dres...</td>\n",
       "      <td>40</td>\n",
       "      <td>1626635893</td>\n",
       "      <td>fashion</td>\n",
       "      <td>fashion</td>\n",
       "    </tr>\n",
       "    <tr>\n",
       "      <th>1</th>\n",
       "      <td>0</td>\n",
       "      <td>5100000</td>\n",
       "      <td>33200000</td>\n",
       "      <td>21900</td>\n",
       "      <td>163500</td>\n",
       "      <td>10700000</td>\n",
       "      <td>451</td>\n",
       "      <td>it had to be done ‚ùå #SmellLikeIrishSpring #O...</td>\n",
       "      <td>59</td>\n",
       "      <td>1648504875</td>\n",
       "      <td>fashion</td>\n",
       "      <td>fashion</td>\n",
       "    </tr>\n",
       "    <tr>\n",
       "      <th>2</th>\n",
       "      <td>54600</td>\n",
       "      <td>5000000</td>\n",
       "      <td>21300000</td>\n",
       "      <td>17100</td>\n",
       "      <td>3800000</td>\n",
       "      <td>81900000</td>\n",
       "      <td>510</td>\n",
       "      <td>Reply to @wibowowowo_17 NGL this was tougher t...</td>\n",
       "      <td>17</td>\n",
       "      <td>1594775651</td>\n",
       "      <td>fashion</td>\n",
       "      <td>fashion</td>\n",
       "    </tr>\n",
       "    <tr>\n",
       "      <th>3</th>\n",
       "      <td>18300</td>\n",
       "      <td>5000000</td>\n",
       "      <td>35100000</td>\n",
       "      <td>27300</td>\n",
       "      <td>6500000</td>\n",
       "      <td>120900000</td>\n",
       "      <td>458</td>\n",
       "      <td>al principio pens√© que se equivocaron de paqu...</td>\n",
       "      <td>75</td>\n",
       "      <td>1655771466</td>\n",
       "      <td>fashion</td>\n",
       "      <td>fashion</td>\n",
       "    </tr>\n",
       "    <tr>\n",
       "      <th>4</th>\n",
       "      <td>15100</td>\n",
       "      <td>4900000</td>\n",
       "      <td>12900000</td>\n",
       "      <td>9574</td>\n",
       "      <td>241800</td>\n",
       "      <td>8500000</td>\n",
       "      <td>72</td>\n",
       "      <td>I love this outfit so much #fashion #fashionti...</td>\n",
       "      <td>42</td>\n",
       "      <td>1642621639</td>\n",
       "      <td>fashion</td>\n",
       "      <td>fashion</td>\n",
       "    </tr>\n",
       "  </tbody>\n",
       "</table>\n",
       "</div>"
      ],
      "text/plain": [
       "   commentCount  diggCount  playCount  shareCount  followerCount  heartCount  \\\n",
       "0         33000    5100000   46600000       16400        2800000    58800000   \n",
       "1             0    5100000   33200000       21900         163500    10700000   \n",
       "2         54600    5000000   21300000       17100        3800000    81900000   \n",
       "3         18300    5000000   35100000       27300        6500000   120900000   \n",
       "4         15100    4900000   12900000        9574         241800     8500000   \n",
       "\n",
       "   videoCount                                        description  duration  \\\n",
       "0         318  Can you count how many layers are in this dres...        40   \n",
       "1         451  it had to be done ‚ùå #SmellLikeIrishSpring #O...        59   \n",
       "2         510  Reply to @wibowowowo_17 NGL this was tougher t...        17   \n",
       "3         458  al principio pens√© que se equivocaron de paqu...        75   \n",
       "4          72  I love this outfit so much #fashion #fashionti...        42   \n",
       "\n",
       "         time  hashtag category  \n",
       "0  1626635893  fashion  fashion  \n",
       "1  1648504875  fashion  fashion  \n",
       "2  1594775651  fashion  fashion  \n",
       "3  1655771466  fashion  fashion  \n",
       "4  1642621639  fashion  fashion  "
      ]
     },
     "execution_count": 57,
     "metadata": {},
     "output_type": "execute_result"
    }
   ],
   "source": [
    "tiktok.head()"
   ]
  },
  {
   "cell_type": "markdown",
   "id": "3e40fc42",
   "metadata": {},
   "source": [
    "#### Rename Columns"
   ]
  },
  {
   "cell_type": "code",
   "execution_count": 58,
   "id": "4d75bb81",
   "metadata": {},
   "outputs": [],
   "source": [
    "# rename columns\n",
    "tiktok.rename(columns = {'commentCount':'comments', 'diggCount':'likes',\n",
    "                     'playCount':'views', 'shareCount':'shares', 'time':'epoch',\n",
    "                    'followerCount': 'total_followers',\n",
    "                    'heartCount':'total_likes',\n",
    "                    'videoCount': 'total_videos'}, inplace=True)"
   ]
  },
  {
   "cell_type": "markdown",
   "id": "38ce6548",
   "metadata": {},
   "source": [
    "#### Convert Time"
   ]
  },
  {
   "cell_type": "code",
   "execution_count": 59,
   "id": "3ec8a645",
   "metadata": {},
   "outputs": [],
   "source": [
    "# convert epoch time\n",
    "tiktok['date'] = (pd.to_datetime(tiktok['epoch'], unit='s')\n",
    "                     .dt.tz_localize('utc')\n",
    "                     .dt.tz_convert('US/Central'))"
   ]
  },
  {
   "cell_type": "code",
   "execution_count": 60,
   "id": "4b2e7265",
   "metadata": {},
   "outputs": [],
   "source": [
    "tiktok.date = tiktok.date.astype(str).str.slice(0,10)"
   ]
  },
  {
   "cell_type": "markdown",
   "id": "74b66931",
   "metadata": {},
   "source": [
    "#### Convert Date"
   ]
  },
  {
   "cell_type": "code",
   "execution_count": 61,
   "id": "def95705",
   "metadata": {},
   "outputs": [],
   "source": [
    "tiktok.date = pd.to_datetime(tiktok.date)"
   ]
  },
  {
   "cell_type": "markdown",
   "id": "f9368eff",
   "metadata": {},
   "source": [
    "#### Drop Column"
   ]
  },
  {
   "cell_type": "code",
   "execution_count": 62,
   "id": "e539695e",
   "metadata": {},
   "outputs": [],
   "source": [
    "# drop column\n",
    "tiktok.drop(columns = 'epoch', inplace = True)"
   ]
  },
  {
   "cell_type": "markdown",
   "id": "8db7ebcc",
   "metadata": {},
   "source": [
    "#### Drop Duration ==0 Index"
   ]
  },
  {
   "cell_type": "code",
   "execution_count": 63,
   "id": "f98821fa",
   "metadata": {},
   "outputs": [],
   "source": [
    "# locate duration = 0 columns\n",
    "indexname = tiktok[tiktok.duration ==0].index\n",
    "# drop rows with duration = 0\n",
    "tiktok.drop(indexname, inplace=True)"
   ]
  },
  {
   "cell_type": "markdown",
   "id": "f3d37195",
   "metadata": {},
   "source": [
    "#### Create Condition Column"
   ]
  },
  {
   "cell_type": "code",
   "execution_count": 43,
   "id": "0ba3d9ef",
   "metadata": {},
   "outputs": [],
   "source": [
    "# create conditions\n",
    "conditions = [(tiktok['duration']<=15),\n",
    "              (tiktok['duration']>15)&(tiktok['duration']<=60),\n",
    "              (tiktok['duration']>60)&(tiktok['duration']<=180), \n",
    "              (tiktok['duration']>180)]\n",
    "# condition values\n",
    "values = ['Short: 0-15s', 'Medium: 15-60s', 'Long: 1-3mins', 'Extra-long: >3mins']\n",
    "# video duration\n",
    "tiktok['length'] = np.select(conditions, values)"
   ]
  },
  {
   "cell_type": "code",
   "execution_count": 44,
   "id": "adeb4ee3",
   "metadata": {},
   "outputs": [],
   "source": [
    "tiktok['category'].replace({'fashion': 'Fashion', 'fitness & lifestyle': 'Fitness & Lifestyle', 'food': 'Food', 'humor': 'Humor', 'political': 'Political'}, inplace=True)"
   ]
  },
  {
   "cell_type": "code",
   "execution_count": 46,
   "id": "8b9bf199",
   "metadata": {},
   "outputs": [],
   "source": [
    "def prep_tiktok(df):\n",
    "    '''\n",
    "    This funciton takes in messy tiktok data and return the cleaned version\n",
    "    '''\n",
    "    #df.drop(columns = 'Unnamed: 0', inplace = True)\n",
    "    df.rename(columns = {'commentCount':'comments', 'diggCount':'likes',\n",
    "                     'playCount':'views', 'shareCount':'shares', 'time':'epoch',\n",
    "                    'followerCount': 'total_followers',\n",
    "                    'heartCount':'total_likes',\n",
    "                    'videoCount': 'total_videos'}, inplace=True)\n",
    "    df['date'] = (pd.to_datetime(df['epoch'], unit='s')\n",
    "                     .dt.tz_localize('utc')\n",
    "                     .dt.tz_convert('US/Central'))\n",
    "    df['date'] = df['date'].astype(str).str.slice(0,10)\n",
    "    # convert date\n",
    "    df.date = pd.to_datetime(df.date)\n",
    "    \n",
    "    df.drop(columns = 'epoch', inplace = True)\n",
    "    # locate duration = 0 columns\n",
    "    indexname = df[df.duration ==0].index\n",
    "    # drop rows with duration = 0\n",
    "    df.drop(indexname, inplace=True)\n",
    "    \n",
    "    # df.set_index('date', inplace=True)\n",
    "    # df.sort_index()\n",
    "    df['category'].replace({\n",
    "        'fashion': 'Fashion',\n",
    "        'fitness & lifestyle': 'Fitness & Lifestyle',\n",
    "        'food': 'Food',\n",
    "        'humor': 'Humor',\n",
    "        'political': 'Political'}, inplace=True)\n",
    "    # create conditions\n",
    "    conditions = [(df['duration']<=15),\n",
    "              (df['duration']>15)&(df['duration']<=60),\n",
    "              (df['duration']>60)&(df['duration']<=180), \n",
    "              (df['duration']>180)]\n",
    "    values = ['Short: 0-15s', 'Medium: 15-60s', 'Long: 1-3mins', 'Extra-long: >3mins']\n",
    "    # create length column using conditions\n",
    "    df['length'] = np.select(conditions, values)\n",
    "\n",
    "    return df"
   ]
  }
 ],
 "metadata": {
  "kernelspec": {
   "display_name": "Python 3 (ipykernel)",
   "language": "python",
   "name": "python3"
  },
  "language_info": {
   "codemirror_mode": {
    "name": "ipython",
    "version": 3
   },
   "file_extension": ".py",
   "mimetype": "text/x-python",
   "name": "python",
   "nbconvert_exporter": "python",
   "pygments_lexer": "ipython3",
   "version": "3.9.12"
  }
 },
 "nbformat": 4,
 "nbformat_minor": 5
}
