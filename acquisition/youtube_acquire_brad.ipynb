{
 "cells": [
  {
   "cell_type": "markdown",
   "id": "e41a0b06",
   "metadata": {
    "ExecuteTime": {
     "end_time": "2022-09-16T16:15:38.450488Z",
     "start_time": "2022-09-16T16:15:38.447746Z"
    }
   },
   "source": [
    "pip install youtube-search-python"
   ]
  },
  {
   "cell_type": "code",
   "execution_count": 1,
   "id": "62f593b1",
   "metadata": {
    "ExecuteTime": {
     "end_time": "2022-09-16T16:16:48.741381Z",
     "start_time": "2022-09-16T16:16:48.734233Z"
    }
   },
   "outputs": [],
   "source": [
    "from youtubesearchpython import Search, Hashtag\n",
    "import json\n",
    "import pandas as pd"
   ]
  },
  {
   "cell_type": "code",
   "execution_count": 22,
   "id": "45a22e6d",
   "metadata": {
    "ExecuteTime": {
     "end_time": "2022-09-16T16:42:56.053420Z",
     "start_time": "2022-09-16T16:42:54.239501Z"
    }
   },
   "outputs": [],
   "source": [
    "hashtag = Hashtag('memes', limit = 5000)\n",
    "\n",
    "result = []\n",
    "result.append(hashtag.result())"
   ]
  },
  {
   "cell_type": "code",
   "execution_count": 25,
   "id": "d6d885e0",
   "metadata": {
    "ExecuteTime": {
     "end_time": "2022-09-16T16:43:32.950781Z",
     "start_time": "2022-09-16T16:43:32.931749Z"
    }
   },
   "outputs": [],
   "source": [
    "stats=[]\n",
    "for i in range(0,len(result[0]['result'])):\n",
    "    info={}\n",
    "    info['title']=result[0]['result'][i]['title']\n",
    "    info['publishedTime']=result[0]['result'][i]['publishedTime']\n",
    "    info['duration']=result[0]['result'][i]['duration']\n",
    "    info['viewCount']=result[0]['result'][i]['viewCount']['text']\n",
    "    stats.append(info)\n",
    "memes = pd.DataFrame(stats)"
   ]
  },
  {
   "cell_type": "code",
   "execution_count": 27,
   "id": "21802dc9",
   "metadata": {
    "ExecuteTime": {
     "end_time": "2022-09-16T16:46:39.995684Z",
     "start_time": "2022-09-16T16:46:39.902609Z"
    }
   },
   "outputs": [],
   "source": [
    "memes.to_csv('yt_memes.csv')"
   ]
  },
  {
   "cell_type": "code",
   "execution_count": 29,
   "id": "00e44243",
   "metadata": {
    "ExecuteTime": {
     "end_time": "2022-09-16T16:52:46.790971Z",
     "start_time": "2022-09-16T16:52:46.783545Z"
    }
   },
   "outputs": [
    {
     "data": {
      "text/plain": [
       "(60, 4)"
      ]
     },
     "execution_count": 29,
     "metadata": {},
     "output_type": "execute_result"
    }
   ],
   "source": [
    "memes.shape"
   ]
  },
  {
   "cell_type": "code",
   "execution_count": 38,
   "id": "18d5f3b7",
   "metadata": {
    "ExecuteTime": {
     "end_time": "2022-09-16T16:57:39.889493Z",
     "start_time": "2022-09-16T16:57:39.883353Z"
    }
   },
   "outputs": [
    {
     "data": {
      "text/plain": [
       "60"
      ]
     },
     "execution_count": 38,
     "metadata": {},
     "output_type": "execute_result"
    }
   ],
   "source": [
    "len(result[0]['result'])"
   ]
  },
  {
   "cell_type": "markdown",
   "id": "11692ccc",
   "metadata": {},
   "source": [
    "## Getting multiple pages"
   ]
  },
  {
   "cell_type": "code",
   "execution_count": 60,
   "id": "6baec0ea",
   "metadata": {
    "ExecuteTime": {
     "end_time": "2022-09-16T17:33:39.383116Z",
     "start_time": "2022-09-16T17:33:31.265256Z"
    }
   },
   "outputs": [],
   "source": [
    "hashtag = Hashtag('foodie', limit = 5000)\n",
    "result = []\n",
    "i=1\n",
    "while (i<=100):\n",
    "    result.append(hashtag.result()['result'])\n",
    "    hashtag.next()\n",
    "    i+=1"
   ]
  },
  {
   "cell_type": "code",
   "execution_count": 61,
   "id": "51f88b7f",
   "metadata": {
    "ExecuteTime": {
     "end_time": "2022-09-16T17:33:39.401965Z",
     "start_time": "2022-09-16T17:33:39.386727Z"
    }
   },
   "outputs": [
    {
     "data": {
      "text/plain": [
       "100"
      ]
     },
     "execution_count": 61,
     "metadata": {},
     "output_type": "execute_result"
    }
   ],
   "source": [
    "# we got 100 pages\n",
    "len(result)"
   ]
  },
  {
   "cell_type": "code",
   "execution_count": 62,
   "id": "cdccce9e",
   "metadata": {
    "ExecuteTime": {
     "end_time": "2022-09-16T17:33:41.411014Z",
     "start_time": "2022-09-16T17:33:41.383443Z"
    }
   },
   "outputs": [
    {
     "data": {
      "text/plain": [
       "60"
      ]
     },
     "execution_count": 62,
     "metadata": {},
     "output_type": "execute_result"
    }
   ],
   "source": [
    "# each page has 60 items\n",
    "len(result[0])"
   ]
  },
  {
   "cell_type": "code",
   "execution_count": 63,
   "id": "d947587e",
   "metadata": {
    "ExecuteTime": {
     "end_time": "2022-09-16T17:33:43.382324Z",
     "start_time": "2022-09-16T17:33:43.375215Z"
    }
   },
   "outputs": [
    {
     "data": {
      "text/plain": [
       "dict_keys(['type', 'id', 'title', 'publishedTime', 'duration', 'viewCount', 'thumbnails', 'richThumbnail', 'descriptionSnippet', 'channel', 'accessibility', 'link', 'shelfTitle'])"
      ]
     },
     "execution_count": 63,
     "metadata": {},
     "output_type": "execute_result"
    }
   ],
   "source": [
    "result[0][1].keys()"
   ]
  },
  {
   "cell_type": "code",
   "execution_count": 64,
   "id": "f221e3da",
   "metadata": {
    "ExecuteTime": {
     "end_time": "2022-09-16T17:33:45.947883Z",
     "start_time": "2022-09-16T17:33:45.917464Z"
    }
   },
   "outputs": [],
   "source": [
    "stats=[]\n",
    "for j in range(0,len(result)):\n",
    "    for i in range(0, len(result[j])):\n",
    "        info={}\n",
    "        info['title']=result[j][i]['title']\n",
    "        info['publishedTime']=result[j][i]['publishedTime']\n",
    "        info['duration']=result[j][i]['duration']\n",
    "        info['viewCount']=result[j][i]['viewCount']['text']\n",
    "        stats.append(info)\n",
    "memes = pd.DataFrame(stats)"
   ]
  },
  {
   "cell_type": "code",
   "execution_count": 65,
   "id": "421a67c0",
   "metadata": {
    "ExecuteTime": {
     "end_time": "2022-09-16T17:33:47.551207Z",
     "start_time": "2022-09-16T17:33:47.545785Z"
    }
   },
   "outputs": [
    {
     "data": {
      "text/plain": [
       "(550, 4)"
      ]
     },
     "execution_count": 65,
     "metadata": {},
     "output_type": "execute_result"
    }
   ],
   "source": [
    "memes.shape"
   ]
  },
  {
   "cell_type": "code",
   "execution_count": 66,
   "id": "4b260e68",
   "metadata": {
    "ExecuteTime": {
     "end_time": "2022-09-16T17:33:49.878420Z",
     "start_time": "2022-09-16T17:33:49.844530Z"
    }
   },
   "outputs": [
    {
     "data": {
      "text/html": [
       "<div>\n",
       "<style scoped>\n",
       "    .dataframe tbody tr th:only-of-type {\n",
       "        vertical-align: middle;\n",
       "    }\n",
       "\n",
       "    .dataframe tbody tr th {\n",
       "        vertical-align: top;\n",
       "    }\n",
       "\n",
       "    .dataframe thead th {\n",
       "        text-align: right;\n",
       "    }\n",
       "</style>\n",
       "<table border=\"1\" class=\"dataframe\">\n",
       "  <thead>\n",
       "    <tr style=\"text-align: right;\">\n",
       "      <th></th>\n",
       "      <th>title</th>\n",
       "      <th>publishedTime</th>\n",
       "      <th>duration</th>\n",
       "      <th>viewCount</th>\n",
       "    </tr>\n",
       "  </thead>\n",
       "  <tbody>\n",
       "    <tr>\n",
       "      <th>0</th>\n",
       "      <td>Awesome Food Compilation | Super Delicious Mea...</td>\n",
       "      <td>5 months ago</td>\n",
       "      <td>8:11</td>\n",
       "      <td>194,300 views</td>\n",
       "    </tr>\n",
       "    <tr>\n",
       "      <th>1</th>\n",
       "      <td>Have a great day buddy! #foodie</td>\n",
       "      <td>22 hours ago</td>\n",
       "      <td>0:23</td>\n",
       "      <td>3,446 views</td>\n",
       "    </tr>\n",
       "    <tr>\n",
       "      <th>2</th>\n",
       "      <td>Spicy pepperoni, Buffalo mozzarella, pesto, an...</td>\n",
       "      <td>3 months ago</td>\n",
       "      <td>0:58</td>\n",
       "      <td>2,516,671 views</td>\n",
       "    </tr>\n",
       "    <tr>\n",
       "      <th>3</th>\n",
       "      <td>Matka Maggi #cooking #short #rangerscookingsho...</td>\n",
       "      <td>1 day ago</td>\n",
       "      <td>1:01</td>\n",
       "      <td>20,132 views</td>\n",
       "    </tr>\n",
       "    <tr>\n",
       "      <th>4</th>\n",
       "      <td>CANT WAIT TO TELL YOU! 🫣 #donut #donutshop #ve...</td>\n",
       "      <td>1 day ago</td>\n",
       "      <td>0:16</td>\n",
       "      <td>122,619 views</td>\n",
       "    </tr>\n",
       "    <tr>\n",
       "      <th>...</th>\n",
       "      <td>...</td>\n",
       "      <td>...</td>\n",
       "      <td>...</td>\n",
       "      <td>...</td>\n",
       "    </tr>\n",
       "    <tr>\n",
       "      <th>545</th>\n",
       "      <td>Y’all gotta try my “Kicken Sticken Chicken” re...</td>\n",
       "      <td>14 hours ago</td>\n",
       "      <td>0:15</td>\n",
       "      <td>1,401 views</td>\n",
       "    </tr>\n",
       "    <tr>\n",
       "      <th>546</th>\n",
       "      <td>Lunch box ideas for kids 😋!Day-28!30days chall...</td>\n",
       "      <td>1 day ago</td>\n",
       "      <td>0:16</td>\n",
       "      <td>13,030 views</td>\n",
       "    </tr>\n",
       "    <tr>\n",
       "      <th>547</th>\n",
       "      <td>Veg pocket 😋😍#shorts #recipe #kitchen #foodie</td>\n",
       "      <td>2 days ago</td>\n",
       "      <td>0:18</td>\n",
       "      <td>7,191 views</td>\n",
       "    </tr>\n",
       "    <tr>\n",
       "      <th>548</th>\n",
       "      <td>Turkish ice-cream tricks😍😅#foodblogger #youtub...</td>\n",
       "      <td>3 days ago</td>\n",
       "      <td>0:15</td>\n",
       "      <td>9,362 views</td>\n",
       "    </tr>\n",
       "    <tr>\n",
       "      <th>549</th>\n",
       "      <td>super human bhajiyawale 😜😝😛😋🤪#shorts #youtubes...</td>\n",
       "      <td>1 day ago</td>\n",
       "      <td>0:43</td>\n",
       "      <td>373 views</td>\n",
       "    </tr>\n",
       "  </tbody>\n",
       "</table>\n",
       "<p>550 rows × 4 columns</p>\n",
       "</div>"
      ],
      "text/plain": [
       "                                                 title publishedTime duration  \\\n",
       "0    Awesome Food Compilation | Super Delicious Mea...  5 months ago     8:11   \n",
       "1                      Have a great day buddy! #foodie  22 hours ago     0:23   \n",
       "2    Spicy pepperoni, Buffalo mozzarella, pesto, an...  3 months ago     0:58   \n",
       "3    Matka Maggi #cooking #short #rangerscookingsho...     1 day ago     1:01   \n",
       "4    CANT WAIT TO TELL YOU! 🫣 #donut #donutshop #ve...     1 day ago     0:16   \n",
       "..                                                 ...           ...      ...   \n",
       "545  Y’all gotta try my “Kicken Sticken Chicken” re...  14 hours ago     0:15   \n",
       "546  Lunch box ideas for kids 😋!Day-28!30days chall...     1 day ago     0:16   \n",
       "547      Veg pocket 😋😍#shorts #recipe #kitchen #foodie    2 days ago     0:18   \n",
       "548  Turkish ice-cream tricks😍😅#foodblogger #youtub...    3 days ago     0:15   \n",
       "549  super human bhajiyawale 😜😝😛😋🤪#shorts #youtubes...     1 day ago     0:43   \n",
       "\n",
       "           viewCount  \n",
       "0      194,300 views  \n",
       "1        3,446 views  \n",
       "2    2,516,671 views  \n",
       "3       20,132 views  \n",
       "4      122,619 views  \n",
       "..               ...  \n",
       "545      1,401 views  \n",
       "546     13,030 views  \n",
       "547      7,191 views  \n",
       "548      9,362 views  \n",
       "549        373 views  \n",
       "\n",
       "[550 rows x 4 columns]"
      ]
     },
     "execution_count": 66,
     "metadata": {},
     "output_type": "execute_result"
    }
   ],
   "source": [
    "memes"
   ]
  },
  {
   "cell_type": "code",
   "execution_count": 68,
   "id": "415ed48c",
   "metadata": {
    "ExecuteTime": {
     "end_time": "2022-09-16T18:24:20.753204Z",
     "start_time": "2022-09-16T18:24:20.718600Z"
    }
   },
   "outputs": [],
   "source": [
    "memes.to_csv('yt_foodie.csv')"
   ]
  },
  {
   "cell_type": "code",
   "execution_count": 69,
   "id": "554a1093",
   "metadata": {
    "ExecuteTime": {
     "end_time": "2022-09-16T18:24:39.916427Z",
     "start_time": "2022-09-16T18:24:33.163436Z"
    }
   },
   "outputs": [],
   "source": [
    "hashtag = Hashtag('memes', limit = 5000)\n",
    "result = []\n",
    "i=1\n",
    "while (i<=100):\n",
    "    result.append(hashtag.result()['result'])\n",
    "    hashtag.next()\n",
    "    i+=1"
   ]
  },
  {
   "cell_type": "code",
   "execution_count": 70,
   "id": "35a25472",
   "metadata": {
    "ExecuteTime": {
     "end_time": "2022-09-16T18:24:46.230993Z",
     "start_time": "2022-09-16T18:24:46.212622Z"
    }
   },
   "outputs": [],
   "source": [
    "stats=[]\n",
    "for j in range(0,len(result)):\n",
    "    for i in range(0, len(result[j])):\n",
    "        info={}\n",
    "        info['title']=result[j][i]['title']\n",
    "        info['publishedTime']=result[j][i]['publishedTime']\n",
    "        info['duration']=result[j][i]['duration']\n",
    "        info['viewCount']=result[j][i]['viewCount']['text']\n",
    "        stats.append(info)\n",
    "memes = pd.DataFrame(stats)"
   ]
  },
  {
   "cell_type": "code",
   "execution_count": 71,
   "id": "937367ae",
   "metadata": {
    "ExecuteTime": {
     "end_time": "2022-09-16T18:25:00.979523Z",
     "start_time": "2022-09-16T18:25:00.961679Z"
    }
   },
   "outputs": [],
   "source": [
    "memes.to_csv('yt_memes.csv')"
   ]
  },
  {
   "cell_type": "markdown",
   "id": "c98e76a3",
   "metadata": {},
   "source": [
    "## Fitness"
   ]
  },
  {
   "cell_type": "code",
   "execution_count": 77,
   "id": "369f731a",
   "metadata": {
    "ExecuteTime": {
     "end_time": "2022-09-16T18:31:12.282472Z",
     "start_time": "2022-09-16T18:31:04.351500Z"
    }
   },
   "outputs": [],
   "source": [
    "hashtag = Hashtag('lifestyle', limit = 5000)\n",
    "result = []\n",
    "i=1\n",
    "while (i<=100):\n",
    "    result.append(hashtag.result()['result'])\n",
    "    hashtag.next()\n",
    "    i+=1\n",
    "    stats=[]\n",
    "    \n",
    "for j in range(0,len(result)):\n",
    "    for i in range(0, len(result[j])):\n",
    "        info={}\n",
    "        info['title']=result[j][i]['title']\n",
    "        info['publishedTime']=result[j][i]['publishedTime']\n",
    "        info['duration']=result[j][i]['duration']\n",
    "        info['viewCount']=result[j][i]['viewCount']['text']\n",
    "        stats.append(info)\n",
    "lifestyle = pd.DataFrame(stats)\n",
    "\n",
    "lifestyle.to_csv('yt_lifestyle.csv')"
   ]
  },
  {
   "cell_type": "code",
   "execution_count": 72,
   "id": "39e83bdb",
   "metadata": {
    "ExecuteTime": {
     "end_time": "2022-09-16T18:26:43.929801Z",
     "start_time": "2022-09-16T18:26:33.603714Z"
    }
   },
   "outputs": [],
   "source": [
    "hashtag = Hashtag('fitness', limit = 5000)\n",
    "result = []\n",
    "i=1\n",
    "while (i<=100):\n",
    "    result.append(hashtag.result()['result'])\n",
    "    hashtag.next()\n",
    "    i+=1\n",
    "    stats=[]\n",
    "    \n",
    "for j in range(0,len(result)):\n",
    "    for i in range(0, len(result[j])):\n",
    "        info={}\n",
    "        info['title']=result[j][i]['title']\n",
    "        info['publishedTime']=result[j][i]['publishedTime']\n",
    "        info['duration']=result[j][i]['duration']\n",
    "        info['viewCount']=result[j][i]['viewCount']['text']\n",
    "        stats.append(info)\n",
    "fitness = pd.DataFrame(stats)\n",
    "\n",
    "fitness.to_csv('yt_fitness.csv')"
   ]
  },
  {
   "cell_type": "code",
   "execution_count": 92,
   "id": "c4bb730c",
   "metadata": {
    "ExecuteTime": {
     "end_time": "2022-09-16T18:38:35.129930Z",
     "start_time": "2022-09-16T18:38:26.057486Z"
    }
   },
   "outputs": [],
   "source": [
    "hashtag = Hashtag('workout', limit = 5000)\n",
    "result = []\n",
    "i=1\n",
    "while (i<=100):\n",
    "    result.append(hashtag.result()['result'])\n",
    "    hashtag.next()\n",
    "    i+=1\n",
    "    stats=[]\n",
    "    \n",
    "for j in range(0,len(result)):\n",
    "    for i in range(0, len(result[j])):\n",
    "        info={}\n",
    "        info['title']=result[j][i]['title']\n",
    "        info['publishedTime']=result[j][i]['publishedTime']\n",
    "        info['duration']=result[j][i]['duration']\n",
    "        info['viewCount']=result[j][i]['viewCount']['text']\n",
    "        stats.append(info)\n",
    "workout = pd.DataFrame(stats)\n",
    "\n",
    "workout.to_csv('yt_workout.csv')"
   ]
  },
  {
   "cell_type": "code",
   "execution_count": 104,
   "id": "6dc33aaf",
   "metadata": {
    "ExecuteTime": {
     "end_time": "2022-09-16T18:45:23.741031Z",
     "start_time": "2022-09-16T18:45:14.158827Z"
    }
   },
   "outputs": [],
   "source": [
    "hashtag = Hashtag('fitfam', limit = 5000)\n",
    "result = []\n",
    "i=1\n",
    "while (i<=100):\n",
    "    result.append(hashtag.result()['result'])\n",
    "    hashtag.next()\n",
    "    i+=1\n",
    "    stats=[]\n",
    "    \n",
    "for j in range(0,len(result)):\n",
    "    for i in range(0, len(result[j])):\n",
    "        info={}\n",
    "        info['title']=result[j][i]['title']\n",
    "        info['publishedTime']=result[j][i]['publishedTime']\n",
    "        info['duration']=result[j][i]['duration']\n",
    "        info['viewCount']=result[j][i]['viewCount']['text']\n",
    "        stats.append(info)\n",
    "fitfam = pd.DataFrame(stats)\n",
    "\n",
    "fitfam.to_csv('yt_fitfam.csv')"
   ]
  },
  {
   "cell_type": "code",
   "execution_count": 88,
   "id": "1b76bd74",
   "metadata": {
    "ExecuteTime": {
     "end_time": "2022-09-16T18:35:49.617536Z",
     "start_time": "2022-09-16T18:35:39.328210Z"
    }
   },
   "outputs": [],
   "source": [
    "hashtag = Hashtag('health', limit = 5000)\n",
    "result = []\n",
    "i=1\n",
    "while (i<=100):\n",
    "    result.append(hashtag.result()['result'])\n",
    "    hashtag.next()\n",
    "    i+=1\n",
    "    stats=[]\n",
    "    \n",
    "for j in range(0,len(result)):\n",
    "    for i in range(0, len(result[j])):\n",
    "        info={}\n",
    "        info['title']=result[j][i]['title']\n",
    "        info['publishedTime']=result[j][i]['publishedTime']\n",
    "        info['duration']=result[j][i]['duration']\n",
    "        info['viewCount']=result[j][i]['viewCount']['text']\n",
    "        stats.append(info)\n",
    "health = pd.DataFrame(stats)\n",
    "\n",
    "health.to_csv('yt_health.csv')"
   ]
  },
  {
   "cell_type": "code",
   "execution_count": 100,
   "id": "655d1bfb",
   "metadata": {
    "ExecuteTime": {
     "end_time": "2022-09-16T18:43:20.441102Z",
     "start_time": "2022-09-16T18:43:13.467413Z"
    }
   },
   "outputs": [],
   "source": [
    "hashtag = Hashtag('fitnessmotivation', limit = 5000)\n",
    "result = []\n",
    "i=1\n",
    "while (i<=100):\n",
    "    result.append(hashtag.result()['result'])\n",
    "    hashtag.next()\n",
    "    i+=1\n",
    "    stats=[]\n",
    "    \n",
    "for j in range(0,len(result)):\n",
    "    for i in range(0, len(result[j])):\n",
    "        info={}\n",
    "        info['title']=result[j][i]['title']\n",
    "        info['publishedTime']=result[j][i]['publishedTime']\n",
    "        info['duration']=result[j][i]['duration']\n",
    "        info['viewCount']=result[j][i]['viewCount']['text']\n",
    "        stats.append(info)\n",
    "fitnessmotivation = pd.DataFrame(stats)\n",
    "\n",
    "fitnessmotivation.to_csv('yt_fitnessmotivation.csv')"
   ]
  },
  {
   "cell_type": "code",
   "execution_count": 96,
   "id": "5d7d47eb",
   "metadata": {
    "ExecuteTime": {
     "end_time": "2022-09-16T18:40:53.970421Z",
     "start_time": "2022-09-16T18:40:44.634028Z"
    }
   },
   "outputs": [],
   "source": [
    "hashtag = Hashtag('fit', limit = 5000)\n",
    "result = []\n",
    "i=1\n",
    "while (i<=100):\n",
    "    result.append(hashtag.result()['result'])\n",
    "    hashtag.next()\n",
    "    i+=1\n",
    "    stats=[]\n",
    "    \n",
    "for j in range(0,len(result)):\n",
    "    for i in range(0, len(result[j])):\n",
    "        info={}\n",
    "        info['title']=result[j][i]['title']\n",
    "        info['publishedTime']=result[j][i]['publishedTime']\n",
    "        info['duration']=result[j][i]['duration']\n",
    "        info['viewCount']=result[j][i]['viewCount']['text']\n",
    "        stats.append(info)\n",
    "fit = pd.DataFrame(stats)\n",
    "\n",
    "fit.to_csv('yt_fit.csv')"
   ]
  },
  {
   "cell_type": "code",
   "execution_count": 108,
   "id": "74bc992f",
   "metadata": {
    "ExecuteTime": {
     "end_time": "2022-09-16T18:47:23.422664Z",
     "start_time": "2022-09-16T18:47:22.647460Z"
    }
   },
   "outputs": [],
   "source": [
    "hashtag = Hashtag('fitnessgoals', limit = 5000)\n",
    "result = []\n",
    "i=1\n",
    "while (i<=100):\n",
    "    result.append(hashtag.result()['result'])\n",
    "    hashtag.next()\n",
    "    i+=1\n",
    "    stats=[]\n",
    "    \n",
    "for j in range(0,len(result)):\n",
    "    for i in range(0, len(result[j])):\n",
    "        info={}\n",
    "        info['title']=result[j][i]['title']\n",
    "        info['publishedTime']=result[j][i]['publishedTime']\n",
    "        info['duration']=result[j][i]['duration']\n",
    "        info['viewCount']=result[j][i]['viewCount']['text']\n",
    "        stats.append(info)\n",
    "fitnessgoals = pd.DataFrame(stats)\n",
    "\n",
    "fitnessgoals.to_csv('yt_fitnessgoals.csv')"
   ]
  },
  {
   "cell_type": "code",
   "execution_count": 112,
   "id": "f2c85731",
   "metadata": {
    "ExecuteTime": {
     "end_time": "2022-09-16T18:50:50.379570Z",
     "start_time": "2022-09-16T18:50:47.731113Z"
    }
   },
   "outputs": [],
   "source": [
    "hashtag = Hashtag('fitnessgirl', limit = 5000)\n",
    "result = []\n",
    "i=1\n",
    "while (i<=100):\n",
    "    result.append(hashtag.result()['result'])\n",
    "    hashtag.next()\n",
    "    i+=1\n",
    "    stats=[]\n",
    "    \n",
    "for j in range(0,len(result)):\n",
    "    for i in range(0, len(result[j])):\n",
    "        info={}\n",
    "        info['title']=result[j][i]['title']\n",
    "        info['publishedTime']=result[j][i]['publishedTime']\n",
    "        info['duration']=result[j][i]['duration']\n",
    "        info['viewCount']=result[j][i]['viewCount']['text']\n",
    "        stats.append(info)\n",
    "fitnessgirl = pd.DataFrame(stats)\n",
    "\n",
    "fitnessgirl.to_csv('yt_fitnessgirl.csv')"
   ]
  },
  {
   "cell_type": "code",
   "execution_count": 82,
   "id": "beba8cab",
   "metadata": {
    "ExecuteTime": {
     "end_time": "2022-09-16T18:33:24.596572Z",
     "start_time": "2022-09-16T18:33:14.449257Z"
    }
   },
   "outputs": [],
   "source": [
    "hashtag = Hashtag('gym', limit = 5000)\n",
    "result = []\n",
    "i=1\n",
    "while (i<=100):\n",
    "    result.append(hashtag.result()['result'])\n",
    "    hashtag.next()\n",
    "    i+=1\n",
    "    stats=[]\n",
    "    \n",
    "for j in range(0,len(result)):\n",
    "    for i in range(0, len(result[j])):\n",
    "        info={}\n",
    "        info['title']=result[j][i]['title']\n",
    "        info['publishedTime']=result[j][i]['publishedTime']\n",
    "        info['duration']=result[j][i]['duration']\n",
    "        info['viewCount']=result[j][i]['viewCount']['text']\n",
    "        stats.append(info)\n",
    "gym = pd.DataFrame(stats)\n",
    "\n",
    "gym.to_csv('yt_gym.csv')"
   ]
  },
  {
   "cell_type": "markdown",
   "id": "194f254a",
   "metadata": {},
   "source": [
    "## Fashion"
   ]
  },
  {
   "cell_type": "code",
   "execution_count": 101,
   "id": "11bef321",
   "metadata": {
    "ExecuteTime": {
     "end_time": "2022-09-16T18:43:50.948462Z",
     "start_time": "2022-09-16T18:43:42.326742Z"
    }
   },
   "outputs": [],
   "source": [
    "hashtag = Hashtag('photooftheday', limit = 5000)\n",
    "result = []\n",
    "i=1\n",
    "while (i<=100):\n",
    "    result.append(hashtag.result()['result'])\n",
    "    hashtag.next()\n",
    "    i+=1\n",
    "    stats=[]\n",
    "    \n",
    "for j in range(0,len(result)):\n",
    "    for i in range(0, len(result[j])):\n",
    "        info={}\n",
    "        info['title']=result[j][i]['title']\n",
    "        info['publishedTime']=result[j][i]['publishedTime']\n",
    "        info['duration']=result[j][i]['duration']\n",
    "        info['viewCount']=result[j][i]['viewCount']['text']\n",
    "        stats.append(info)\n",
    "photooftheday = pd.DataFrame(stats)\n",
    "\n",
    "photooftheday.to_csv('yt_photooftheday.csv')"
   ]
  },
  {
   "cell_type": "code",
   "execution_count": 73,
   "id": "b7beb4a2",
   "metadata": {
    "ExecuteTime": {
     "end_time": "2022-09-16T18:27:54.156303Z",
     "start_time": "2022-09-16T18:27:45.116618Z"
    }
   },
   "outputs": [],
   "source": [
    "hashtag = Hashtag('fashion', limit = 5000)\n",
    "result = []\n",
    "i=1\n",
    "while (i<=100):\n",
    "    result.append(hashtag.result()['result'])\n",
    "    hashtag.next()\n",
    "    i+=1\n",
    "    stats=[]\n",
    "    \n",
    "for j in range(0,len(result)):\n",
    "    for i in range(0, len(result[j])):\n",
    "        info={}\n",
    "        info['title']=result[j][i]['title']\n",
    "        info['publishedTime']=result[j][i]['publishedTime']\n",
    "        info['duration']=result[j][i]['duration']\n",
    "        info['viewCount']=result[j][i]['viewCount']['text']\n",
    "        stats.append(info)\n",
    "fashion = pd.DataFrame(stats)\n",
    "\n",
    "fashion.to_csv('yt_fashion.csv')"
   ]
  },
  {
   "cell_type": "code",
   "execution_count": 89,
   "id": "a5a73d75",
   "metadata": {
    "ExecuteTime": {
     "end_time": "2022-09-16T18:36:17.985335Z",
     "start_time": "2022-09-16T18:36:09.843688Z"
    }
   },
   "outputs": [],
   "source": [
    "hashtag = Hashtag('style', limit = 5000)\n",
    "result = []\n",
    "i=1\n",
    "while (i<=100):\n",
    "    result.append(hashtag.result()['result'])\n",
    "    hashtag.next()\n",
    "    i+=1\n",
    "    stats=[]\n",
    "    \n",
    "for j in range(0,len(result)):\n",
    "    for i in range(0, len(result[j])):\n",
    "        info={}\n",
    "        info['title']=result[j][i]['title']\n",
    "        info['publishedTime']=result[j][i]['publishedTime']\n",
    "        info['duration']=result[j][i]['duration']\n",
    "        info['viewCount']=result[j][i]['viewCount']['text']\n",
    "        stats.append(info)\n",
    "style = pd.DataFrame(stats)\n",
    "\n",
    "style.to_csv('yt_style.csv')"
   ]
  },
  {
   "cell_type": "code",
   "execution_count": 93,
   "id": "25fd8f16",
   "metadata": {
    "ExecuteTime": {
     "end_time": "2022-09-16T18:39:05.678914Z",
     "start_time": "2022-09-16T18:38:56.835397Z"
    }
   },
   "outputs": [],
   "source": [
    "hashtag = Hashtag('fashionblogger', limit = 5000)\n",
    "result = []\n",
    "i=1\n",
    "while (i<=100):\n",
    "    result.append(hashtag.result()['result'])\n",
    "    hashtag.next()\n",
    "    i+=1\n",
    "    stats=[]\n",
    "    \n",
    "for j in range(0,len(result)):\n",
    "    for i in range(0, len(result[j])):\n",
    "        info={}\n",
    "        info['title']=result[j][i]['title']\n",
    "        info['publishedTime']=result[j][i]['publishedTime']\n",
    "        info['duration']=result[j][i]['duration']\n",
    "        info['viewCount']=result[j][i]['viewCount']['text']\n",
    "        stats.append(info)\n",
    "fashionblogger = pd.DataFrame(stats)\n",
    "\n",
    "fashionblogger.to_csv('yt_fashionblogger.csv')"
   ]
  },
  {
   "cell_type": "code",
   "execution_count": 105,
   "id": "43d76c66",
   "metadata": {
    "ExecuteTime": {
     "end_time": "2022-09-16T18:45:51.524343Z",
     "start_time": "2022-09-16T18:45:39.263162Z"
    }
   },
   "outputs": [],
   "source": [
    "hashtag = Hashtag('makeup', limit = 5000)\n",
    "result = []\n",
    "i=1\n",
    "while (i<=100):\n",
    "    result.append(hashtag.result()['result'])\n",
    "    hashtag.next()\n",
    "    i+=1\n",
    "    stats=[]\n",
    "    \n",
    "for j in range(0,len(result)):\n",
    "    for i in range(0, len(result[j])):\n",
    "        info={}\n",
    "        info['title']=result[j][i]['title']\n",
    "        info['publishedTime']=result[j][i]['publishedTime']\n",
    "        info['duration']=result[j][i]['duration']\n",
    "        info['viewCount']=result[j][i]['viewCount']['text']\n",
    "        stats.append(info)\n",
    "makeup = pd.DataFrame(stats)\n",
    "\n",
    "makeup.to_csv('yt_makeup.csv')"
   ]
  },
  {
   "cell_type": "code",
   "execution_count": 97,
   "id": "2ab3261b",
   "metadata": {
    "ExecuteTime": {
     "end_time": "2022-09-16T18:41:29.505148Z",
     "start_time": "2022-09-16T18:41:20.783124Z"
    }
   },
   "outputs": [],
   "source": [
    "hashtag = Hashtag('model', limit = 5000)\n",
    "result = []\n",
    "i=1\n",
    "while (i<=100):\n",
    "    result.append(hashtag.result()['result'])\n",
    "    hashtag.next()\n",
    "    i+=1\n",
    "    stats=[]\n",
    "    \n",
    "for j in range(0,len(result)):\n",
    "    for i in range(0, len(result[j])):\n",
    "        info={}\n",
    "        info['title']=result[j][i]['title']\n",
    "        info['publishedTime']=result[j][i]['publishedTime']\n",
    "        info['duration']=result[j][i]['duration']\n",
    "        info['viewCount']=result[j][i]['viewCount']['text']\n",
    "        stats.append(info)\n",
    "model = pd.DataFrame(stats)\n",
    "\n",
    "model.to_csv('yt_model.csv')"
   ]
  },
  {
   "cell_type": "code",
   "execution_count": 78,
   "id": "dfcef1de",
   "metadata": {
    "ExecuteTime": {
     "end_time": "2022-09-16T18:31:46.335973Z",
     "start_time": "2022-09-16T18:31:37.232831Z"
    }
   },
   "outputs": [],
   "source": [
    "hashtag = Hashtag('beauty', limit = 5000)\n",
    "result = []\n",
    "i=1\n",
    "while (i<=100):\n",
    "    result.append(hashtag.result()['result'])\n",
    "    hashtag.next()\n",
    "    i+=1\n",
    "    stats=[]\n",
    "    \n",
    "for j in range(0,len(result)):\n",
    "    for i in range(0, len(result[j])):\n",
    "        info={}\n",
    "        info['title']=result[j][i]['title']\n",
    "        info['publishedTime']=result[j][i]['publishedTime']\n",
    "        info['duration']=result[j][i]['duration']\n",
    "        info['viewCount']=result[j][i]['viewCount']['text']\n",
    "        stats.append(info)\n",
    "beauty = pd.DataFrame(stats)\n",
    "\n",
    "beauty.to_csv('yt_beauty.csv')"
   ]
  },
  {
   "cell_type": "code",
   "execution_count": 109,
   "id": "e5735abf",
   "metadata": {
    "ExecuteTime": {
     "end_time": "2022-09-16T18:47:55.743958Z",
     "start_time": "2022-09-16T18:47:54.816283Z"
    }
   },
   "outputs": [],
   "source": [
    "hashtag = Hashtag('fashionmodel', limit = 5000)\n",
    "result = []\n",
    "i=1\n",
    "while (i<=100):\n",
    "    result.append(hashtag.result()['result'])\n",
    "    hashtag.next()\n",
    "    i+=1\n",
    "    stats=[]\n",
    "    \n",
    "for j in range(0,len(result)):\n",
    "    for i in range(0, len(result[j])):\n",
    "        info={}\n",
    "        info['title']=result[j][i]['title']\n",
    "        info['publishedTime']=result[j][i]['publishedTime']\n",
    "        info['duration']=result[j][i]['duration']\n",
    "        info['viewCount']=result[j][i]['viewCount']['text']\n",
    "        stats.append(info)\n",
    "fashionmodel = pd.DataFrame(stats)\n",
    "\n",
    "fashionmodel.to_csv('yt_fashionmodel.csv')"
   ]
  },
  {
   "cell_type": "code",
   "execution_count": 83,
   "id": "4ad229fb",
   "metadata": {
    "ExecuteTime": {
     "end_time": "2022-09-16T18:33:42.964186Z",
     "start_time": "2022-09-16T18:33:33.830583Z"
    }
   },
   "outputs": [],
   "source": [
    "hashtag = Hashtag('ootd', limit = 5000)\n",
    "result = []\n",
    "i=1\n",
    "while (i<=100):\n",
    "    result.append(hashtag.result()['result'])\n",
    "    hashtag.next()\n",
    "    i+=1\n",
    "    stats=[]\n",
    "    \n",
    "for j in range(0,len(result)):\n",
    "    for i in range(0, len(result[j])):\n",
    "        info={}\n",
    "        info['title']=result[j][i]['title']\n",
    "        info['publishedTime']=result[j][i]['publishedTime']\n",
    "        info['duration']=result[j][i]['duration']\n",
    "        info['viewCount']=result[j][i]['viewCount']['text']\n",
    "        stats.append(info)\n",
    "ootd = pd.DataFrame(stats)\n",
    "\n",
    "ootd.to_csv('yt_ootd.csv')"
   ]
  },
  {
   "cell_type": "code",
   "execution_count": 113,
   "id": "c5f91a42",
   "metadata": {
    "ExecuteTime": {
     "end_time": "2022-09-16T18:51:15.227180Z",
     "start_time": "2022-09-16T18:51:14.520860Z"
    }
   },
   "outputs": [],
   "source": [
    "hashtag = Hashtag('fashionista', limit = 5000)\n",
    "result = []\n",
    "i=1\n",
    "while (i<=100):\n",
    "    result.append(hashtag.result()['result'])\n",
    "    hashtag.next()\n",
    "    i+=1\n",
    "    stats=[]\n",
    "    \n",
    "for j in range(0,len(result)):\n",
    "    for i in range(0, len(result[j])):\n",
    "        info={}\n",
    "        info['title']=result[j][i]['title']\n",
    "        info['publishedTime']=result[j][i]['publishedTime']\n",
    "        info['duration']=result[j][i]['duration']\n",
    "        info['viewCount']=result[j][i]['viewCount']['text']\n",
    "        stats.append(info)\n",
    "fashionista = pd.DataFrame(stats)\n",
    "\n",
    "fashionista.to_csv('yt_fashionista.csv')"
   ]
  },
  {
   "cell_type": "markdown",
   "id": "b897ffe8",
   "metadata": {},
   "source": [
    "## Humor"
   ]
  },
  {
   "cell_type": "code",
   "execution_count": 102,
   "id": "93856996",
   "metadata": {
    "ExecuteTime": {
     "end_time": "2022-09-16T18:44:22.404354Z",
     "start_time": "2022-09-16T18:44:13.242261Z"
    }
   },
   "outputs": [],
   "source": [
    "hashtag = Hashtag('funnymemes', limit = 5000)\n",
    "result = []\n",
    "i=1\n",
    "while (i<=100):\n",
    "    result.append(hashtag.result()['result'])\n",
    "    hashtag.next()\n",
    "    i+=1\n",
    "    stats=[]\n",
    "    \n",
    "for j in range(0,len(result)):\n",
    "    for i in range(0, len(result[j])):\n",
    "        info={}\n",
    "        info['title']=result[j][i]['title']\n",
    "        info['publishedTime']=result[j][i]['publishedTime']\n",
    "        info['duration']=result[j][i]['duration']\n",
    "        info['viewCount']=result[j][i]['viewCount']['text']\n",
    "        stats.append(info)\n",
    "funnymemes = pd.DataFrame(stats)\n",
    "\n",
    "funnymemes.to_csv('yt_funnymemes.csv')"
   ]
  },
  {
   "cell_type": "code",
   "execution_count": 75,
   "id": "e83caeff",
   "metadata": {
    "ExecuteTime": {
     "end_time": "2022-09-16T18:29:16.480768Z",
     "start_time": "2022-09-16T18:29:10.405549Z"
    }
   },
   "outputs": [],
   "source": [
    "hashtag = Hashtag('funny', limit = 5000)\n",
    "result = []\n",
    "i=1\n",
    "while (i<=100):\n",
    "    result.append(hashtag.result()['result'])\n",
    "    hashtag.next()\n",
    "    i+=1\n",
    "    stats=[]\n",
    "    \n",
    "for j in range(0,len(result)):\n",
    "    for i in range(0, len(result[j])):\n",
    "        info={}\n",
    "        info['title']=result[j][i]['title']\n",
    "        info['publishedTime']=result[j][i]['publishedTime']\n",
    "        info['duration']=result[j][i]['duration']\n",
    "        info['viewCount']=result[j][i]['viewCount']['text']\n",
    "        stats.append(info)\n",
    "funny = pd.DataFrame(stats)\n",
    "\n",
    "funny.to_csv('yt_funny.csv')"
   ]
  },
  {
   "cell_type": "code",
   "execution_count": 80,
   "id": "bc7d93eb",
   "metadata": {
    "ExecuteTime": {
     "end_time": "2022-09-16T18:32:42.690466Z",
     "start_time": "2022-09-16T18:32:35.670645Z"
    }
   },
   "outputs": [],
   "source": [
    "hashtag = Hashtag('lmao', limit = 5000)\n",
    "result = []\n",
    "i=1\n",
    "while (i<=100):\n",
    "    result.append(hashtag.result()['result'])\n",
    "    hashtag.next()\n",
    "    i+=1\n",
    "    stats=[]\n",
    "    \n",
    "for j in range(0,len(result)):\n",
    "    for i in range(0, len(result[j])):\n",
    "        info={}\n",
    "        info['title']=result[j][i]['title']\n",
    "        info['publishedTime']=result[j][i]['publishedTime']\n",
    "        info['duration']=result[j][i]['duration']\n",
    "        info['viewCount']=result[j][i]['viewCount']['text']\n",
    "        stats.append(info)\n",
    "lmao = pd.DataFrame(stats)\n",
    "\n",
    "lmao.to_csv('yt_lmao.csv')"
   ]
  },
  {
   "cell_type": "code",
   "execution_count": 90,
   "id": "da38acf2",
   "metadata": {
    "ExecuteTime": {
     "end_time": "2022-09-16T18:36:56.033128Z",
     "start_time": "2022-09-16T18:36:45.625090Z"
    }
   },
   "outputs": [],
   "source": [
    "hashtag = Hashtag('humor', limit = 5000)\n",
    "result = []\n",
    "i=1\n",
    "while (i<=100):\n",
    "    result.append(hashtag.result()['result'])\n",
    "    hashtag.next()\n",
    "    i+=1\n",
    "    stats=[]\n",
    "    \n",
    "for j in range(0,len(result)):\n",
    "    for i in range(0, len(result[j])):\n",
    "        info={}\n",
    "        info['title']=result[j][i]['title']\n",
    "        info['publishedTime']=result[j][i]['publishedTime']\n",
    "        info['duration']=result[j][i]['duration']\n",
    "        info['viewCount']=result[j][i]['viewCount']['text']\n",
    "        stats.append(info)\n",
    "humor = pd.DataFrame(stats)\n",
    "\n",
    "humor.to_csv('yt_humor.csv')"
   ]
  },
  {
   "cell_type": "code",
   "execution_count": 98,
   "id": "9db226ea",
   "metadata": {
    "ExecuteTime": {
     "end_time": "2022-09-16T18:42:11.652913Z",
     "start_time": "2022-09-16T18:42:03.861547Z"
    }
   },
   "outputs": [],
   "source": [
    "hashtag = Hashtag('dailymemes', limit = 5000)\n",
    "result = []\n",
    "i=1\n",
    "while (i<=100):\n",
    "    result.append(hashtag.result()['result'])\n",
    "    hashtag.next()\n",
    "    i+=1\n",
    "    stats=[]\n",
    "    \n",
    "for j in range(0,len(result)):\n",
    "    for i in range(0, len(result[j])):\n",
    "        info={}\n",
    "        info['title']=result[j][i]['title']\n",
    "        info['publishedTime']=result[j][i]['publishedTime']\n",
    "        info['duration']=result[j][i]['duration']\n",
    "        info['viewCount']=result[j][i]['viewCount']['text']\n",
    "        stats.append(info)\n",
    "dailymemes = pd.DataFrame(stats)\n",
    "\n",
    "dailymemes.to_csv('yt_dailymemes.csv')"
   ]
  },
  {
   "cell_type": "code",
   "execution_count": 94,
   "id": "af27af81",
   "metadata": {
    "ExecuteTime": {
     "end_time": "2022-09-16T18:39:49.572897Z",
     "start_time": "2022-09-16T18:39:39.841704Z"
    }
   },
   "outputs": [],
   "source": [
    "hashtag = Hashtag('lol', limit = 5000)\n",
    "result = []\n",
    "i=1\n",
    "while (i<=100):\n",
    "    result.append(hashtag.result()['result'])\n",
    "    hashtag.next()\n",
    "    i+=1\n",
    "    stats=[]\n",
    "    \n",
    "for j in range(0,len(result)):\n",
    "    for i in range(0, len(result[j])):\n",
    "        info={}\n",
    "        info['title']=result[j][i]['title']\n",
    "        info['publishedTime']=result[j][i]['publishedTime']\n",
    "        info['duration']=result[j][i]['duration']\n",
    "        info['viewCount']=result[j][i]['viewCount']['text']\n",
    "        stats.append(info)\n",
    "lol = pd.DataFrame(stats)\n",
    "\n",
    "lol.to_csv('yt_lol.csv')"
   ]
  },
  {
   "cell_type": "code",
   "execution_count": 110,
   "id": "0ac44d6a",
   "metadata": {
    "ExecuteTime": {
     "end_time": "2022-09-16T18:50:04.925538Z",
     "start_time": "2022-09-16T18:49:56.870564Z"
    }
   },
   "outputs": [],
   "source": [
    "hashtag = Hashtag('humornegro', limit = 5000)\n",
    "result = []\n",
    "i=1\n",
    "while (i<=100):\n",
    "    result.append(hashtag.result()['result'])\n",
    "    hashtag.next()\n",
    "    i+=1\n",
    "    stats=[]\n",
    "    \n",
    "for j in range(0,len(result)):\n",
    "    for i in range(0, len(result[j])):\n",
    "        info={}\n",
    "        info['title']=result[j][i]['title']\n",
    "        info['publishedTime']=result[j][i]['publishedTime']\n",
    "        info['duration']=result[j][i]['duration']\n",
    "        info['viewCount']=result[j][i]['viewCount']['text']\n",
    "        stats.append(info)\n",
    "humornegro = pd.DataFrame(stats)\n",
    "\n",
    "humornegro.to_csv('yt_humornegro.csv')"
   ]
  },
  {
   "cell_type": "code",
   "execution_count": 106,
   "id": "03d49905",
   "metadata": {
    "ExecuteTime": {
     "end_time": "2022-09-16T18:46:35.009519Z",
     "start_time": "2022-09-16T18:46:26.387205Z"
    }
   },
   "outputs": [],
   "source": [
    "hashtag = Hashtag('fun', limit = 5000)\n",
    "result = []\n",
    "i=1\n",
    "while (i<=100):\n",
    "    result.append(hashtag.result()['result'])\n",
    "    hashtag.next()\n",
    "    i+=1\n",
    "    stats=[]\n",
    "    \n",
    "for j in range(0,len(result)):\n",
    "    for i in range(0, len(result[j])):\n",
    "        info={}\n",
    "        info['title']=result[j][i]['title']\n",
    "        info['publishedTime']=result[j][i]['publishedTime']\n",
    "        info['duration']=result[j][i]['duration']\n",
    "        info['viewCount']=result[j][i]['viewCount']['text']\n",
    "        stats.append(info)\n",
    "fun = pd.DataFrame(stats)\n",
    "\n",
    "fun.to_csv('yt_fun.csv')"
   ]
  },
  {
   "cell_type": "code",
   "execution_count": 85,
   "id": "5c043959",
   "metadata": {
    "ExecuteTime": {
     "end_time": "2022-09-16T18:34:23.669313Z",
     "start_time": "2022-09-16T18:34:17.258637Z"
    }
   },
   "outputs": [],
   "source": [
    "hashtag = Hashtag('comedy', limit = 5000)\n",
    "result = []\n",
    "i=1\n",
    "while (i<=100):\n",
    "    result.append(hashtag.result()['result'])\n",
    "    hashtag.next()\n",
    "    i+=1\n",
    "    stats=[]\n",
    "    \n",
    "for j in range(0,len(result)):\n",
    "    for i in range(0, len(result[j])):\n",
    "        info={}\n",
    "        info['title']=result[j][i]['title']\n",
    "        info['publishedTime']=result[j][i]['publishedTime']\n",
    "        info['duration']=result[j][i]['duration']\n",
    "        info['viewCount']=result[j][i]['viewCount']['text']\n",
    "        stats.append(info)\n",
    "comedy = pd.DataFrame(stats)\n",
    "\n",
    "comedy.to_csv('yt_comedy.csv')"
   ]
  },
  {
   "cell_type": "markdown",
   "id": "4b555b6f",
   "metadata": {},
   "source": [
    "## Food"
   ]
  },
  {
   "cell_type": "code",
   "execution_count": 76,
   "id": "e451dba5",
   "metadata": {
    "ExecuteTime": {
     "end_time": "2022-09-16T18:30:48.110032Z",
     "start_time": "2022-09-16T18:30:39.819222Z"
    }
   },
   "outputs": [],
   "source": [
    "hashtag = Hashtag('foodporn', limit = 5000)\n",
    "result = []\n",
    "i=1\n",
    "while (i<=100):\n",
    "    result.append(hashtag.result()['result'])\n",
    "    hashtag.next()\n",
    "    i+=1\n",
    "    stats=[]\n",
    "    \n",
    "for j in range(0,len(result)):\n",
    "    for i in range(0, len(result[j])):\n",
    "        info={}\n",
    "        info['title']=result[j][i]['title']\n",
    "        info['publishedTime']=result[j][i]['publishedTime']\n",
    "        info['duration']=result[j][i]['duration']\n",
    "        info['viewCount']=result[j][i]['viewCount']['text']\n",
    "        stats.append(info)\n",
    "foodporn = pd.DataFrame(stats)\n",
    "\n",
    "foodporn.to_csv('yt_foodporn.csv')"
   ]
  },
  {
   "cell_type": "code",
   "execution_count": 81,
   "id": "2ad58702",
   "metadata": {
    "ExecuteTime": {
     "end_time": "2022-09-16T18:33:02.504018Z",
     "start_time": "2022-09-16T18:32:53.016247Z"
    }
   },
   "outputs": [],
   "source": [
    "hashtag = Hashtag('delicious', limit = 5000)\n",
    "result = []\n",
    "i=1\n",
    "while (i<=100):\n",
    "    result.append(hashtag.result()['result'])\n",
    "    hashtag.next()\n",
    "    i+=1\n",
    "    stats=[]\n",
    "    \n",
    "for j in range(0,len(result)):\n",
    "    for i in range(0, len(result[j])):\n",
    "        info={}\n",
    "        info['title']=result[j][i]['title']\n",
    "        info['publishedTime']=result[j][i]['publishedTime']\n",
    "        info['duration']=result[j][i]['duration']\n",
    "        info['viewCount']=result[j][i]['viewCount']['text']\n",
    "        stats.append(info)\n",
    "delicious = pd.DataFrame(stats)\n",
    "\n",
    "delicious.to_csv('yt_delicious.csv')"
   ]
  },
  {
   "cell_type": "code",
   "execution_count": 107,
   "id": "7ce00db7",
   "metadata": {
    "ExecuteTime": {
     "end_time": "2022-09-16T18:46:56.484576Z",
     "start_time": "2022-09-16T18:46:49.162506Z"
    }
   },
   "outputs": [],
   "source": [
    "hashtag = Hashtag('foodlover', limit = 5000)\n",
    "result = []\n",
    "i=1\n",
    "while (i<=100):\n",
    "    result.append(hashtag.result()['result'])\n",
    "    hashtag.next()\n",
    "    i+=1\n",
    "    stats=[]\n",
    "    \n",
    "for j in range(0,len(result)):\n",
    "    for i in range(0, len(result[j])):\n",
    "        info={}\n",
    "        info['title']=result[j][i]['title']\n",
    "        info['publishedTime']=result[j][i]['publishedTime']\n",
    "        info['duration']=result[j][i]['duration']\n",
    "        info['viewCount']=result[j][i]['viewCount']['text']\n",
    "        stats.append(info)\n",
    "foodlover = pd.DataFrame(stats)\n",
    "\n",
    "foodlover.to_csv('yt_foodlover.csv')"
   ]
  },
  {
   "cell_type": "code",
   "execution_count": 87,
   "id": "fd63e485",
   "metadata": {
    "ExecuteTime": {
     "end_time": "2022-09-16T18:35:21.987157Z",
     "start_time": "2022-09-16T18:35:11.761934Z"
    }
   },
   "outputs": [],
   "source": [
    "hashtag = Hashtag('yummy', limit = 5000)\n",
    "result = []\n",
    "i=1\n",
    "while (i<=100):\n",
    "    result.append(hashtag.result()['result'])\n",
    "    hashtag.next()\n",
    "    i+=1\n",
    "    stats=[]\n",
    "    \n",
    "for j in range(0,len(result)):\n",
    "    for i in range(0, len(result[j])):\n",
    "        info={}\n",
    "        info['title']=result[j][i]['title']\n",
    "        info['publishedTime']=result[j][i]['publishedTime']\n",
    "        info['duration']=result[j][i]['duration']\n",
    "        info['viewCount']=result[j][i]['viewCount']['text']\n",
    "        stats.append(info)\n",
    "yummy = pd.DataFrame(stats)\n",
    "\n",
    "yummy.to_csv('yt_yummy.csv')"
   ]
  },
  {
   "cell_type": "code",
   "execution_count": 91,
   "id": "d8aab97f",
   "metadata": {
    "ExecuteTime": {
     "end_time": "2022-09-16T18:37:24.426982Z",
     "start_time": "2022-09-16T18:37:16.201260Z"
    }
   },
   "outputs": [],
   "source": [
    "hashtag = Hashtag('dinner', limit = 5000)\n",
    "result = []\n",
    "i=1\n",
    "while (i<=100):\n",
    "    result.append(hashtag.result()['result'])\n",
    "    hashtag.next()\n",
    "    i+=1\n",
    "    stats=[]\n",
    "    \n",
    "for j in range(0,len(result)):\n",
    "    for i in range(0, len(result[j])):\n",
    "        info={}\n",
    "        info['title']=result[j][i]['title']\n",
    "        info['publishedTime']=result[j][i]['publishedTime']\n",
    "        info['duration']=result[j][i]['duration']\n",
    "        info['viewCount']=result[j][i]['viewCount']['text']\n",
    "        stats.append(info)\n",
    "dinner = pd.DataFrame(stats)\n",
    "\n",
    "dinner.to_csv('yt_dinner.csv')"
   ]
  },
  {
   "cell_type": "code",
   "execution_count": 95,
   "id": "0b02da3e",
   "metadata": {
    "ExecuteTime": {
     "end_time": "2022-09-16T18:40:25.270487Z",
     "start_time": "2022-09-16T18:40:15.242477Z"
    }
   },
   "outputs": [],
   "source": [
    "hashtag = Hashtag('restaurant', limit = 5000)\n",
    "result = []\n",
    "i=1\n",
    "while (i<=100):\n",
    "    result.append(hashtag.result()['result'])\n",
    "    hashtag.next()\n",
    "    i+=1\n",
    "    stats=[]\n",
    "    \n",
    "for j in range(0,len(result)):\n",
    "    for i in range(0, len(result[j])):\n",
    "        info={}\n",
    "        info['title']=result[j][i]['title']\n",
    "        info['publishedTime']=result[j][i]['publishedTime']\n",
    "        info['duration']=result[j][i]['duration']\n",
    "        info['viewCount']=result[j][i]['viewCount']['text']\n",
    "        stats.append(info)\n",
    "restaurant = pd.DataFrame(stats)\n",
    "\n",
    "restaurant.to_csv('yt_restaurant.csv')"
   ]
  },
  {
   "cell_type": "code",
   "execution_count": 99,
   "id": "9c24ac59",
   "metadata": {
    "ExecuteTime": {
     "end_time": "2022-09-16T18:42:36.771236Z",
     "start_time": "2022-09-16T18:42:28.180634Z"
    }
   },
   "outputs": [],
   "source": [
    "hashtag = Hashtag('tasty', limit = 5000)\n",
    "result = []\n",
    "i=1\n",
    "while (i<=100):\n",
    "    result.append(hashtag.result()['result'])\n",
    "    hashtag.next()\n",
    "    i+=1\n",
    "    stats=[]\n",
    "    \n",
    "for j in range(0,len(result)):\n",
    "    for i in range(0, len(result[j])):\n",
    "        info={}\n",
    "        info['title']=result[j][i]['title']\n",
    "        info['publishedTime']=result[j][i]['publishedTime']\n",
    "        info['duration']=result[j][i]['duration']\n",
    "        info['viewCount']=result[j][i]['viewCount']['text']\n",
    "        stats.append(info)\n",
    "tasty = pd.DataFrame(stats)\n",
    "\n",
    "tasty.to_csv('yt_tasty.csv')"
   ]
  },
  {
   "cell_type": "code",
   "execution_count": 103,
   "id": "7f2ccc12",
   "metadata": {
    "ExecuteTime": {
     "end_time": "2022-09-16T18:44:47.044439Z",
     "start_time": "2022-09-16T18:44:38.494695Z"
    }
   },
   "outputs": [],
   "source": [
    "hashtag = Hashtag('lunch', limit = 5000)\n",
    "result = []\n",
    "i=1\n",
    "while (i<=100):\n",
    "    result.append(hashtag.result()['result'])\n",
    "    hashtag.next()\n",
    "    i+=1\n",
    "    stats=[]\n",
    "    \n",
    "for j in range(0,len(result)):\n",
    "    for i in range(0, len(result[j])):\n",
    "        info={}\n",
    "        info['title']=result[j][i]['title']\n",
    "        info['publishedTime']=result[j][i]['publishedTime']\n",
    "        info['duration']=result[j][i]['duration']\n",
    "        info['viewCount']=result[j][i]['viewCount']['text']\n",
    "        stats.append(info)\n",
    "lunch = pd.DataFrame(stats)\n",
    "\n",
    "lunch.to_csv('yt_lunch.csv')"
   ]
  },
  {
   "cell_type": "code",
   "execution_count": 111,
   "id": "de87af2b",
   "metadata": {
    "ExecuteTime": {
     "end_time": "2022-09-16T18:50:31.301726Z",
     "start_time": "2022-09-16T18:50:21.945198Z"
    }
   },
   "outputs": [],
   "source": [
    "hashtag = Hashtag('foodies', limit = 5000)\n",
    "result = []\n",
    "i=1\n",
    "while (i<=100):\n",
    "    result.append(hashtag.result()['result'])\n",
    "    hashtag.next()\n",
    "    i+=1\n",
    "    stats=[]\n",
    "    \n",
    "for j in range(0,len(result)):\n",
    "    for i in range(0, len(result[j])):\n",
    "        info={}\n",
    "        info['title']=result[j][i]['title']\n",
    "        info['publishedTime']=result[j][i]['publishedTime']\n",
    "        info['duration']=result[j][i]['duration']\n",
    "        info['viewCount']=result[j][i]['viewCount']['text']\n",
    "        stats.append(info)\n",
    "foodies = pd.DataFrame(stats)\n",
    "\n",
    "foodies.to_csv('yt_foodies.csv')"
   ]
  },
  {
   "cell_type": "markdown",
   "id": "a66be3c7",
   "metadata": {},
   "source": [
    "## Political Content"
   ]
  },
  {
   "cell_type": "code",
   "execution_count": 11,
   "id": "9ca1d87e",
   "metadata": {},
   "outputs": [],
   "source": [
    "# usa\n",
    "hashtag = Hashtag('usa', limit = 5000)\n",
    "result = []\n",
    "i=1\n",
    "while (i<=100):\n",
    "    result.append(hashtag.result()['result'])\n",
    "    hashtag.next()\n",
    "    i+=1"
   ]
  },
  {
   "cell_type": "code",
   "execution_count": 16,
   "id": "c47b7dbf",
   "metadata": {},
   "outputs": [],
   "source": [
    "stats = []\n",
    "for j in range(0,len(result)):\n",
    "    for i in range(0, len(result[j])):\n",
    "        info={}\n",
    "        info['title']=result[j][i]['title']\n",
    "        info['publishedTime']=result[j][i]['publishedTime']\n",
    "        info['duration']=result[j][i]['duration']\n",
    "        info['viewCount']=result[j][i]['viewCount']['text']\n",
    "        stats.append(info)\n",
    "usa = pd.DataFrame(stats)\n",
    "\n",
    "usa.to_csv('yt_usa.csv')"
   ]
  },
  {
   "cell_type": "code",
   "execution_count": 21,
   "id": "bc15dda5",
   "metadata": {},
   "outputs": [],
   "source": [
    "hashtag = Hashtag('covid', limit = 5000)\n",
    "result = []\n",
    "i=1\n",
    "while (i<=100):\n",
    "    result.append(hashtag.result()['result'])\n",
    "    hashtag.next()\n",
    "    i+=1"
   ]
  },
  {
   "cell_type": "code",
   "execution_count": 25,
   "id": "707c2c6b",
   "metadata": {},
   "outputs": [
    {
     "ename": "AttributeError",
     "evalue": "'Suggestions' object has no attribute 'next'",
     "output_type": "error",
     "traceback": [
      "\u001b[0;31m---------------------------------------------------------------------------\u001b[0m",
      "\u001b[0;31mAttributeError\u001b[0m                            Traceback (most recent call last)",
      "Input \u001b[0;32mIn [25]\u001b[0m, in \u001b[0;36m<cell line: 5>\u001b[0;34m()\u001b[0m\n\u001b[1;32m      5\u001b[0m \u001b[38;5;28;01mwhile\u001b[39;00m (i\u001b[38;5;241m<\u001b[39m\u001b[38;5;241m=\u001b[39m\u001b[38;5;241m100\u001b[39m):\n\u001b[1;32m      6\u001b[0m     result\u001b[38;5;241m.\u001b[39mappend(suggestions\u001b[38;5;241m.\u001b[39mget(\u001b[38;5;124m'\u001b[39m\u001b[38;5;124mfood\u001b[39m\u001b[38;5;124m'\u001b[39m))\n\u001b[0;32m----> 7\u001b[0m     \u001b[43msuggestions\u001b[49m\u001b[38;5;241;43m.\u001b[39;49m\u001b[43mnext\u001b[49m()\n\u001b[1;32m      8\u001b[0m     i\u001b[38;5;241m+\u001b[39m\u001b[38;5;241m=\u001b[39m\u001b[38;5;241m1\u001b[39m\n",
      "\u001b[0;31mAttributeError\u001b[0m: 'Suggestions' object has no attribute 'next'"
     ]
    }
   ],
   "source": [
    "from youtubesearchpython import Suggestions\n",
    "suggestions = Suggestions(language = 'en', region = 'US')\n",
    "result = []\n",
    "i=1\n",
    "while (i<=100):\n",
    "    result.append(suggestions.get('food'))\n",
    "    suggestions.next()\n",
    "    i+=1"
   ]
  },
  {
   "cell_type": "code",
   "execution_count": null,
   "id": "72a5a6e0",
   "metadata": {},
   "outputs": [],
   "source": []
  }
 ],
 "metadata": {
  "kernelspec": {
   "display_name": "Python 3 (ipykernel)",
   "language": "python",
   "name": "python3"
  },
  "language_info": {
   "codemirror_mode": {
    "name": "ipython",
    "version": 3
   },
   "file_extension": ".py",
   "mimetype": "text/x-python",
   "name": "python",
   "nbconvert_exporter": "python",
   "pygments_lexer": "ipython3",
   "version": "3.9.12"
  }
 },
 "nbformat": 4,
 "nbformat_minor": 5
}
