{
 "cells": [
  {
   "cell_type": "markdown",
   "id": "98f9a52d",
   "metadata": {},
   "source": [
    "# Read in Json"
   ]
  },
  {
   "cell_type": "code",
   "execution_count": 111,
   "id": "8c36addd",
   "metadata": {},
   "outputs": [],
   "source": [
    "# import essential libraries\n",
    "import pandas as pd\n",
    "import os\n",
    "import json\n",
    "import glob\n",
    "\n",
    "# visuals\n",
    "import matplotlib.pyplot as plt\n",
    "import seaborn as sns\n",
    "import plotly.express as px\n"
   ]
  },
  {
   "cell_type": "code",
   "execution_count": 2,
   "id": "cce71e2f",
   "metadata": {},
   "outputs": [],
   "source": [
    "# get file paths\n",
    "def get_file(filepath):\n",
    "    all_files = []\n",
    "    for root, dirs, files in os.walk(filepath):\n",
    "        files = glob.glob(os.path.join(root, '*.json'))\n",
    "        for f in files:\n",
    "            all_files.append(os.path.abspath(f))\n",
    "    return all_files"
   ]
  },
  {
   "cell_type": "code",
   "execution_count": 48,
   "id": "4c2d4f45",
   "metadata": {},
   "outputs": [],
   "source": [
    "# get filepaths\n",
    "data = get_file('./sample_data/')"
   ]
  },
  {
   "cell_type": "code",
   "execution_count": 49,
   "id": "e3ae1a8a",
   "metadata": {},
   "outputs": [
    {
     "data": {
      "text/plain": [
       "['/Users/williambaldridge/codeup-data-science/Brad-file/sample_data/2038743015029195761.json',\n",
       " '/Users/williambaldridge/codeup-data-science/Brad-file/sample_data/2038881753537300577.json',\n",
       " '/Users/williambaldridge/codeup-data-science/Brad-file/sample_data/2038768026183987076.json',\n",
       " '/Users/williambaldridge/codeup-data-science/Brad-file/sample_data/2038755041623476989.json',\n",
       " '/Users/williambaldridge/codeup-data-science/Brad-file/sample_data/2038762498183656777.json',\n",
       " '/Users/williambaldridge/codeup-data-science/Brad-file/sample_data/2038729813423045876.json',\n",
       " '/Users/williambaldridge/codeup-data-science/Brad-file/sample_data/2038869192283022835.json']"
      ]
     },
     "execution_count": 49,
     "metadata": {},
     "output_type": "execute_result"
    }
   ],
   "source": [
    "# data = list of filepath\n",
    "data"
   ]
  },
  {
   "cell_type": "code",
   "execution_count": 50,
   "id": "42a5c7c9",
   "metadata": {},
   "outputs": [],
   "source": [
    "# open 1 file\n",
    "f = open(data[0], \"r\")"
   ]
  },
  {
   "cell_type": "code",
   "execution_count": 51,
   "id": "5b6f431f",
   "metadata": {},
   "outputs": [],
   "source": [
    "# load one file\n",
    "ig = json.loads(f.read())"
   ]
  },
  {
   "cell_type": "code",
   "execution_count": 52,
   "id": "b483100f",
   "metadata": {},
   "outputs": [
    {
     "data": {
      "text/plain": [
       "{'__typename': 'GraphImage',\n",
       " 'comments_disabled': False,\n",
       " 'dimensions': {'height': 1350, 'width': 1080},\n",
       " 'display_url': 'https://scontent-lax3-1.cdninstagram.com/vp/3882038d3dfd8c0a63fe1a802232f59e/5D65F788/t51.2885-15/e35/p1080x1080/59654524_1240891809402199_6418913412781417396_n.jpg?_nc_ht=scontent-lax3-1.cdninstagram.com',\n",
       " 'edge_media_preview_like': {'count': 1083},\n",
       " 'edge_media_to_caption': {'edges': [{'node': {'text': '“Believe in Pink” - Audrey Hepburn 💗I am always so appalled by people who don’t want to do anything with the color pink anymore, makes them less powerful, less vocal, less of a feminist?? It’s a color, believe in it, believe in yourself and not what it defines of you!! Don’t over do but don’t give up on it 💗💗\\n.\\n.\\n.\\nThis dress is Instagram favorite and I picked the prettiest pink, linked in bio! Or copy https://rstyle.me/cz-n/dhbzfycff4x\\nhttp://liketk.it/2BFdi #liketkit @liketoknow.it \\nIt is available in 10 beautiful colors .\\n#liketkit #liketoknowit #lovepink #believeinpink #alwayspink #pinkalways #fashionblogger #fblogger #outfitinspo #springdresses #springoutfits #summeroutfit #summeroutfits #liketoknowitunder100 #lovefordresses'}}]},\n",
       " 'edge_media_to_comment': {'count': 58},\n",
       " 'gating_info': None,\n",
       " 'id': '2038743015029195761',\n",
       " 'is_video': False,\n",
       " 'media_preview': 'ACEqt5A69PXIqKZ/uoOC5wD1wO5qY4H+RVW5k8sgqCWXn8D1x/nrUGwjQ+Q+5clScEnt6gj075q2UP0HHHFNleSVBsHykHJPpjp+NNicbcnAI47n2pbhsTZ9v1op2Pp+RooAr8/5HSmvEshG7tz6Z9vp61pxQoEyRk4yT3P0qhscnKjj8q0SV9dgjZvUtwHKDHpVGP8AiA6bjjFW7dWQYbH+etVlUAcdcnt6mpYbbDsn1P5iik2/5xRUjEFwwUKDgcDuOO9QFpGbk4HbHHHb8aUHgUJy34VrFXepdNav0HgE5JJOCakU8cZ6+tRr3+tSRAY/E05pJaFTWiHYX+8fzopm0egorEyP/9k=',\n",
       " 'owner': {'id': '47564032'},\n",
       " 'shortcode': 'BxLEfhvH8Px',\n",
       " 'taken_at_timestamp': 1557257128,\n",
       " 'thumbnail_resources': [{'config_height': 150,\n",
       "   'config_width': 150,\n",
       "   'src': 'https://scontent-lax3-1.cdninstagram.com/vp/6398276bae96ce0da0057066d3d1d2b5/5D6063A4/t51.2885-15/e35/c0.180.1440.1440/s150x150/59654524_1240891809402199_6418913412781417396_n.jpg?_nc_ht=scontent-lax3-1.cdninstagram.com'},\n",
       "  {'config_height': 240,\n",
       "   'config_width': 240,\n",
       "   'src': 'https://scontent-lax3-1.cdninstagram.com/vp/a1ebd5ecdf17e69f9ac127ae81c9fc2c/5D595BA2/t51.2885-15/e35/c0.180.1440.1440/s240x240/59654524_1240891809402199_6418913412781417396_n.jpg?_nc_ht=scontent-lax3-1.cdninstagram.com'},\n",
       "  {'config_height': 320,\n",
       "   'config_width': 320,\n",
       "   'src': 'https://scontent-lax3-1.cdninstagram.com/vp/353e15c64cdbfc7d40a8bdd58c61da89/5D690ADC/t51.2885-15/e35/c0.180.1440.1440/s320x320/59654524_1240891809402199_6418913412781417396_n.jpg?_nc_ht=scontent-lax3-1.cdninstagram.com'},\n",
       "  {'config_height': 480,\n",
       "   'config_width': 480,\n",
       "   'src': 'https://scontent-lax3-1.cdninstagram.com/vp/2ffaff6efeff013b00ff43365307fe5f/5D6EC89B/t51.2885-15/e35/c0.180.1440.1440/s480x480/59654524_1240891809402199_6418913412781417396_n.jpg?_nc_ht=scontent-lax3-1.cdninstagram.com'},\n",
       "  {'config_height': 640,\n",
       "   'config_width': 640,\n",
       "   'src': 'https://scontent-lax3-1.cdninstagram.com/vp/ac3a72a3c0d029e82098f2272f89b7f6/5D50F133/t51.2885-15/sh0.08/e35/c0.180.1440.1440/s640x640/59654524_1240891809402199_6418913412781417396_n.jpg?_nc_ht=scontent-lax3-1.cdninstagram.com'}],\n",
       " 'thumbnail_src': 'https://scontent-lax3-1.cdninstagram.com/vp/ac3a72a3c0d029e82098f2272f89b7f6/5D50F133/t51.2885-15/sh0.08/e35/c0.180.1440.1440/s640x640/59654524_1240891809402199_6418913412781417396_n.jpg?_nc_ht=scontent-lax3-1.cdninstagram.com'}"
      ]
     },
     "execution_count": 52,
     "metadata": {},
     "output_type": "execute_result"
    }
   ],
   "source": [
    "# check data structure\n",
    "ig"
   ]
  },
  {
   "cell_type": "code",
   "execution_count": 8,
   "id": "b5f8aea6",
   "metadata": {},
   "outputs": [
    {
     "data": {
      "text/plain": [
       "dict_keys(['__typename', 'comments_disabled', 'dimensions', 'display_url', 'edge_media_preview_like', 'edge_media_to_caption', 'edge_media_to_comment', 'gating_info', 'id', 'is_video', 'media_preview', 'owner', 'shortcode', 'taken_at_timestamp', 'thumbnail_resources', 'thumbnail_src'])"
      ]
     },
     "execution_count": 8,
     "metadata": {},
     "output_type": "execute_result"
    }
   ],
   "source": [
    "# check keys\n",
    "ig.keys()"
   ]
  },
  {
   "cell_type": "markdown",
   "id": "643b7506",
   "metadata": {},
   "source": [
    "#### Like count"
   ]
  },
  {
   "cell_type": "code",
   "execution_count": 53,
   "id": "a7d131ec",
   "metadata": {},
   "outputs": [
    {
     "data": {
      "text/plain": [
       "1083"
      ]
     },
     "execution_count": 53,
     "metadata": {},
     "output_type": "execute_result"
    }
   ],
   "source": [
    "# post like count\n",
    "ig['edge_media_preview_like']['count']"
   ]
  },
  {
   "cell_type": "markdown",
   "id": "35ee5f34",
   "metadata": {},
   "source": [
    "#### Comment disabled"
   ]
  },
  {
   "cell_type": "code",
   "execution_count": 30,
   "id": "ee25250e",
   "metadata": {},
   "outputs": [
    {
     "data": {
      "text/plain": [
       "False"
      ]
     },
     "execution_count": 30,
     "metadata": {},
     "output_type": "execute_result"
    }
   ],
   "source": [
    "ig['comments_disabled']"
   ]
  },
  {
   "cell_type": "markdown",
   "id": "6803cfd2",
   "metadata": {},
   "source": [
    "#### Comment count"
   ]
  },
  {
   "cell_type": "code",
   "execution_count": 14,
   "id": "cba41d4c",
   "metadata": {},
   "outputs": [
    {
     "data": {
      "text/plain": [
       "7"
      ]
     },
     "execution_count": 14,
     "metadata": {},
     "output_type": "execute_result"
    }
   ],
   "source": [
    "ig['edge_media_to_comment']['count']"
   ]
  },
  {
   "cell_type": "markdown",
   "id": "add8b6d2",
   "metadata": {},
   "source": [
    "#### Caption"
   ]
  },
  {
   "cell_type": "code",
   "execution_count": 18,
   "id": "9463af72",
   "metadata": {},
   "outputs": [
    {
     "data": {
      "text/plain": [
       "'By @rowanrow'"
      ]
     },
     "execution_count": 18,
     "metadata": {},
     "output_type": "execute_result"
    }
   ],
   "source": [
    "ig['edge_media_to_caption']['edges'][0]['node']['text']"
   ]
  },
  {
   "cell_type": "markdown",
   "id": "975d3d99",
   "metadata": {},
   "source": [
    "#### Owner ID"
   ]
  },
  {
   "cell_type": "code",
   "execution_count": 19,
   "id": "89ded317",
   "metadata": {},
   "outputs": [
    {
     "data": {
      "text/plain": [
       "'2038700089312506854'"
      ]
     },
     "execution_count": 19,
     "metadata": {},
     "output_type": "execute_result"
    }
   ],
   "source": [
    "ig['id']"
   ]
  },
  {
   "cell_type": "markdown",
   "id": "d3810350",
   "metadata": {},
   "source": [
    "#### Is video?"
   ]
  },
  {
   "cell_type": "code",
   "execution_count": 21,
   "id": "3a213021",
   "metadata": {},
   "outputs": [
    {
     "data": {
      "text/plain": [
       "False"
      ]
     },
     "execution_count": 21,
     "metadata": {},
     "output_type": "execute_result"
    }
   ],
   "source": [
    "ig['is_video']"
   ]
  },
  {
   "cell_type": "markdown",
   "id": "bd83e480",
   "metadata": {},
   "source": [
    "#### Timestamp"
   ]
  },
  {
   "cell_type": "code",
   "execution_count": 20,
   "id": "8bf93a9a",
   "metadata": {},
   "outputs": [
    {
     "data": {
      "text/plain": [
       "1557252010"
      ]
     },
     "execution_count": 20,
     "metadata": {},
     "output_type": "execute_result"
    }
   ],
   "source": [
    "ig['taken_at_timestamp']"
   ]
  },
  {
   "cell_type": "markdown",
   "id": "a9e883b3",
   "metadata": {},
   "source": [
    "## Data Extraction"
   ]
  },
  {
   "cell_type": "code",
   "execution_count": 58,
   "id": "2881f6c2",
   "metadata": {},
   "outputs": [],
   "source": [
    "# get file paths\n",
    "def get_file(filepath):\n",
    "    all_files = []\n",
    "    for root, dirs, files in os.walk(filepath):\n",
    "        files = glob.glob(os.path.join(root, '*.json'))\n",
    "        for f in files:\n",
    "            all_files.append(os.path.abspath(f))\n",
    "    return all_files\n",
    "\n",
    "data = get_file('./instagram_data/')\n",
    "\n",
    "# extract data\n",
    "list_of_json = []\n",
    "for i in range(0, len(data)):\n",
    "    f = open(data[i], \"r\")\n",
    "    ig = json.loads(f.read())\n",
    "    stats = {}\n",
    "    # id\n",
    "    stats['id'] = ig['id']\n",
    "    \n",
    "    # owner id\n",
    "    stats['owner_id'] = ig['owner']['id']\n",
    "    \n",
    "    # is video\n",
    "    stats['is_video'] = ig['is_video']\n",
    "    \n",
    "    # timestamp\n",
    "    stats['timestamp'] = ig['taken_at_timestamp']\n",
    "    \n",
    "    # caption\n",
    "    if len(ig['edge_media_to_caption']['edges'])>=1:\n",
    "        stats['caption'] = ig['edge_media_to_caption']['edges'][0]['node']['text']\n",
    "    else:\n",
    "        stats['caption'] = 'N/A'\n",
    "    # like count\n",
    "    stats['like_count'] = ig['edge_media_preview_like']['count']\n",
    "    \n",
    "    # comment disabled\n",
    "    stats['comment_disabled'] = ig['comments_disabled']\n",
    "    \n",
    "    # comment count\n",
    "    stats['comment_count'] = ig['edge_media_to_comment']['count']\n",
    "    \n",
    "    # add dic to list\n",
    "    list_of_json.append(stats)\n",
    "    "
   ]
  },
  {
   "cell_type": "code",
   "execution_count": 59,
   "id": "dcd78b10",
   "metadata": {},
   "outputs": [
    {
     "data": {
      "text/plain": [
       "1528940"
      ]
     },
     "execution_count": 59,
     "metadata": {},
     "output_type": "execute_result"
    }
   ],
   "source": [
    "len(list_of_json)"
   ]
  },
  {
   "cell_type": "code",
   "execution_count": 60,
   "id": "e42c9f5e",
   "metadata": {},
   "outputs": [],
   "source": [
    "df = pd.DataFrame(list_of_json)"
   ]
  },
  {
   "cell_type": "code",
   "execution_count": 84,
   "id": "e8d3fc46",
   "metadata": {},
   "outputs": [
    {
     "data": {
      "text/html": [
       "<div>\n",
       "<style scoped>\n",
       "    .dataframe tbody tr th:only-of-type {\n",
       "        vertical-align: middle;\n",
       "    }\n",
       "\n",
       "    .dataframe tbody tr th {\n",
       "        vertical-align: top;\n",
       "    }\n",
       "\n",
       "    .dataframe thead th {\n",
       "        text-align: right;\n",
       "    }\n",
       "</style>\n",
       "<table border=\"1\" class=\"dataframe\">\n",
       "  <thead>\n",
       "    <tr style=\"text-align: right;\">\n",
       "      <th></th>\n",
       "      <th>id</th>\n",
       "      <th>owner_id</th>\n",
       "      <th>is_video</th>\n",
       "      <th>timestamp</th>\n",
       "      <th>caption</th>\n",
       "      <th>like_count</th>\n",
       "      <th>comment_disabled</th>\n",
       "      <th>comment_count</th>\n",
       "      <th>date</th>\n",
       "    </tr>\n",
       "  </thead>\n",
       "  <tbody>\n",
       "    <tr>\n",
       "      <th>0</th>\n",
       "      <td>1806152222745907348</td>\n",
       "      <td>50884856</td>\n",
       "      <td>False</td>\n",
       "      <td>1529530145</td>\n",
       "      <td>Follow the movement and get my EP #MYEX on @it...</td>\n",
       "      <td>1160</td>\n",
       "      <td>False</td>\n",
       "      <td>0</td>\n",
       "      <td>2018-06-20 16:29:05-05:00</td>\n",
       "    </tr>\n",
       "    <tr>\n",
       "      <th>1</th>\n",
       "      <td>1778527492682732179</td>\n",
       "      <td>14446047</td>\n",
       "      <td>False</td>\n",
       "      <td>1526237020</td>\n",
       "      <td>These sunnies are going to be my summer favs! ...</td>\n",
       "      <td>172</td>\n",
       "      <td>False</td>\n",
       "      <td>11</td>\n",
       "      <td>2018-05-13 13:43:40-05:00</td>\n",
       "    </tr>\n",
       "    <tr>\n",
       "      <th>2</th>\n",
       "      <td>1913545990682512895</td>\n",
       "      <td>299170460</td>\n",
       "      <td>False</td>\n",
       "      <td>1542332479</td>\n",
       "      <td>What do you think of these #glasses that I got...</td>\n",
       "      <td>20</td>\n",
       "      <td>False</td>\n",
       "      <td>1</td>\n",
       "      <td>2018-11-15 19:41:19-06:00</td>\n",
       "    </tr>\n",
       "    <tr>\n",
       "      <th>3</th>\n",
       "      <td>2002372113614057905</td>\n",
       "      <td>2217874</td>\n",
       "      <td>False</td>\n",
       "      <td>1552921378</td>\n",
       "      <td>Fancy for the night 💵 @fashionnovacurve .\\n.\\n...</td>\n",
       "      <td>3416</td>\n",
       "      <td>False</td>\n",
       "      <td>40</td>\n",
       "      <td>2019-03-18 10:02:58-05:00</td>\n",
       "    </tr>\n",
       "    <tr>\n",
       "      <th>4</th>\n",
       "      <td>1735701272014031432</td>\n",
       "      <td>1487840452</td>\n",
       "      <td>False</td>\n",
       "      <td>1521131737</td>\n",
       "      <td>Staying cozy wearing @tartecosmetics eyeshadow...</td>\n",
       "      <td>143</td>\n",
       "      <td>False</td>\n",
       "      <td>4</td>\n",
       "      <td>2018-03-15 11:35:37-05:00</td>\n",
       "    </tr>\n",
       "  </tbody>\n",
       "</table>\n",
       "</div>"
      ],
      "text/plain": [
       "                    id    owner_id  is_video   timestamp  \\\n",
       "0  1806152222745907348    50884856     False  1529530145   \n",
       "1  1778527492682732179    14446047     False  1526237020   \n",
       "2  1913545990682512895   299170460     False  1542332479   \n",
       "3  2002372113614057905     2217874     False  1552921378   \n",
       "4  1735701272014031432  1487840452     False  1521131737   \n",
       "\n",
       "                                             caption  like_count  \\\n",
       "0  Follow the movement and get my EP #MYEX on @it...        1160   \n",
       "1  These sunnies are going to be my summer favs! ...         172   \n",
       "2  What do you think of these #glasses that I got...          20   \n",
       "3  Fancy for the night 💵 @fashionnovacurve .\\n.\\n...        3416   \n",
       "4  Staying cozy wearing @tartecosmetics eyeshadow...         143   \n",
       "\n",
       "   comment_disabled  comment_count                      date  \n",
       "0             False              0 2018-06-20 16:29:05-05:00  \n",
       "1             False             11 2018-05-13 13:43:40-05:00  \n",
       "2             False              1 2018-11-15 19:41:19-06:00  \n",
       "3             False             40 2019-03-18 10:02:58-05:00  \n",
       "4             False              4 2018-03-15 11:35:37-05:00  "
      ]
     },
     "execution_count": 84,
     "metadata": {},
     "output_type": "execute_result"
    }
   ],
   "source": [
    "df.head()"
   ]
  },
  {
   "cell_type": "code",
   "execution_count": 69,
   "id": "739a8e4b",
   "metadata": {},
   "outputs": [],
   "source": [
    "df.to_csv('instagram_data.csv')"
   ]
  },
  {
   "cell_type": "code",
   "execution_count": 75,
   "id": "bc560b00",
   "metadata": {},
   "outputs": [
    {
     "ename": "ValueError",
     "evalue": "This sheet is too large! Your sheet size is: 1528940, 9 Max sheet size is: 1048576, 16384",
     "output_type": "error",
     "traceback": [
      "\u001b[0;31m---------------------------------------------------------------------------\u001b[0m",
      "\u001b[0;31mValueError\u001b[0m                                Traceback (most recent call last)",
      "Input \u001b[0;32mIn [75]\u001b[0m, in \u001b[0;36m<cell line: 1>\u001b[0;34m()\u001b[0m\n\u001b[0;32m----> 1\u001b[0m \u001b[43mdf\u001b[49m\u001b[38;5;241;43m.\u001b[39;49m\u001b[43mto_excel\u001b[49m\u001b[43m(\u001b[49m\u001b[38;5;124;43m'\u001b[39;49m\u001b[38;5;124;43minstagram_data.xlsx\u001b[39;49m\u001b[38;5;124;43m'\u001b[39;49m\u001b[43m)\u001b[49m\n",
      "File \u001b[0;32m/usr/local/anaconda3/lib/python3.9/site-packages/pandas/core/generic.py:2345\u001b[0m, in \u001b[0;36mNDFrame.to_excel\u001b[0;34m(self, excel_writer, sheet_name, na_rep, float_format, columns, header, index, index_label, startrow, startcol, engine, merge_cells, encoding, inf_rep, verbose, freeze_panes, storage_options)\u001b[0m\n\u001b[1;32m   2332\u001b[0m \u001b[38;5;28;01mfrom\u001b[39;00m \u001b[38;5;21;01mpandas\u001b[39;00m\u001b[38;5;21;01m.\u001b[39;00m\u001b[38;5;21;01mio\u001b[39;00m\u001b[38;5;21;01m.\u001b[39;00m\u001b[38;5;21;01mformats\u001b[39;00m\u001b[38;5;21;01m.\u001b[39;00m\u001b[38;5;21;01mexcel\u001b[39;00m \u001b[38;5;28;01mimport\u001b[39;00m ExcelFormatter\n\u001b[1;32m   2334\u001b[0m formatter \u001b[38;5;241m=\u001b[39m ExcelFormatter(\n\u001b[1;32m   2335\u001b[0m     df,\n\u001b[1;32m   2336\u001b[0m     na_rep\u001b[38;5;241m=\u001b[39mna_rep,\n\u001b[0;32m   (...)\u001b[0m\n\u001b[1;32m   2343\u001b[0m     inf_rep\u001b[38;5;241m=\u001b[39minf_rep,\n\u001b[1;32m   2344\u001b[0m )\n\u001b[0;32m-> 2345\u001b[0m \u001b[43mformatter\u001b[49m\u001b[38;5;241;43m.\u001b[39;49m\u001b[43mwrite\u001b[49m\u001b[43m(\u001b[49m\n\u001b[1;32m   2346\u001b[0m \u001b[43m    \u001b[49m\u001b[43mexcel_writer\u001b[49m\u001b[43m,\u001b[49m\n\u001b[1;32m   2347\u001b[0m \u001b[43m    \u001b[49m\u001b[43msheet_name\u001b[49m\u001b[38;5;241;43m=\u001b[39;49m\u001b[43msheet_name\u001b[49m\u001b[43m,\u001b[49m\n\u001b[1;32m   2348\u001b[0m \u001b[43m    \u001b[49m\u001b[43mstartrow\u001b[49m\u001b[38;5;241;43m=\u001b[39;49m\u001b[43mstartrow\u001b[49m\u001b[43m,\u001b[49m\n\u001b[1;32m   2349\u001b[0m \u001b[43m    \u001b[49m\u001b[43mstartcol\u001b[49m\u001b[38;5;241;43m=\u001b[39;49m\u001b[43mstartcol\u001b[49m\u001b[43m,\u001b[49m\n\u001b[1;32m   2350\u001b[0m \u001b[43m    \u001b[49m\u001b[43mfreeze_panes\u001b[49m\u001b[38;5;241;43m=\u001b[39;49m\u001b[43mfreeze_panes\u001b[49m\u001b[43m,\u001b[49m\n\u001b[1;32m   2351\u001b[0m \u001b[43m    \u001b[49m\u001b[43mengine\u001b[49m\u001b[38;5;241;43m=\u001b[39;49m\u001b[43mengine\u001b[49m\u001b[43m,\u001b[49m\n\u001b[1;32m   2352\u001b[0m \u001b[43m    \u001b[49m\u001b[43mstorage_options\u001b[49m\u001b[38;5;241;43m=\u001b[39;49m\u001b[43mstorage_options\u001b[49m\u001b[43m,\u001b[49m\n\u001b[1;32m   2353\u001b[0m \u001b[43m\u001b[49m\u001b[43m)\u001b[49m\n",
      "File \u001b[0;32m/usr/local/anaconda3/lib/python3.9/site-packages/pandas/io/formats/excel.py:877\u001b[0m, in \u001b[0;36mExcelFormatter.write\u001b[0;34m(self, writer, sheet_name, startrow, startcol, freeze_panes, engine, storage_options)\u001b[0m\n\u001b[1;32m    875\u001b[0m num_rows, num_cols \u001b[38;5;241m=\u001b[39m \u001b[38;5;28mself\u001b[39m\u001b[38;5;241m.\u001b[39mdf\u001b[38;5;241m.\u001b[39mshape\n\u001b[1;32m    876\u001b[0m \u001b[38;5;28;01mif\u001b[39;00m num_rows \u001b[38;5;241m>\u001b[39m \u001b[38;5;28mself\u001b[39m\u001b[38;5;241m.\u001b[39mmax_rows \u001b[38;5;129;01mor\u001b[39;00m num_cols \u001b[38;5;241m>\u001b[39m \u001b[38;5;28mself\u001b[39m\u001b[38;5;241m.\u001b[39mmax_cols:\n\u001b[0;32m--> 877\u001b[0m     \u001b[38;5;28;01mraise\u001b[39;00m \u001b[38;5;167;01mValueError\u001b[39;00m(\n\u001b[1;32m    878\u001b[0m         \u001b[38;5;124mf\u001b[39m\u001b[38;5;124m\"\u001b[39m\u001b[38;5;124mThis sheet is too large! Your sheet size is: \u001b[39m\u001b[38;5;132;01m{\u001b[39;00mnum_rows\u001b[38;5;132;01m}\u001b[39;00m\u001b[38;5;124m, \u001b[39m\u001b[38;5;132;01m{\u001b[39;00mnum_cols\u001b[38;5;132;01m}\u001b[39;00m\u001b[38;5;124m \u001b[39m\u001b[38;5;124m\"\u001b[39m\n\u001b[1;32m    879\u001b[0m         \u001b[38;5;124mf\u001b[39m\u001b[38;5;124m\"\u001b[39m\u001b[38;5;124mMax sheet size is: \u001b[39m\u001b[38;5;132;01m{\u001b[39;00m\u001b[38;5;28mself\u001b[39m\u001b[38;5;241m.\u001b[39mmax_rows\u001b[38;5;132;01m}\u001b[39;00m\u001b[38;5;124m, \u001b[39m\u001b[38;5;132;01m{\u001b[39;00m\u001b[38;5;28mself\u001b[39m\u001b[38;5;241m.\u001b[39mmax_cols\u001b[38;5;132;01m}\u001b[39;00m\u001b[38;5;124m\"\u001b[39m\n\u001b[1;32m    880\u001b[0m     )\n\u001b[1;32m    882\u001b[0m formatted_cells \u001b[38;5;241m=\u001b[39m \u001b[38;5;28mself\u001b[39m\u001b[38;5;241m.\u001b[39mget_formatted_cells()\n\u001b[1;32m    883\u001b[0m \u001b[38;5;28;01mif\u001b[39;00m \u001b[38;5;28misinstance\u001b[39m(writer, ExcelWriter):\n",
      "\u001b[0;31mValueError\u001b[0m: This sheet is too large! Your sheet size is: 1528940, 9 Max sheet size is: 1048576, 16384"
     ]
    }
   ],
   "source": [
    "df.to_excel('instagram_data.xlsx')"
   ]
  },
  {
   "cell_type": "code",
   "execution_count": 70,
   "id": "5b558fc9",
   "metadata": {},
   "outputs": [
    {
     "data": {
      "text/plain": [
       "(1528940, 8)"
      ]
     },
     "execution_count": 70,
     "metadata": {},
     "output_type": "execute_result"
    }
   ],
   "source": [
    "df.shape"
   ]
  },
  {
   "cell_type": "code",
   "execution_count": 63,
   "id": "ebce7b69",
   "metadata": {},
   "outputs": [
    {
     "data": {
      "text/html": [
       "<div>\n",
       "<style scoped>\n",
       "    .dataframe tbody tr th:only-of-type {\n",
       "        vertical-align: middle;\n",
       "    }\n",
       "\n",
       "    .dataframe tbody tr th {\n",
       "        vertical-align: top;\n",
       "    }\n",
       "\n",
       "    .dataframe thead th {\n",
       "        text-align: right;\n",
       "    }\n",
       "</style>\n",
       "<table border=\"1\" class=\"dataframe\">\n",
       "  <thead>\n",
       "    <tr style=\"text-align: right;\">\n",
       "      <th></th>\n",
       "      <th>id</th>\n",
       "      <th>owner_id</th>\n",
       "      <th>is_video</th>\n",
       "      <th>timestamp</th>\n",
       "      <th>caption</th>\n",
       "      <th>like_count</th>\n",
       "      <th>comment_disabled</th>\n",
       "      <th>comment_count</th>\n",
       "    </tr>\n",
       "  </thead>\n",
       "  <tbody>\n",
       "    <tr>\n",
       "      <th>0</th>\n",
       "      <td>1806152222745907348</td>\n",
       "      <td>50884856</td>\n",
       "      <td>False</td>\n",
       "      <td>1529530145</td>\n",
       "      <td>Follow the movement and get my EP #MYEX on @it...</td>\n",
       "      <td>1160</td>\n",
       "      <td>False</td>\n",
       "      <td>0</td>\n",
       "    </tr>\n",
       "    <tr>\n",
       "      <th>1</th>\n",
       "      <td>1778527492682732179</td>\n",
       "      <td>14446047</td>\n",
       "      <td>False</td>\n",
       "      <td>1526237020</td>\n",
       "      <td>These sunnies are going to be my summer favs! ...</td>\n",
       "      <td>172</td>\n",
       "      <td>False</td>\n",
       "      <td>11</td>\n",
       "    </tr>\n",
       "    <tr>\n",
       "      <th>2</th>\n",
       "      <td>1913545990682512895</td>\n",
       "      <td>299170460</td>\n",
       "      <td>False</td>\n",
       "      <td>1542332479</td>\n",
       "      <td>What do you think of these #glasses that I got...</td>\n",
       "      <td>20</td>\n",
       "      <td>False</td>\n",
       "      <td>1</td>\n",
       "    </tr>\n",
       "    <tr>\n",
       "      <th>3</th>\n",
       "      <td>2002372113614057905</td>\n",
       "      <td>2217874</td>\n",
       "      <td>False</td>\n",
       "      <td>1552921378</td>\n",
       "      <td>Fancy for the night 💵 @fashionnovacurve .\\n.\\n...</td>\n",
       "      <td>3416</td>\n",
       "      <td>False</td>\n",
       "      <td>40</td>\n",
       "    </tr>\n",
       "    <tr>\n",
       "      <th>4</th>\n",
       "      <td>1735701272014031432</td>\n",
       "      <td>1487840452</td>\n",
       "      <td>False</td>\n",
       "      <td>1521131737</td>\n",
       "      <td>Staying cozy wearing @tartecosmetics eyeshadow...</td>\n",
       "      <td>143</td>\n",
       "      <td>False</td>\n",
       "      <td>4</td>\n",
       "    </tr>\n",
       "  </tbody>\n",
       "</table>\n",
       "</div>"
      ],
      "text/plain": [
       "                    id    owner_id  is_video   timestamp  \\\n",
       "0  1806152222745907348    50884856     False  1529530145   \n",
       "1  1778527492682732179    14446047     False  1526237020   \n",
       "2  1913545990682512895   299170460     False  1542332479   \n",
       "3  2002372113614057905     2217874     False  1552921378   \n",
       "4  1735701272014031432  1487840452     False  1521131737   \n",
       "\n",
       "                                             caption  like_count  \\\n",
       "0  Follow the movement and get my EP #MYEX on @it...        1160   \n",
       "1  These sunnies are going to be my summer favs! ...         172   \n",
       "2  What do you think of these #glasses that I got...          20   \n",
       "3  Fancy for the night 💵 @fashionnovacurve .\\n.\\n...        3416   \n",
       "4  Staying cozy wearing @tartecosmetics eyeshadow...         143   \n",
       "\n",
       "   comment_disabled  comment_count  \n",
       "0             False              0  \n",
       "1             False             11  \n",
       "2             False              1  \n",
       "3             False             40  \n",
       "4             False              4  "
      ]
     },
     "execution_count": 63,
     "metadata": {},
     "output_type": "execute_result"
    }
   ],
   "source": [
    "df.head()"
   ]
  },
  {
   "cell_type": "code",
   "execution_count": 65,
   "id": "e576d359",
   "metadata": {},
   "outputs": [],
   "source": [
    "# set display format\n",
    "pd.options.display.float_format = '{:.2f}'.format"
   ]
  },
  {
   "cell_type": "code",
   "execution_count": 66,
   "id": "8c8028f5",
   "metadata": {},
   "outputs": [
    {
     "data": {
      "text/plain": [
       "count   1528940.00\n",
       "mean       4396.04\n",
       "std       41231.27\n",
       "min           0.00\n",
       "25%         222.00\n",
       "50%         675.00\n",
       "75%        1916.00\n",
       "max     7309044.00\n",
       "Name: like_count, dtype: float64"
      ]
     },
     "execution_count": 66,
     "metadata": {},
     "output_type": "execute_result"
    }
   ],
   "source": [
    "df.like_count.describe()"
   ]
  },
  {
   "cell_type": "code",
   "execution_count": 67,
   "id": "072f55a4",
   "metadata": {},
   "outputs": [
    {
     "data": {
      "text/plain": [
       "count   1528940.00\n",
       "mean         83.28\n",
       "std        1098.04\n",
       "min           0.00\n",
       "25%           8.00\n",
       "50%          27.00\n",
       "75%          66.00\n",
       "max      675587.00\n",
       "Name: comment_count, dtype: float64"
      ]
     },
     "execution_count": 67,
     "metadata": {},
     "output_type": "execute_result"
    }
   ],
   "source": [
    "df.comment_count.describe()"
   ]
  },
  {
   "cell_type": "code",
   "execution_count": 68,
   "id": "dded196c",
   "metadata": {},
   "outputs": [
    {
     "data": {
      "text/plain": [
       "id                  0\n",
       "owner_id            0\n",
       "is_video            0\n",
       "timestamp           0\n",
       "caption             0\n",
       "like_count          0\n",
       "comment_disabled    0\n",
       "comment_count       0\n",
       "dtype: int64"
      ]
     },
     "execution_count": 68,
     "metadata": {},
     "output_type": "execute_result"
    }
   ],
   "source": [
    "df.isnull().sum()"
   ]
  },
  {
   "cell_type": "code",
   "execution_count": 71,
   "id": "ddef0109",
   "metadata": {},
   "outputs": [],
   "source": [
    "# convert epoch time\n",
    "df['date'] = (pd.to_datetime(df['timestamp'], unit='s')\n",
    "                     .dt.tz_localize('utc')\n",
    "                     .dt.tz_convert('US/Central'))"
   ]
  },
  {
   "cell_type": "code",
   "execution_count": 90,
   "id": "45abff95",
   "metadata": {},
   "outputs": [
    {
     "data": {
      "text/plain": [
       "datetime64[ns, US/Central]"
      ]
     },
     "execution_count": 90,
     "metadata": {},
     "output_type": "execute_result"
    }
   ],
   "source": [
    "df['date'].dtype"
   ]
  },
  {
   "cell_type": "code",
   "execution_count": 91,
   "id": "c70fb8c9",
   "metadata": {},
   "outputs": [],
   "source": [
    "df['date'] = df['date'].astype(str)"
   ]
  },
  {
   "cell_type": "code",
   "execution_count": 93,
   "id": "5735bc41",
   "metadata": {},
   "outputs": [],
   "source": [
    "df['date'] = df['date'].str.slice(0,10)"
   ]
  },
  {
   "cell_type": "code",
   "execution_count": 95,
   "id": "01846197",
   "metadata": {},
   "outputs": [],
   "source": [
    "df.date = pd.to_datetime(df.date)"
   ]
  },
  {
   "cell_type": "code",
   "execution_count": 98,
   "id": "a31f78a0",
   "metadata": {},
   "outputs": [
    {
     "data": {
      "text/html": [
       "<div>\n",
       "<style scoped>\n",
       "    .dataframe tbody tr th:only-of-type {\n",
       "        vertical-align: middle;\n",
       "    }\n",
       "\n",
       "    .dataframe tbody tr th {\n",
       "        vertical-align: top;\n",
       "    }\n",
       "\n",
       "    .dataframe thead th {\n",
       "        text-align: right;\n",
       "    }\n",
       "</style>\n",
       "<table border=\"1\" class=\"dataframe\">\n",
       "  <thead>\n",
       "    <tr style=\"text-align: right;\">\n",
       "      <th></th>\n",
       "      <th>id</th>\n",
       "      <th>owner_id</th>\n",
       "      <th>is_video</th>\n",
       "      <th>timestamp</th>\n",
       "      <th>caption</th>\n",
       "      <th>like_count</th>\n",
       "      <th>comment_disabled</th>\n",
       "      <th>comment_count</th>\n",
       "      <th>date</th>\n",
       "    </tr>\n",
       "  </thead>\n",
       "  <tbody>\n",
       "    <tr>\n",
       "      <th>0</th>\n",
       "      <td>1806152222745907348</td>\n",
       "      <td>50884856</td>\n",
       "      <td>False</td>\n",
       "      <td>1529530145</td>\n",
       "      <td>Follow the movement and get my EP #MYEX on @it...</td>\n",
       "      <td>1160</td>\n",
       "      <td>False</td>\n",
       "      <td>0</td>\n",
       "      <td>2018-06-20</td>\n",
       "    </tr>\n",
       "    <tr>\n",
       "      <th>1</th>\n",
       "      <td>1778527492682732179</td>\n",
       "      <td>14446047</td>\n",
       "      <td>False</td>\n",
       "      <td>1526237020</td>\n",
       "      <td>These sunnies are going to be my summer favs! ...</td>\n",
       "      <td>172</td>\n",
       "      <td>False</td>\n",
       "      <td>11</td>\n",
       "      <td>2018-05-13</td>\n",
       "    </tr>\n",
       "    <tr>\n",
       "      <th>2</th>\n",
       "      <td>1913545990682512895</td>\n",
       "      <td>299170460</td>\n",
       "      <td>False</td>\n",
       "      <td>1542332479</td>\n",
       "      <td>What do you think of these #glasses that I got...</td>\n",
       "      <td>20</td>\n",
       "      <td>False</td>\n",
       "      <td>1</td>\n",
       "      <td>2018-11-15</td>\n",
       "    </tr>\n",
       "    <tr>\n",
       "      <th>3</th>\n",
       "      <td>2002372113614057905</td>\n",
       "      <td>2217874</td>\n",
       "      <td>False</td>\n",
       "      <td>1552921378</td>\n",
       "      <td>Fancy for the night 💵 @fashionnovacurve .\\n.\\n...</td>\n",
       "      <td>3416</td>\n",
       "      <td>False</td>\n",
       "      <td>40</td>\n",
       "      <td>2019-03-18</td>\n",
       "    </tr>\n",
       "    <tr>\n",
       "      <th>4</th>\n",
       "      <td>1735701272014031432</td>\n",
       "      <td>1487840452</td>\n",
       "      <td>False</td>\n",
       "      <td>1521131737</td>\n",
       "      <td>Staying cozy wearing @tartecosmetics eyeshadow...</td>\n",
       "      <td>143</td>\n",
       "      <td>False</td>\n",
       "      <td>4</td>\n",
       "      <td>2018-03-15</td>\n",
       "    </tr>\n",
       "  </tbody>\n",
       "</table>\n",
       "</div>"
      ],
      "text/plain": [
       "                    id    owner_id  is_video   timestamp  \\\n",
       "0  1806152222745907348    50884856     False  1529530145   \n",
       "1  1778527492682732179    14446047     False  1526237020   \n",
       "2  1913545990682512895   299170460     False  1542332479   \n",
       "3  2002372113614057905     2217874     False  1552921378   \n",
       "4  1735701272014031432  1487840452     False  1521131737   \n",
       "\n",
       "                                             caption  like_count  \\\n",
       "0  Follow the movement and get my EP #MYEX on @it...        1160   \n",
       "1  These sunnies are going to be my summer favs! ...         172   \n",
       "2  What do you think of these #glasses that I got...          20   \n",
       "3  Fancy for the night 💵 @fashionnovacurve .\\n.\\n...        3416   \n",
       "4  Staying cozy wearing @tartecosmetics eyeshadow...         143   \n",
       "\n",
       "   comment_disabled  comment_count       date  \n",
       "0             False              0 2018-06-20  \n",
       "1             False             11 2018-05-13  \n",
       "2             False              1 2018-11-15  \n",
       "3             False             40 2019-03-18  \n",
       "4             False              4 2018-03-15  "
      ]
     },
     "execution_count": 98,
     "metadata": {},
     "output_type": "execute_result"
    }
   ],
   "source": [
    "df.head()"
   ]
  },
  {
   "cell_type": "code",
   "execution_count": 77,
   "id": "d72871ec",
   "metadata": {
    "scrolled": true
   },
   "outputs": [
    {
     "data": {
      "text/plain": [
       "38043"
      ]
     },
     "execution_count": 77,
     "metadata": {},
     "output_type": "execute_result"
    }
   ],
   "source": [
    "df.owner_id.nunique()"
   ]
  },
  {
   "cell_type": "code",
   "execution_count": 80,
   "id": "c46faee5",
   "metadata": {},
   "outputs": [
    {
     "data": {
      "text/plain": [
       "(226208, 9)"
      ]
     },
     "execution_count": 80,
     "metadata": {},
     "output_type": "execute_result"
    }
   ],
   "source": [
    "df[df.date<'2018-01-01'].shape"
   ]
  },
  {
   "cell_type": "code",
   "execution_count": 81,
   "id": "3eaae0ea",
   "metadata": {},
   "outputs": [
    {
     "data": {
      "text/plain": [
       "(308068, 9)"
      ]
     },
     "execution_count": 81,
     "metadata": {},
     "output_type": "execute_result"
    }
   ],
   "source": [
    "df[df.date>'2019-01-01'].shape"
   ]
  },
  {
   "cell_type": "code",
   "execution_count": 83,
   "id": "6dd0dcd6",
   "metadata": {},
   "outputs": [
    {
     "data": {
      "text/plain": [
       "25550"
      ]
     },
     "execution_count": 83,
     "metadata": {},
     "output_type": "execute_result"
    }
   ],
   "source": [
    "df[df.date>'2019-01-01'].owner_id.nunique()"
   ]
  },
  {
   "cell_type": "code",
   "execution_count": 82,
   "id": "eb921620",
   "metadata": {
    "scrolled": true
   },
   "outputs": [
    {
     "data": {
      "text/plain": [
       "Timestamp('2019-05-07 19:01:07-0500', tz='US/Central')"
      ]
     },
     "execution_count": 82,
     "metadata": {},
     "output_type": "execute_result"
    }
   ],
   "source": [
    "df.date.max()"
   ]
  },
  {
   "cell_type": "markdown",
   "id": "7c1962d9",
   "metadata": {},
   "source": [
    "#### Extracting 2018-2019 data"
   ]
  },
  {
   "cell_type": "code",
   "execution_count": 130,
   "id": "a8ddcb44",
   "metadata": {},
   "outputs": [],
   "source": [
    "stats = pd.DataFrame({'Trending Content Avg. Engagement': [11237882,1790364,10414], 'Platform': ['Tiktok', 'YouTube', 'Instagram']})"
   ]
  },
  {
   "cell_type": "code",
   "execution_count": 131,
   "id": "799f9ce1",
   "metadata": {},
   "outputs": [
    {
     "data": {
      "text/html": [
       "<div>\n",
       "<style scoped>\n",
       "    .dataframe tbody tr th:only-of-type {\n",
       "        vertical-align: middle;\n",
       "    }\n",
       "\n",
       "    .dataframe tbody tr th {\n",
       "        vertical-align: top;\n",
       "    }\n",
       "\n",
       "    .dataframe thead th {\n",
       "        text-align: right;\n",
       "    }\n",
       "</style>\n",
       "<table border=\"1\" class=\"dataframe\">\n",
       "  <thead>\n",
       "    <tr style=\"text-align: right;\">\n",
       "      <th></th>\n",
       "      <th>Trending Content Avg. Engagement</th>\n",
       "      <th>Platform</th>\n",
       "    </tr>\n",
       "  </thead>\n",
       "  <tbody>\n",
       "    <tr>\n",
       "      <th>0</th>\n",
       "      <td>11237882</td>\n",
       "      <td>Tiktok</td>\n",
       "    </tr>\n",
       "    <tr>\n",
       "      <th>1</th>\n",
       "      <td>1790364</td>\n",
       "      <td>YouTube</td>\n",
       "    </tr>\n",
       "    <tr>\n",
       "      <th>2</th>\n",
       "      <td>10414</td>\n",
       "      <td>Instagram</td>\n",
       "    </tr>\n",
       "  </tbody>\n",
       "</table>\n",
       "</div>"
      ],
      "text/plain": [
       "   Trending Content Avg. Engagement   Platform\n",
       "0                          11237882     Tiktok\n",
       "1                           1790364    YouTube\n",
       "2                             10414  Instagram"
      ]
     },
     "execution_count": 131,
     "metadata": {},
     "output_type": "execute_result"
    }
   ],
   "source": [
    "stats"
   ]
  },
  {
   "cell_type": "code",
   "execution_count": 129,
   "id": "e8e0534b",
   "metadata": {},
   "outputs": [
    {
     "data": {
      "text/plain": [
       "count    614232.00\n",
       "mean      10414.57\n",
       "std       64583.39\n",
       "min        1001.00\n",
       "25%        1479.00\n",
       "50%        2540.00\n",
       "75%        5801.00\n",
       "max     7309044.00\n",
       "Name: like_count, dtype: float64"
      ]
     },
     "execution_count": 129,
     "metadata": {},
     "output_type": "execute_result"
    }
   ],
   "source": [
    "df[df['like_count']>1000].like_count.describe()"
   ]
  },
  {
   "cell_type": "code",
   "execution_count": 133,
   "id": "dd370b46",
   "metadata": {},
   "outputs": [
    {
     "data": {
      "text/plain": [
       "count   614232.00\n",
       "mean       168.84\n",
       "std       1727.37\n",
       "min          0.00\n",
       "25%         32.00\n",
       "50%         64.00\n",
       "75%        126.00\n",
       "max     675587.00\n",
       "Name: comment_count, dtype: float64"
      ]
     },
     "execution_count": 133,
     "metadata": {},
     "output_type": "execute_result"
    }
   ],
   "source": [
    "df[df['like_count']>1000].comment_count.describe()"
   ]
  },
  {
   "cell_type": "code",
   "execution_count": 87,
   "id": "6471aee2",
   "metadata": {},
   "outputs": [],
   "source": [
    "df_2018 = df[(df.date<'2019-05-08') & (df.date>'2018-05-07')]"
   ]
  },
  {
   "cell_type": "code",
   "execution_count": 97,
   "id": "e68583e4",
   "metadata": {},
   "outputs": [
    {
     "data": {
      "text/plain": [
       "(1069810, 9)"
      ]
     },
     "execution_count": 97,
     "metadata": {},
     "output_type": "execute_result"
    }
   ],
   "source": [
    "df_2018.shape"
   ]
  },
  {
   "cell_type": "code",
   "execution_count": 89,
   "id": "e92fb573",
   "metadata": {},
   "outputs": [],
   "source": [
    "df_2018.to_csv('instagram_2018_2019.csv')"
   ]
  },
  {
   "cell_type": "markdown",
   "id": "e6d3252a",
   "metadata": {},
   "source": [
    "***"
   ]
  },
  {
   "cell_type": "code",
   "execution_count": 101,
   "id": "5cbfc536",
   "metadata": {},
   "outputs": [],
   "source": [
    "sample_df = df.sample(10000)"
   ]
  },
  {
   "cell_type": "code",
   "execution_count": 102,
   "id": "a3ebeb4c",
   "metadata": {},
   "outputs": [
    {
     "data": {
      "text/html": [
       "<div>\n",
       "<style scoped>\n",
       "    .dataframe tbody tr th:only-of-type {\n",
       "        vertical-align: middle;\n",
       "    }\n",
       "\n",
       "    .dataframe tbody tr th {\n",
       "        vertical-align: top;\n",
       "    }\n",
       "\n",
       "    .dataframe thead th {\n",
       "        text-align: right;\n",
       "    }\n",
       "</style>\n",
       "<table border=\"1\" class=\"dataframe\">\n",
       "  <thead>\n",
       "    <tr style=\"text-align: right;\">\n",
       "      <th></th>\n",
       "      <th>id</th>\n",
       "      <th>owner_id</th>\n",
       "      <th>is_video</th>\n",
       "      <th>timestamp</th>\n",
       "      <th>caption</th>\n",
       "      <th>like_count</th>\n",
       "      <th>comment_disabled</th>\n",
       "      <th>comment_count</th>\n",
       "      <th>date</th>\n",
       "    </tr>\n",
       "  </thead>\n",
       "  <tbody>\n",
       "    <tr>\n",
       "      <th>1063510</th>\n",
       "      <td>1743713584792647348</td>\n",
       "      <td>13597003</td>\n",
       "      <td>False</td>\n",
       "      <td>1522086879</td>\n",
       "      <td>Leggings, but make it fashion 😂 with a cute bo...</td>\n",
       "      <td>82</td>\n",
       "      <td>False</td>\n",
       "      <td>7</td>\n",
       "      <td>2018-03-26</td>\n",
       "    </tr>\n",
       "    <tr>\n",
       "      <th>579791</th>\n",
       "      <td>1393212200659531833</td>\n",
       "      <td>419028247</td>\n",
       "      <td>False</td>\n",
       "      <td>1480303858</td>\n",
       "      <td>There has been photos taken of this place from...</td>\n",
       "      <td>1862</td>\n",
       "      <td>False</td>\n",
       "      <td>86</td>\n",
       "      <td>2016-11-27</td>\n",
       "    </tr>\n",
       "    <tr>\n",
       "      <th>168207</th>\n",
       "      <td>1918539768637855521</td>\n",
       "      <td>1546775036</td>\n",
       "      <td>False</td>\n",
       "      <td>1542927784</td>\n",
       "      <td>Wishing everyone a Happy Thanksgiving ☺️ | sho...</td>\n",
       "      <td>1000</td>\n",
       "      <td>False</td>\n",
       "      <td>39</td>\n",
       "      <td>2018-11-22</td>\n",
       "    </tr>\n",
       "    <tr>\n",
       "      <th>1436588</th>\n",
       "      <td>1714066524867087581</td>\n",
       "      <td>184244920</td>\n",
       "      <td>False</td>\n",
       "      <td>1518552674</td>\n",
       "      <td>Happy Pancake Day! 🥞💗 This is one of my favour...</td>\n",
       "      <td>298</td>\n",
       "      <td>False</td>\n",
       "      <td>5</td>\n",
       "      <td>2018-02-13</td>\n",
       "    </tr>\n",
       "    <tr>\n",
       "      <th>1449534</th>\n",
       "      <td>1895237795188669079</td>\n",
       "      <td>2132982216</td>\n",
       "      <td>False</td>\n",
       "      <td>1540149972</td>\n",
       "      <td>@rewearflohmarkt 💃🏼\\nSo much fun 😃 heute auf u...</td>\n",
       "      <td>955</td>\n",
       "      <td>False</td>\n",
       "      <td>40</td>\n",
       "      <td>2018-10-21</td>\n",
       "    </tr>\n",
       "  </tbody>\n",
       "</table>\n",
       "</div>"
      ],
      "text/plain": [
       "                          id    owner_id  is_video   timestamp  \\\n",
       "1063510  1743713584792647348    13597003     False  1522086879   \n",
       "579791   1393212200659531833   419028247     False  1480303858   \n",
       "168207   1918539768637855521  1546775036     False  1542927784   \n",
       "1436588  1714066524867087581   184244920     False  1518552674   \n",
       "1449534  1895237795188669079  2132982216     False  1540149972   \n",
       "\n",
       "                                                   caption  like_count  \\\n",
       "1063510  Leggings, but make it fashion 😂 with a cute bo...          82   \n",
       "579791   There has been photos taken of this place from...        1862   \n",
       "168207   Wishing everyone a Happy Thanksgiving ☺️ | sho...        1000   \n",
       "1436588  Happy Pancake Day! 🥞💗 This is one of my favour...         298   \n",
       "1449534  @rewearflohmarkt 💃🏼\\nSo much fun 😃 heute auf u...         955   \n",
       "\n",
       "         comment_disabled  comment_count       date  \n",
       "1063510             False              7 2018-03-26  \n",
       "579791              False             86 2016-11-27  \n",
       "168207              False             39 2018-11-22  \n",
       "1436588             False              5 2018-02-13  \n",
       "1449534             False             40 2018-10-21  "
      ]
     },
     "execution_count": 102,
     "metadata": {},
     "output_type": "execute_result"
    }
   ],
   "source": [
    "sample_df.head()"
   ]
  },
  {
   "cell_type": "code",
   "execution_count": 103,
   "id": "e0299517",
   "metadata": {},
   "outputs": [
    {
     "data": {
      "text/plain": [
       "count     10000.00\n",
       "mean       4924.77\n",
       "std       40622.03\n",
       "min           0.00\n",
       "25%         226.00\n",
       "50%         701.00\n",
       "75%        1952.00\n",
       "max     1688530.00\n",
       "Name: like_count, dtype: float64"
      ]
     },
     "execution_count": 103,
     "metadata": {},
     "output_type": "execute_result"
    }
   ],
   "source": [
    "sample_df.like_count.describe()"
   ]
  },
  {
   "cell_type": "markdown",
   "id": "3ca8b895",
   "metadata": {},
   "source": [
    "**NOTE: Significantly lower than TikTok**"
   ]
  },
  {
   "cell_type": "code",
   "execution_count": 104,
   "id": "a8fa9161",
   "metadata": {},
   "outputs": [
    {
     "data": {
      "text/plain": [
       "count   10000.00\n",
       "mean       86.02\n",
       "std       586.04\n",
       "min         0.00\n",
       "25%         8.00\n",
       "50%        27.00\n",
       "75%        67.00\n",
       "max     35118.00\n",
       "Name: comment_count, dtype: float64"
      ]
     },
     "execution_count": 104,
     "metadata": {},
     "output_type": "execute_result"
    }
   ],
   "source": [
    "sample_df.comment_count.describe()"
   ]
  },
  {
   "cell_type": "code",
   "execution_count": 107,
   "id": "f5c398e6",
   "metadata": {},
   "outputs": [],
   "source": [
    "sample_df.set_index(\"date\", inplace = True)"
   ]
  },
  {
   "cell_type": "code",
   "execution_count": 108,
   "id": "7a3fd69c",
   "metadata": {},
   "outputs": [],
   "source": [
    "sample_df.sort_index(inplace = True)"
   ]
  },
  {
   "cell_type": "code",
   "execution_count": 124,
   "id": "df42d4cd",
   "metadata": {},
   "outputs": [],
   "source": [
    "resample = sample_df.resample('w')['like_count', 'comment_count'].sum()"
   ]
  },
  {
   "cell_type": "code",
   "execution_count": 126,
   "id": "7524190a",
   "metadata": {},
   "outputs": [
    {
     "data": {
      "text/plain": [
       "<AxesSubplot:xlabel='date'>"
      ]
     },
     "execution_count": 126,
     "metadata": {},
     "output_type": "execute_result"
    },
    {
     "data": {
      "image/png": "[encoded data removed]",
      "text/plain": [
       "<Figure size 432x288 with 1 Axes>"
      ]
     },
     "metadata": {
      "needs_background": "light"
     },
     "output_type": "display_data"
    }
   ],
   "source": [
    "resample.comment_count.plot()"
   ]
  },
  {
   "cell_type": "code",
   "execution_count": 127,
   "id": "8889f612",
   "metadata": {},
   "outputs": [
    {
     "data": {
      "text/plain": [
       "<AxesSubplot:xlabel='date'>"
      ]
     },
     "execution_count": 127,
     "metadata": {},
     "output_type": "execute_result"
    },
    {
     "data": {
      "image/png": "[encoded data removed]",
      "text/plain": [
       "<Figure size 432x288 with 1 Axes>"
      ]
     },
     "metadata": {
      "needs_background": "light"
     },
     "output_type": "display_data"
    }
   ],
   "source": [
    "resample.like_count.plot()"
   ]
  },
  {
   "cell_type": "code",
   "execution_count": null,
   "id": "83519a59",
   "metadata": {},
   "outputs": [],
   "source": []
  }
 ],
 "metadata": {
  "kernelspec": {
   "display_name": "Python 3 (ipykernel)",
   "language": "python",
   "name": "python3"
  },
  "language_info": {
   "codemirror_mode": {
    "name": "ipython",
    "version": 3
   },
   "file_extension": ".py",
   "mimetype": "text/x-python",
   "name": "python",
   "nbconvert_exporter": "python",
   "pygments_lexer": "ipython3",
   "version": "3.9.12"
  }
 },
 "nbformat": 4,
 "nbformat_minor": 5
}
