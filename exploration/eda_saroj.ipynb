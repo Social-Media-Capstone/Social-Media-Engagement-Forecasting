{
 "cells": [
  {
   "cell_type": "code",
   "execution_count": 47,
   "id": "9ba344ec",
   "metadata": {},
   "outputs": [],
   "source": [
    "import pandas as pd\n",
    "import numpy as np\n",
    "import seaborn as sns\n",
    "import time\n",
    "import datetime\n",
    "\n"
   ]
  },
  {
   "cell_type": "code",
   "execution_count": 117,
   "id": "135f0f84",
   "metadata": {},
   "outputs": [
    {
     "name": "stderr",
     "output_type": "stream",
     "text": [
      "/var/folders/h9/174nr99d0zl_7cgtzqpv_gzw144wkq/T/ipykernel_15736/2020262173.py:1: DtypeWarning: Columns (0,2,3,5,7) have mixed types. Specify dtype option on import or set low_memory=False.\n",
      "  df= pd.read_csv('instagram_data.csv')\n"
     ]
    }
   ],
   "source": [
    "#import instagram csv file\n",
    "df= pd.read_csv('instagram_data.csv')"
   ]
  },
  {
   "cell_type": "code",
   "execution_count": 118,
   "id": "ca339329",
   "metadata": {},
   "outputs": [
    {
     "data": {
      "text/html": [
       "<div>\n",
       "<style scoped>\n",
       "    .dataframe tbody tr th:only-of-type {\n",
       "        vertical-align: middle;\n",
       "    }\n",
       "\n",
       "    .dataframe tbody tr th {\n",
       "        vertical-align: top;\n",
       "    }\n",
       "\n",
       "    .dataframe thead th {\n",
       "        text-align: right;\n",
       "    }\n",
       "</style>\n",
       "<table border=\"1\" class=\"dataframe\">\n",
       "  <thead>\n",
       "    <tr style=\"text-align: right;\">\n",
       "      <th></th>\n",
       "      <th>Unnamed: 0</th>\n",
       "      <th>id</th>\n",
       "      <th>owner_id</th>\n",
       "      <th>is_video</th>\n",
       "      <th>timestamp</th>\n",
       "      <th>caption</th>\n",
       "      <th>like_count</th>\n",
       "      <th>comment_disabled</th>\n",
       "      <th>comment_count</th>\n",
       "    </tr>\n",
       "  </thead>\n",
       "  <tbody>\n",
       "    <tr>\n",
       "      <th>0</th>\n",
       "      <td>0</td>\n",
       "      <td>1.806152e+18</td>\n",
       "      <td>50884856</td>\n",
       "      <td>False</td>\n",
       "      <td>1.529530e+09</td>\n",
       "      <td>Follow the movement and get my EP #MYEX on @it...</td>\n",
       "      <td>1160.0</td>\n",
       "      <td>False</td>\n",
       "      <td>0.0</td>\n",
       "    </tr>\n",
       "    <tr>\n",
       "      <th>1</th>\n",
       "      <td>1</td>\n",
       "      <td>1.778527e+18</td>\n",
       "      <td>14446047</td>\n",
       "      <td>False</td>\n",
       "      <td>1.526237e+09</td>\n",
       "      <td>These sunnies are going to be my summer favs! ...</td>\n",
       "      <td>172.0</td>\n",
       "      <td>False</td>\n",
       "      <td>11.0</td>\n",
       "    </tr>\n",
       "    <tr>\n",
       "      <th>2</th>\n",
       "      <td>2</td>\n",
       "      <td>1.913546e+18</td>\n",
       "      <td>299170460</td>\n",
       "      <td>False</td>\n",
       "      <td>1.542332e+09</td>\n",
       "      <td>What do you think of these #glasses that I got...</td>\n",
       "      <td>20.0</td>\n",
       "      <td>False</td>\n",
       "      <td>1.0</td>\n",
       "    </tr>\n",
       "    <tr>\n",
       "      <th>3</th>\n",
       "      <td>3</td>\n",
       "      <td>2.002372e+18</td>\n",
       "      <td>2217874</td>\n",
       "      <td>False</td>\n",
       "      <td>1.552921e+09</td>\n",
       "      <td>Fancy for the night 💵 @fashionnovacurve .\\n.\\n...</td>\n",
       "      <td>3416.0</td>\n",
       "      <td>False</td>\n",
       "      <td>40.0</td>\n",
       "    </tr>\n",
       "    <tr>\n",
       "      <th>4</th>\n",
       "      <td>4</td>\n",
       "      <td>1.735701e+18</td>\n",
       "      <td>1487840452</td>\n",
       "      <td>False</td>\n",
       "      <td>1.521132e+09</td>\n",
       "      <td>Staying cozy wearing @tartecosmetics eyeshadow...</td>\n",
       "      <td>143.0</td>\n",
       "      <td>False</td>\n",
       "      <td>4.0</td>\n",
       "    </tr>\n",
       "  </tbody>\n",
       "</table>\n",
       "</div>"
      ],
      "text/plain": [
       "  Unnamed: 0            id    owner_id is_video     timestamp  \\\n",
       "0          0  1.806152e+18    50884856    False  1.529530e+09   \n",
       "1          1  1.778527e+18    14446047    False  1.526237e+09   \n",
       "2          2  1.913546e+18   299170460    False  1.542332e+09   \n",
       "3          3  2.002372e+18     2217874    False  1.552921e+09   \n",
       "4          4  1.735701e+18  1487840452    False  1.521132e+09   \n",
       "\n",
       "                                             caption  like_count  \\\n",
       "0  Follow the movement and get my EP #MYEX on @it...      1160.0   \n",
       "1  These sunnies are going to be my summer favs! ...       172.0   \n",
       "2  What do you think of these #glasses that I got...        20.0   \n",
       "3  Fancy for the night 💵 @fashionnovacurve .\\n.\\n...      3416.0   \n",
       "4  Staying cozy wearing @tartecosmetics eyeshadow...       143.0   \n",
       "\n",
       "  comment_disabled  comment_count  \n",
       "0            False            0.0  \n",
       "1            False           11.0  \n",
       "2            False            1.0  \n",
       "3            False           40.0  \n",
       "4            False            4.0  "
      ]
     },
     "execution_count": 118,
     "metadata": {},
     "output_type": "execute_result"
    }
   ],
   "source": [
    "df.head()"
   ]
  },
  {
   "cell_type": "code",
   "execution_count": 75,
   "id": "b605da47",
   "metadata": {},
   "outputs": [
    {
     "name": "stdout",
     "output_type": "stream",
     "text": [
      "<class 'pandas.core.frame.DataFrame'>\n",
      "RangeIndex: 2542181 entries, 0 to 2542180\n",
      "Data columns (total 9 columns):\n",
      " #   Column            Dtype  \n",
      "---  ------            -----  \n",
      " 0   Unnamed: 0        object \n",
      " 1   id                float64\n",
      " 2   owner_id          object \n",
      " 3   is_video          object \n",
      " 4   timestamp         float64\n",
      " 5   caption           object \n",
      " 6   like_count        float64\n",
      " 7   comment_disabled  object \n",
      " 8   comment_count     float64\n",
      "dtypes: float64(4), object(5)\n",
      "memory usage: 174.6+ MB\n"
     ]
    }
   ],
   "source": [
    "# basic info run\n",
    "df.info()\n"
   ]
  },
  {
   "cell_type": "code",
   "execution_count": 119,
   "id": "d190699c",
   "metadata": {},
   "outputs": [],
   "source": [
    "#make a copy of the datframe\n",
    "insta = df.copy()"
   ]
  },
  {
   "cell_type": "code",
   "execution_count": 134,
   "id": "566d7cca",
   "metadata": {},
   "outputs": [
    {
     "data": {
      "text/plain": [
       "Unnamed: 0                0\n",
       "id                   501966\n",
       "owner_id             501966\n",
       "is_video             501966\n",
       "timestamp            502090\n",
       "caption              509195\n",
       "like_count          1013365\n",
       "comment_disabled    1013365\n",
       "comment_count       1013365\n",
       "dtype: int64"
      ]
     },
     "execution_count": 134,
     "metadata": {},
     "output_type": "execute_result"
    }
   ],
   "source": [
    "# check the nulls\n",
    "insta.isnull().sum()"
   ]
  },
  {
   "cell_type": "code",
   "execution_count": 121,
   "id": "3bef14db",
   "metadata": {},
   "outputs": [],
   "source": [
    "# timestamp column is in epoch format\n",
    "# convert the epoch time to US central date time\n",
    "df['timestamp'] = (pd.to_datetime(df['timestamp'], unit='s')\n",
    "                     .dt.tz_localize('utc')\n",
    "                     .dt.tz_convert('US/Central'))"
   ]
  },
  {
   "cell_type": "code",
   "execution_count": 122,
   "id": "c731fb82",
   "metadata": {},
   "outputs": [
    {
     "data": {
      "text/html": [
       "<div>\n",
       "<style scoped>\n",
       "    .dataframe tbody tr th:only-of-type {\n",
       "        vertical-align: middle;\n",
       "    }\n",
       "\n",
       "    .dataframe tbody tr th {\n",
       "        vertical-align: top;\n",
       "    }\n",
       "\n",
       "    .dataframe thead th {\n",
       "        text-align: right;\n",
       "    }\n",
       "</style>\n",
       "<table border=\"1\" class=\"dataframe\">\n",
       "  <thead>\n",
       "    <tr style=\"text-align: right;\">\n",
       "      <th></th>\n",
       "      <th>is_video</th>\n",
       "      <th>timestamp</th>\n",
       "      <th>caption</th>\n",
       "      <th>like_count</th>\n",
       "      <th>comment_disabled</th>\n",
       "      <th>comment_count</th>\n",
       "    </tr>\n",
       "  </thead>\n",
       "  <tbody>\n",
       "    <tr>\n",
       "      <th>0</th>\n",
       "      <td>False</td>\n",
       "      <td>2018-06-20 16:29:05-05:00</td>\n",
       "      <td>Follow the movement and get my EP #MYEX on @it...</td>\n",
       "      <td>1160.0</td>\n",
       "      <td>False</td>\n",
       "      <td>0.0</td>\n",
       "    </tr>\n",
       "    <tr>\n",
       "      <th>1</th>\n",
       "      <td>False</td>\n",
       "      <td>2018-05-13 13:43:40-05:00</td>\n",
       "      <td>These sunnies are going to be my summer favs! ...</td>\n",
       "      <td>172.0</td>\n",
       "      <td>False</td>\n",
       "      <td>11.0</td>\n",
       "    </tr>\n",
       "    <tr>\n",
       "      <th>2</th>\n",
       "      <td>False</td>\n",
       "      <td>2018-11-15 19:41:19-06:00</td>\n",
       "      <td>What do you think of these #glasses that I got...</td>\n",
       "      <td>20.0</td>\n",
       "      <td>False</td>\n",
       "      <td>1.0</td>\n",
       "    </tr>\n",
       "    <tr>\n",
       "      <th>3</th>\n",
       "      <td>False</td>\n",
       "      <td>2019-03-18 10:02:58-05:00</td>\n",
       "      <td>Fancy for the night 💵 @fashionnovacurve .\\n.\\n...</td>\n",
       "      <td>3416.0</td>\n",
       "      <td>False</td>\n",
       "      <td>40.0</td>\n",
       "    </tr>\n",
       "    <tr>\n",
       "      <th>4</th>\n",
       "      <td>False</td>\n",
       "      <td>2018-03-15 11:35:37-05:00</td>\n",
       "      <td>Staying cozy wearing @tartecosmetics eyeshadow...</td>\n",
       "      <td>143.0</td>\n",
       "      <td>False</td>\n",
       "      <td>4.0</td>\n",
       "    </tr>\n",
       "  </tbody>\n",
       "</table>\n",
       "</div>"
      ],
      "text/plain": [
       "  is_video                 timestamp  \\\n",
       "0    False 2018-06-20 16:29:05-05:00   \n",
       "1    False 2018-05-13 13:43:40-05:00   \n",
       "2    False 2018-11-15 19:41:19-06:00   \n",
       "3    False 2019-03-18 10:02:58-05:00   \n",
       "4    False 2018-03-15 11:35:37-05:00   \n",
       "\n",
       "                                             caption  like_count  \\\n",
       "0  Follow the movement and get my EP #MYEX on @it...      1160.0   \n",
       "1  These sunnies are going to be my summer favs! ...       172.0   \n",
       "2  What do you think of these #glasses that I got...        20.0   \n",
       "3  Fancy for the night 💵 @fashionnovacurve .\\n.\\n...      3416.0   \n",
       "4  Staying cozy wearing @tartecosmetics eyeshadow...       143.0   \n",
       "\n",
       "  comment_disabled  comment_count  \n",
       "0            False            0.0  \n",
       "1            False           11.0  \n",
       "2            False            1.0  \n",
       "3            False           40.0  \n",
       "4            False            4.0  "
      ]
     },
     "execution_count": 122,
     "metadata": {},
     "output_type": "execute_result"
    }
   ],
   "source": [
    "# drop unwanted columns\n",
    "df= df.drop(columns=['Unnamed: 0','id','owner_id'])\n",
    "df.head()"
   ]
  },
  {
   "cell_type": "code",
   "execution_count": 123,
   "id": "8abf3913",
   "metadata": {},
   "outputs": [
    {
     "data": {
      "text/html": [
       "<div>\n",
       "<style scoped>\n",
       "    .dataframe tbody tr th:only-of-type {\n",
       "        vertical-align: middle;\n",
       "    }\n",
       "\n",
       "    .dataframe tbody tr th {\n",
       "        vertical-align: top;\n",
       "    }\n",
       "\n",
       "    .dataframe thead th {\n",
       "        text-align: right;\n",
       "    }\n",
       "</style>\n",
       "<table border=\"1\" class=\"dataframe\">\n",
       "  <thead>\n",
       "    <tr style=\"text-align: right;\">\n",
       "      <th></th>\n",
       "      <th>is_video</th>\n",
       "      <th>timestamp</th>\n",
       "      <th>caption</th>\n",
       "      <th>like_count</th>\n",
       "      <th>comment_disabled</th>\n",
       "      <th>comment_count</th>\n",
       "    </tr>\n",
       "  </thead>\n",
       "  <tbody>\n",
       "    <tr>\n",
       "      <th>0</th>\n",
       "      <td>False</td>\n",
       "      <td>2018-06-20 16:29:05-05:00</td>\n",
       "      <td>Follow the movement and get my EP #MYEX on @it...</td>\n",
       "      <td>1160.0</td>\n",
       "      <td>False</td>\n",
       "      <td>0.0</td>\n",
       "    </tr>\n",
       "    <tr>\n",
       "      <th>1</th>\n",
       "      <td>False</td>\n",
       "      <td>2018-05-13 13:43:40-05:00</td>\n",
       "      <td>These sunnies are going to be my summer favs! ...</td>\n",
       "      <td>172.0</td>\n",
       "      <td>False</td>\n",
       "      <td>11.0</td>\n",
       "    </tr>\n",
       "    <tr>\n",
       "      <th>2</th>\n",
       "      <td>False</td>\n",
       "      <td>2018-11-15 19:41:19-06:00</td>\n",
       "      <td>What do you think of these #glasses that I got...</td>\n",
       "      <td>20.0</td>\n",
       "      <td>False</td>\n",
       "      <td>1.0</td>\n",
       "    </tr>\n",
       "    <tr>\n",
       "      <th>3</th>\n",
       "      <td>False</td>\n",
       "      <td>2019-03-18 10:02:58-05:00</td>\n",
       "      <td>Fancy for the night 💵 @fashionnovacurve .\\n.\\n...</td>\n",
       "      <td>3416.0</td>\n",
       "      <td>False</td>\n",
       "      <td>40.0</td>\n",
       "    </tr>\n",
       "    <tr>\n",
       "      <th>4</th>\n",
       "      <td>False</td>\n",
       "      <td>2018-03-15 11:35:37-05:00</td>\n",
       "      <td>Staying cozy wearing @tartecosmetics eyeshadow...</td>\n",
       "      <td>143.0</td>\n",
       "      <td>False</td>\n",
       "      <td>4.0</td>\n",
       "    </tr>\n",
       "  </tbody>\n",
       "</table>\n",
       "</div>"
      ],
      "text/plain": [
       "  is_video                 timestamp  \\\n",
       "0    False 2018-06-20 16:29:05-05:00   \n",
       "1    False 2018-05-13 13:43:40-05:00   \n",
       "2    False 2018-11-15 19:41:19-06:00   \n",
       "3    False 2019-03-18 10:02:58-05:00   \n",
       "4    False 2018-03-15 11:35:37-05:00   \n",
       "\n",
       "                                             caption  like_count  \\\n",
       "0  Follow the movement and get my EP #MYEX on @it...      1160.0   \n",
       "1  These sunnies are going to be my summer favs! ...       172.0   \n",
       "2  What do you think of these #glasses that I got...        20.0   \n",
       "3  Fancy for the night 💵 @fashionnovacurve .\\n.\\n...      3416.0   \n",
       "4  Staying cozy wearing @tartecosmetics eyeshadow...       143.0   \n",
       "\n",
       "  comment_disabled  comment_count  \n",
       "0            False            0.0  \n",
       "1            False           11.0  \n",
       "2            False            1.0  \n",
       "3            False           40.0  \n",
       "4            False            4.0  "
      ]
     },
     "execution_count": 123,
     "metadata": {},
     "output_type": "execute_result"
    }
   ],
   "source": [
    "df.head()"
   ]
  },
  {
   "cell_type": "code",
   "execution_count": null,
   "id": "74e831ad",
   "metadata": {},
   "outputs": [],
   "source": []
  },
  {
   "cell_type": "code",
   "execution_count": 124,
   "id": "920a3314",
   "metadata": {},
   "outputs": [],
   "source": [
    "# make a function for instagram preparation \n",
    "def insta_prep(df):\n",
    "    # converting the timestamp column to US central datetime from epoch time format\n",
    "    df['timestamp'] = (pd.to_datetime(df['timestamp'], unit='s')\n",
    "                     .dt.tz_localize('utc')\n",
    "                     .dt.tz_convert('US/Central'))\n",
    "    # drop not needed functions\n",
    "    df= df.drop(columns=['Unnamed: 0','id','owner_id', 'comment_disabled'])\n",
    "    return df"
   ]
  },
  {
   "cell_type": "code",
   "execution_count": 125,
   "id": "2018ee7d",
   "metadata": {},
   "outputs": [],
   "source": [
    "df1 = insta_prep(insta)"
   ]
  },
  {
   "cell_type": "code",
   "execution_count": 126,
   "id": "83eba2ef",
   "metadata": {},
   "outputs": [
    {
     "data": {
      "text/html": [
       "<div>\n",
       "<style scoped>\n",
       "    .dataframe tbody tr th:only-of-type {\n",
       "        vertical-align: middle;\n",
       "    }\n",
       "\n",
       "    .dataframe tbody tr th {\n",
       "        vertical-align: top;\n",
       "    }\n",
       "\n",
       "    .dataframe thead th {\n",
       "        text-align: right;\n",
       "    }\n",
       "</style>\n",
       "<table border=\"1\" class=\"dataframe\">\n",
       "  <thead>\n",
       "    <tr style=\"text-align: right;\">\n",
       "      <th></th>\n",
       "      <th>is_video</th>\n",
       "      <th>timestamp</th>\n",
       "      <th>caption</th>\n",
       "      <th>like_count</th>\n",
       "      <th>comment_disabled</th>\n",
       "      <th>comment_count</th>\n",
       "    </tr>\n",
       "  </thead>\n",
       "  <tbody>\n",
       "    <tr>\n",
       "      <th>0</th>\n",
       "      <td>False</td>\n",
       "      <td>2018-06-20 16:29:05-05:00</td>\n",
       "      <td>Follow the movement and get my EP #MYEX on @it...</td>\n",
       "      <td>1160.0</td>\n",
       "      <td>False</td>\n",
       "      <td>0.0</td>\n",
       "    </tr>\n",
       "    <tr>\n",
       "      <th>1</th>\n",
       "      <td>False</td>\n",
       "      <td>2018-05-13 13:43:40-05:00</td>\n",
       "      <td>These sunnies are going to be my summer favs! ...</td>\n",
       "      <td>172.0</td>\n",
       "      <td>False</td>\n",
       "      <td>11.0</td>\n",
       "    </tr>\n",
       "    <tr>\n",
       "      <th>2</th>\n",
       "      <td>False</td>\n",
       "      <td>2018-11-15 19:41:19-06:00</td>\n",
       "      <td>What do you think of these #glasses that I got...</td>\n",
       "      <td>20.0</td>\n",
       "      <td>False</td>\n",
       "      <td>1.0</td>\n",
       "    </tr>\n",
       "    <tr>\n",
       "      <th>3</th>\n",
       "      <td>False</td>\n",
       "      <td>2019-03-18 10:02:58-05:00</td>\n",
       "      <td>Fancy for the night 💵 @fashionnovacurve .\\n.\\n...</td>\n",
       "      <td>3416.0</td>\n",
       "      <td>False</td>\n",
       "      <td>40.0</td>\n",
       "    </tr>\n",
       "    <tr>\n",
       "      <th>4</th>\n",
       "      <td>False</td>\n",
       "      <td>2018-03-15 11:35:37-05:00</td>\n",
       "      <td>Staying cozy wearing @tartecosmetics eyeshadow...</td>\n",
       "      <td>143.0</td>\n",
       "      <td>False</td>\n",
       "      <td>4.0</td>\n",
       "    </tr>\n",
       "  </tbody>\n",
       "</table>\n",
       "</div>"
      ],
      "text/plain": [
       "  is_video                 timestamp  \\\n",
       "0    False 2018-06-20 16:29:05-05:00   \n",
       "1    False 2018-05-13 13:43:40-05:00   \n",
       "2    False 2018-11-15 19:41:19-06:00   \n",
       "3    False 2019-03-18 10:02:58-05:00   \n",
       "4    False 2018-03-15 11:35:37-05:00   \n",
       "\n",
       "                                             caption  like_count  \\\n",
       "0  Follow the movement and get my EP #MYEX on @it...      1160.0   \n",
       "1  These sunnies are going to be my summer favs! ...       172.0   \n",
       "2  What do you think of these #glasses that I got...        20.0   \n",
       "3  Fancy for the night 💵 @fashionnovacurve .\\n.\\n...      3416.0   \n",
       "4  Staying cozy wearing @tartecosmetics eyeshadow...       143.0   \n",
       "\n",
       "  comment_disabled  comment_count  \n",
       "0            False            0.0  \n",
       "1            False           11.0  \n",
       "2            False            1.0  \n",
       "3            False           40.0  \n",
       "4            False            4.0  "
      ]
     },
     "execution_count": 126,
     "metadata": {},
     "output_type": "execute_result"
    }
   ],
   "source": [
    "df1.head()"
   ]
  },
  {
   "cell_type": "code",
   "execution_count": 131,
   "id": "ae7a24be",
   "metadata": {},
   "outputs": [
    {
     "name": "stderr",
     "output_type": "stream",
     "text": [
      "/var/folders/h9/174nr99d0zl_7cgtzqpv_gzw144wkq/T/ipykernel_15736/117626836.py:1: FutureWarning: Treating datetime data as categorical rather than numeric in `.describe` is deprecated and will be removed in a future version of pandas. Specify `datetime_is_numeric=True` to silence this warning and adopt the future behavior now.\n",
      "  df1.timestamp.describe()\n"
     ]
    },
    {
     "data": {
      "text/plain": [
       "count                       2040091\n",
       "unique                      1500050\n",
       "top       2018-07-24 13:23:03-05:00\n",
       "freq                          65336\n",
       "first     2011-09-28 01:42:20-05:00\n",
       "last      2019-05-07 19:01:07-05:00\n",
       "Name: timestamp, dtype: object"
      ]
     },
     "execution_count": 131,
     "metadata": {},
     "output_type": "execute_result"
    }
   ],
   "source": [
    "df1.timestamp.describe()"
   ]
  },
  {
   "cell_type": "code",
   "execution_count": 143,
   "id": "94103127",
   "metadata": {},
   "outputs": [
    {
     "data": {
      "text/plain": [
       "is_video             501966\n",
       "timestamp            502090\n",
       "caption              509195\n",
       "like_count          1013365\n",
       "comment_disabled    1013365\n",
       "comment_count       1013365\n",
       "dtype: int64"
      ]
     },
     "execution_count": 143,
     "metadata": {},
     "output_type": "execute_result"
    }
   ],
   "source": [
    "df1.isnull().sum()"
   ]
  },
  {
   "cell_type": "code",
   "execution_count": 140,
   "id": "8579bb07",
   "metadata": {},
   "outputs": [
    {
     "data": {
      "text/plain": [
       "5033.863272805178"
      ]
     },
     "execution_count": 140,
     "metadata": {},
     "output_type": "execute_result"
    }
   ],
   "source": [
    "df1[(df1.timestamp < '2020') & (df1.timestamp>'2019')].like_count.mean()"
   ]
  },
  {
   "cell_type": "code",
   "execution_count": 141,
   "id": "82d3484a",
   "metadata": {},
   "outputs": [
    {
     "data": {
      "text/plain": [
       "4530.000964243556"
      ]
     },
     "execution_count": 141,
     "metadata": {},
     "output_type": "execute_result"
    }
   ],
   "source": [
    "df1[(df1.timestamp < '2019') & (df1.timestamp>'2018')].like_count.mean()"
   ]
  },
  {
   "cell_type": "code",
   "execution_count": 142,
   "id": "8468f9c2",
   "metadata": {},
   "outputs": [
    {
     "data": {
      "text/plain": [
       "3201.3840768934847"
      ]
     },
     "execution_count": 142,
     "metadata": {},
     "output_type": "execute_result"
    }
   ],
   "source": [
    "df1[(df1.timestamp < '2018') & (df1.timestamp>'2017')].like_count.mean()"
   ]
  },
  {
   "cell_type": "code",
   "execution_count": 144,
   "id": "e42dc125",
   "metadata": {},
   "outputs": [],
   "source": [
    "import unicodedata\n",
    "import re\n",
    "import json\n",
    "\n",
    "# nltk: natural language toolkit -> tokenization, stopwords (more on this soon)\n",
    "import nltk\n",
    "from nltk.tokenize.toktok import ToktokTokenizer\n",
    "from nltk.corpus import stopwords"
   ]
  },
  {
   "cell_type": "code",
   "execution_count": 145,
   "id": "cfebc28d",
   "metadata": {},
   "outputs": [],
   "source": [
    "def basic_clean(text):\n",
    "    '''\n",
    "    This function returns a normalized lowercase version of input text.\n",
    "    '''\n",
    "    text = text.lower()\n",
    "\n",
    "    text = unicodedata.normalize('NFKD', text)\\\n",
    "             .encode('ascii', 'ignore')\\\n",
    "             .decode('utf-8', 'ignore')\n",
    "    text = re.sub(r'[^\\w\\s]', '', text).lower()\n",
    "    text = re.sub(r'\\w*\\n\\w*', '', text)\n",
    "    text = re.sub(r'http\\S+|www\\S+|https\\S+', '', text, flags=re.MULTILINE)\n",
    "    return text\n",
    "\n",
    "\n",
    "def tokenize(text):\n",
    "    '''\n",
    "    This function returns a tokenized version of the input text.\n",
    "    '''\n",
    "    tokenizer = nltk.tokenize.ToktokTokenizer()\n",
    "    text = tokenizer.tokenize(text, return_str=True)\n",
    "    return text\n",
    "\n",
    "\n",
    "def stem(text):\n",
    "    '''\n",
    "    This function returns a stemmed text.\n",
    "    '''\n",
    "    ps = nltk.porter.PorterStemmer()\n",
    "    stems = [ps.stem(word) for word in text.split()]\n",
    "    text = ' '.join(stems)    \n",
    "    return text\n",
    "\n",
    "\n",
    "def lemmatize(text):\n",
    "    '''\n",
    "    This function returns a lemmatized version of the input text.\n",
    "    '''\n",
    "    wnl = nltk.stem.WordNetLemmatizer()\n",
    "    lemmas = [wnl.lemmatize(word) for word in text.split()]\n",
    "    text = ' '.join(lemmas)    \n",
    "    return text\n",
    "\n",
    "\n",
    "def remove_stopwords(text, extra_words = [], exclude_words = []):\n",
    "    '''\n",
    "    This function limits the output of words with parameters set in place to exclude words \n",
    "    and add extra words ontop of the stopwords .\n",
    "    '''\n",
    "    stopword_list = stopwords.words('english')\n",
    "    stopword_list = set(stopword_list) - set(exclude_words)\n",
    "    stopword_list = stopword_list.union(set(extra_words))\n",
    "    words = text.split()\n",
    "    filtered_words = [word for word in words if word not in stopword_list]\n",
    "    text_without_stopwords = ' '.join(filtered_words)    \n",
    "    return text_without_stopwords\n"
   ]
  },
  {
   "cell_type": "code",
   "execution_count": 148,
   "id": "7dd39aab",
   "metadata": {},
   "outputs": [],
   "source": [
    "df['caption']= df['caption'].astype('string')"
   ]
  },
  {
   "cell_type": "code",
   "execution_count": 158,
   "id": "1d4b9190",
   "metadata": {},
   "outputs": [],
   "source": [
    "df1['caption']= df['caption'].astype('string')"
   ]
  },
  {
   "cell_type": "code",
   "execution_count": 151,
   "id": "48f7f7b4",
   "metadata": {},
   "outputs": [],
   "source": [
    "df1.dropna(inplace= True)"
   ]
  },
  {
   "cell_type": "code",
   "execution_count": 154,
   "id": "cedb1fa9",
   "metadata": {},
   "outputs": [
    {
     "data": {
      "text/html": [
       "<div>\n",
       "<style scoped>\n",
       "    .dataframe tbody tr th:only-of-type {\n",
       "        vertical-align: middle;\n",
       "    }\n",
       "\n",
       "    .dataframe tbody tr th {\n",
       "        vertical-align: top;\n",
       "    }\n",
       "\n",
       "    .dataframe thead th {\n",
       "        text-align: right;\n",
       "    }\n",
       "</style>\n",
       "<table border=\"1\" class=\"dataframe\">\n",
       "  <thead>\n",
       "    <tr style=\"text-align: right;\">\n",
       "      <th></th>\n",
       "      <th>is_video</th>\n",
       "      <th>timestamp</th>\n",
       "      <th>caption</th>\n",
       "      <th>like_count</th>\n",
       "      <th>comment_disabled</th>\n",
       "      <th>comment_count</th>\n",
       "    </tr>\n",
       "  </thead>\n",
       "  <tbody>\n",
       "    <tr>\n",
       "      <th>0</th>\n",
       "      <td>False</td>\n",
       "      <td>False</td>\n",
       "      <td>False</td>\n",
       "      <td>False</td>\n",
       "      <td>False</td>\n",
       "      <td>False</td>\n",
       "    </tr>\n",
       "    <tr>\n",
       "      <th>1</th>\n",
       "      <td>False</td>\n",
       "      <td>False</td>\n",
       "      <td>False</td>\n",
       "      <td>False</td>\n",
       "      <td>False</td>\n",
       "      <td>False</td>\n",
       "    </tr>\n",
       "    <tr>\n",
       "      <th>2</th>\n",
       "      <td>False</td>\n",
       "      <td>False</td>\n",
       "      <td>False</td>\n",
       "      <td>False</td>\n",
       "      <td>False</td>\n",
       "      <td>False</td>\n",
       "    </tr>\n",
       "    <tr>\n",
       "      <th>3</th>\n",
       "      <td>False</td>\n",
       "      <td>False</td>\n",
       "      <td>False</td>\n",
       "      <td>False</td>\n",
       "      <td>False</td>\n",
       "      <td>False</td>\n",
       "    </tr>\n",
       "    <tr>\n",
       "      <th>4</th>\n",
       "      <td>False</td>\n",
       "      <td>False</td>\n",
       "      <td>False</td>\n",
       "      <td>False</td>\n",
       "      <td>False</td>\n",
       "      <td>False</td>\n",
       "    </tr>\n",
       "    <tr>\n",
       "      <th>...</th>\n",
       "      <td>...</td>\n",
       "      <td>...</td>\n",
       "      <td>...</td>\n",
       "      <td>...</td>\n",
       "      <td>...</td>\n",
       "      <td>...</td>\n",
       "    </tr>\n",
       "    <tr>\n",
       "      <th>2542176</th>\n",
       "      <td>False</td>\n",
       "      <td>False</td>\n",
       "      <td>False</td>\n",
       "      <td>False</td>\n",
       "      <td>False</td>\n",
       "      <td>False</td>\n",
       "    </tr>\n",
       "    <tr>\n",
       "      <th>2542177</th>\n",
       "      <td>False</td>\n",
       "      <td>False</td>\n",
       "      <td>False</td>\n",
       "      <td>False</td>\n",
       "      <td>False</td>\n",
       "      <td>False</td>\n",
       "    </tr>\n",
       "    <tr>\n",
       "      <th>2542178</th>\n",
       "      <td>False</td>\n",
       "      <td>False</td>\n",
       "      <td>False</td>\n",
       "      <td>False</td>\n",
       "      <td>False</td>\n",
       "      <td>False</td>\n",
       "    </tr>\n",
       "    <tr>\n",
       "      <th>2542179</th>\n",
       "      <td>False</td>\n",
       "      <td>False</td>\n",
       "      <td>False</td>\n",
       "      <td>False</td>\n",
       "      <td>False</td>\n",
       "      <td>False</td>\n",
       "    </tr>\n",
       "    <tr>\n",
       "      <th>2542180</th>\n",
       "      <td>False</td>\n",
       "      <td>False</td>\n",
       "      <td>False</td>\n",
       "      <td>False</td>\n",
       "      <td>False</td>\n",
       "      <td>False</td>\n",
       "    </tr>\n",
       "  </tbody>\n",
       "</table>\n",
       "<p>1521711 rows × 6 columns</p>\n",
       "</div>"
      ],
      "text/plain": [
       "         is_video  timestamp  caption  like_count  comment_disabled  \\\n",
       "0           False      False    False       False             False   \n",
       "1           False      False    False       False             False   \n",
       "2           False      False    False       False             False   \n",
       "3           False      False    False       False             False   \n",
       "4           False      False    False       False             False   \n",
       "...           ...        ...      ...         ...               ...   \n",
       "2542176     False      False    False       False             False   \n",
       "2542177     False      False    False       False             False   \n",
       "2542178     False      False    False       False             False   \n",
       "2542179     False      False    False       False             False   \n",
       "2542180     False      False    False       False             False   \n",
       "\n",
       "         comment_count  \n",
       "0                False  \n",
       "1                False  \n",
       "2                False  \n",
       "3                False  \n",
       "4                False  \n",
       "...                ...  \n",
       "2542176          False  \n",
       "2542177          False  \n",
       "2542178          False  \n",
       "2542179          False  \n",
       "2542180          False  \n",
       "\n",
       "[1521711 rows x 6 columns]"
      ]
     },
     "execution_count": 154,
     "metadata": {},
     "output_type": "execute_result"
    }
   ],
   "source": [
    "df1.isnull()"
   ]
  },
  {
   "cell_type": "code",
   "execution_count": 153,
   "id": "7262b3e9",
   "metadata": {},
   "outputs": [
    {
     "data": {
      "text/plain": [
       "is_video            0\n",
       "timestamp           0\n",
       "caption             0\n",
       "like_count          0\n",
       "comment_disabled    0\n",
       "comment_count       0\n",
       "dtype: int64"
      ]
     },
     "execution_count": 153,
     "metadata": {},
     "output_type": "execute_result"
    }
   ],
   "source": [
    "df1.isnull().sum()"
   ]
  },
  {
   "cell_type": "code",
   "execution_count": 159,
   "id": "3c7477a2",
   "metadata": {},
   "outputs": [
    {
     "name": "stdout",
     "output_type": "stream",
     "text": [
      "<class 'pandas.core.frame.DataFrame'>\n",
      "Int64Index: 1521711 entries, 0 to 2542180\n",
      "Data columns (total 6 columns):\n",
      " #   Column            Non-Null Count    Dtype                     \n",
      "---  ------            --------------    -----                     \n",
      " 0   is_video          1521711 non-null  object                    \n",
      " 1   timestamp         1521711 non-null  datetime64[ns, US/Central]\n",
      " 2   caption           1521711 non-null  string                    \n",
      " 3   like_count        1521711 non-null  float64                   \n",
      " 4   comment_disabled  1521711 non-null  object                    \n",
      " 5   comment_count     1521711 non-null  float64                   \n",
      "dtypes: datetime64[ns, US/Central](1), float64(2), object(2), string(1)\n",
      "memory usage: 81.3+ MB\n"
     ]
    }
   ],
   "source": [
    "df1.info()"
   ]
  },
  {
   "cell_type": "code",
   "execution_count": 161,
   "id": "4cf000b9",
   "metadata": {},
   "outputs": [
    {
     "data": {
      "text/html": [
       "<div>\n",
       "<style scoped>\n",
       "    .dataframe tbody tr th:only-of-type {\n",
       "        vertical-align: middle;\n",
       "    }\n",
       "\n",
       "    .dataframe tbody tr th {\n",
       "        vertical-align: top;\n",
       "    }\n",
       "\n",
       "    .dataframe thead th {\n",
       "        text-align: right;\n",
       "    }\n",
       "</style>\n",
       "<table border=\"1\" class=\"dataframe\">\n",
       "  <thead>\n",
       "    <tr style=\"text-align: right;\">\n",
       "      <th></th>\n",
       "      <th>is_video</th>\n",
       "      <th>timestamp</th>\n",
       "      <th>caption</th>\n",
       "      <th>like_count</th>\n",
       "      <th>comment_disabled</th>\n",
       "      <th>comment_count</th>\n",
       "    </tr>\n",
       "  </thead>\n",
       "  <tbody>\n",
       "  </tbody>\n",
       "</table>\n",
       "</div>"
      ],
      "text/plain": [
       "Empty DataFrame\n",
       "Columns: [is_video, timestamp, caption, like_count, comment_disabled, comment_count]\n",
       "Index: []"
      ]
     },
     "execution_count": 161,
     "metadata": {},
     "output_type": "execute_result"
    }
   ],
   "source": [
    "df1[df1.caption == 'NAType']"
   ]
  },
  {
   "cell_type": "code",
   "execution_count": 162,
   "id": "70d0e3f5",
   "metadata": {},
   "outputs": [],
   "source": [
    "df1['cleaned']= df1['caption'].apply(lambda x:remove_stopwords(tokenize(basic_clean(x))))"
   ]
  },
  {
   "cell_type": "code",
   "execution_count": 165,
   "id": "2f80d23a",
   "metadata": {},
   "outputs": [],
   "source": [
    "df1['stemmed'] = df1['cleaned'].apply(lambda x: stem(x))"
   ]
  },
  {
   "cell_type": "code",
   "execution_count": 166,
   "id": "fb725edc",
   "metadata": {},
   "outputs": [],
   "source": [
    "df1['lemmatized'] = df1['cleaned'].apply(lambda x:lemmatize(x))"
   ]
  },
  {
   "cell_type": "code",
   "execution_count": 169,
   "id": "7f4a2c4d",
   "metadata": {},
   "outputs": [
    {
     "data": {
      "text/html": [
       "<div>\n",
       "<style scoped>\n",
       "    .dataframe tbody tr th:only-of-type {\n",
       "        vertical-align: middle;\n",
       "    }\n",
       "\n",
       "    .dataframe tbody tr th {\n",
       "        vertical-align: top;\n",
       "    }\n",
       "\n",
       "    .dataframe thead th {\n",
       "        text-align: right;\n",
       "    }\n",
       "</style>\n",
       "<table border=\"1\" class=\"dataframe\">\n",
       "  <thead>\n",
       "    <tr style=\"text-align: right;\">\n",
       "      <th></th>\n",
       "      <th>is_video</th>\n",
       "      <th>timestamp</th>\n",
       "      <th>caption</th>\n",
       "      <th>like_count</th>\n",
       "      <th>comment_disabled</th>\n",
       "      <th>comment_count</th>\n",
       "      <th>cleaned</th>\n",
       "      <th>stemmed</th>\n",
       "      <th>lemmatized</th>\n",
       "    </tr>\n",
       "  </thead>\n",
       "  <tbody>\n",
       "    <tr>\n",
       "      <th>0</th>\n",
       "      <td>False</td>\n",
       "      <td>2018-06-20 16:29:05-05:00</td>\n",
       "      <td>Follow the movement and get my EP #MYEX on @it...</td>\n",
       "      <td>1160.0</td>\n",
       "      <td>False</td>\n",
       "      <td>0.0</td>\n",
       "      <td>follow movement get ep myex itunes apple atl a...</td>\n",
       "      <td>follow movement get ep myex itun appl atl atlanta</td>\n",
       "      <td>follow movement get ep myex itunes apple atl a...</td>\n",
       "    </tr>\n",
       "    <tr>\n",
       "      <th>1</th>\n",
       "      <td>False</td>\n",
       "      <td>2018-05-13 13:43:40-05:00</td>\n",
       "      <td>These sunnies are going to be my summer favs! ...</td>\n",
       "      <td>172.0</td>\n",
       "      <td>False</td>\n",
       "      <td>11.0</td>\n",
       "      <td>sunnies going summer favs 20 screenshot shop p...</td>\n",
       "      <td>sunni go summer fav 20 screenshot shop pic lik...</td>\n",
       "      <td>sunnies going summer favs 20 screenshot shop p...</td>\n",
       "    </tr>\n",
       "    <tr>\n",
       "      <th>2</th>\n",
       "      <td>False</td>\n",
       "      <td>2018-11-15 19:41:19-06:00</td>\n",
       "      <td>What do you think of these #glasses that I got...</td>\n",
       "      <td>20.0</td>\n",
       "      <td>False</td>\n",
       "      <td>1.0</td>\n",
       "      <td>think glasses got new babbleboxxofficial madef...</td>\n",
       "      <td>think glass got new babbleboxxoffici madeforma...</td>\n",
       "      <td>think glass got new babbleboxxofficial madefor...</td>\n",
       "    </tr>\n",
       "    <tr>\n",
       "      <th>3</th>\n",
       "      <td>False</td>\n",
       "      <td>2019-03-18 10:02:58-05:00</td>\n",
       "      <td>Fancy for the night 💵 @fashionnovacurve .\n",
       ".\n",
       ".\n",
       "...</td>\n",
       "      <td>3416.0</td>\n",
       "      <td>False</td>\n",
       "      <td>40.0</td>\n",
       "      <td>fancy night fashionnovacurve love instagood ph...</td>\n",
       "      <td>fanci night fashionnovacurv love instagood pho...</td>\n",
       "      <td>fancy night fashionnovacurve love instagood ph...</td>\n",
       "    </tr>\n",
       "    <tr>\n",
       "      <th>4</th>\n",
       "      <td>False</td>\n",
       "      <td>2018-03-15 11:35:37-05:00</td>\n",
       "      <td>Staying cozy wearing @tartecosmetics eyeshadow...</td>\n",
       "      <td>143.0</td>\n",
       "      <td>False</td>\n",
       "      <td>4.0</td>\n",
       "      <td>staying cozy wearing tartecosmetics eyeshadow ...</td>\n",
       "      <td>stay cozi wear tartecosmet eyeshadow warm tart...</td>\n",
       "      <td>staying cozy wearing tartecosmetics eyeshadow ...</td>\n",
       "    </tr>\n",
       "  </tbody>\n",
       "</table>\n",
       "</div>"
      ],
      "text/plain": [
       "  is_video                 timestamp  \\\n",
       "0    False 2018-06-20 16:29:05-05:00   \n",
       "1    False 2018-05-13 13:43:40-05:00   \n",
       "2    False 2018-11-15 19:41:19-06:00   \n",
       "3    False 2019-03-18 10:02:58-05:00   \n",
       "4    False 2018-03-15 11:35:37-05:00   \n",
       "\n",
       "                                             caption  like_count  \\\n",
       "0  Follow the movement and get my EP #MYEX on @it...      1160.0   \n",
       "1  These sunnies are going to be my summer favs! ...       172.0   \n",
       "2  What do you think of these #glasses that I got...        20.0   \n",
       "3  Fancy for the night 💵 @fashionnovacurve .\n",
       ".\n",
       ".\n",
       "...      3416.0   \n",
       "4  Staying cozy wearing @tartecosmetics eyeshadow...       143.0   \n",
       "\n",
       "  comment_disabled  comment_count  \\\n",
       "0            False            0.0   \n",
       "1            False           11.0   \n",
       "2            False            1.0   \n",
       "3            False           40.0   \n",
       "4            False            4.0   \n",
       "\n",
       "                                             cleaned  \\\n",
       "0  follow movement get ep myex itunes apple atl a...   \n",
       "1  sunnies going summer favs 20 screenshot shop p...   \n",
       "2  think glasses got new babbleboxxofficial madef...   \n",
       "3  fancy night fashionnovacurve love instagood ph...   \n",
       "4  staying cozy wearing tartecosmetics eyeshadow ...   \n",
       "\n",
       "                                             stemmed  \\\n",
       "0  follow movement get ep myex itun appl atl atlanta   \n",
       "1  sunni go summer fav 20 screenshot shop pic lik...   \n",
       "2  think glass got new babbleboxxoffici madeforma...   \n",
       "3  fanci night fashionnovacurv love instagood pho...   \n",
       "4  stay cozi wear tartecosmet eyeshadow warm tart...   \n",
       "\n",
       "                                          lemmatized  \n",
       "0  follow movement get ep myex itunes apple atl a...  \n",
       "1  sunnies going summer favs 20 screenshot shop p...  \n",
       "2  think glass got new babbleboxxofficial madefor...  \n",
       "3  fancy night fashionnovacurve love instagood ph...  \n",
       "4  staying cozy wearing tartecosmetics eyeshadow ...  "
      ]
     },
     "execution_count": 169,
     "metadata": {},
     "output_type": "execute_result"
    }
   ],
   "source": [
    "df1.head()"
   ]
  },
  {
   "cell_type": "code",
   "execution_count": 178,
   "id": "7739e1ec",
   "metadata": {},
   "outputs": [
    {
     "data": {
      "text/plain": [
       "142142"
      ]
     },
     "execution_count": 178,
     "metadata": {},
     "output_type": "execute_result"
    }
   ],
   "source": [
    "len(df1.caption[df1.caption.str.contains('#fashion')])"
   ]
  },
  {
   "cell_type": "code",
   "execution_count": 179,
   "id": "b4aaef83",
   "metadata": {},
   "outputs": [
    {
     "data": {
      "text/plain": [
       "24429"
      ]
     },
     "execution_count": 179,
     "metadata": {},
     "output_type": "execute_result"
    }
   ],
   "source": [
    "len(df1.caption[df1.caption.str.contains('#fitness')])"
   ]
  },
  {
   "cell_type": "code",
   "execution_count": 182,
   "id": "f443a024",
   "metadata": {},
   "outputs": [
    {
     "data": {
      "text/plain": [
       "167"
      ]
     },
     "execution_count": 182,
     "metadata": {},
     "output_type": "execute_result"
    }
   ],
   "source": [
    "len(df1.caption[df1.caption.str.contains('#humor')])"
   ]
  },
  {
   "cell_type": "code",
   "execution_count": 181,
   "id": "bedd731c",
   "metadata": {},
   "outputs": [
    {
     "data": {
      "text/plain": [
       "3200"
      ]
     },
     "execution_count": 181,
     "metadata": {},
     "output_type": "execute_result"
    }
   ],
   "source": [
    "len(df1.caption[df1.caption.str.contains('#foodlover')])"
   ]
  },
  {
   "cell_type": "code",
   "execution_count": 183,
   "id": "3a7e53e4",
   "metadata": {},
   "outputs": [
    {
     "data": {
      "text/plain": [
       "211"
      ]
     },
     "execution_count": 183,
     "metadata": {},
     "output_type": "execute_result"
    }
   ],
   "source": [
    "len(df1.caption[df1.caption.str.contains('#lmao')])"
   ]
  },
  {
   "cell_type": "code",
   "execution_count": 184,
   "id": "6ccde3c6",
   "metadata": {},
   "outputs": [
    {
     "data": {
      "text/plain": [
       "1"
      ]
     },
     "execution_count": 184,
     "metadata": {},
     "output_type": "execute_result"
    }
   ],
   "source": [
    "len(df1.caption[df1.caption.str.contains('#humornegro')])"
   ]
  },
  {
   "cell_type": "code",
   "execution_count": 186,
   "id": "329dc51d",
   "metadata": {},
   "outputs": [],
   "source": [
    "from wordcloud import WordCloud"
   ]
  },
  {
   "cell_type": "code",
   "execution_count": null,
   "id": "890a5317",
   "metadata": {},
   "outputs": [],
   "source": []
  },
  {
   "cell_type": "code",
   "execution_count": null,
   "id": "864baba8",
   "metadata": {},
   "outputs": [],
   "source": []
  }
 ],
 "metadata": {
  "kernelspec": {
   "display_name": "Python 3 (ipykernel)",
   "language": "python",
   "name": "python3"
  },
  "language_info": {
   "codemirror_mode": {
    "name": "ipython",
    "version": 3
   },
   "file_extension": ".py",
   "mimetype": "text/x-python",
   "name": "python",
   "nbconvert_exporter": "python",
   "pygments_lexer": "ipython3",
   "version": "3.9.12"
  }
 },
 "nbformat": 4,
 "nbformat_minor": 5
}
