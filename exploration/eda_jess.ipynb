{
 "cells": [
  {
   "cell_type": "code",
   "execution_count": 1,
   "id": "1c2b5170",
   "metadata": {},
   "outputs": [
    {
     "name": "stdout",
     "output_type": "stream",
     "text": [
      "prep_tiktok(df)\n",
      "<class 'pandas.core.frame.DataFrame'>\n",
      "DatetimeIndex: 4734 entries, 2022-09-16 00:00:00+00:00 to 2022-09-16 00:00:00+00:00\n",
      "Data columns (total 2 columns):\n",
      " #   Column   Non-Null Count  Dtype \n",
      "---  ------   --------------  ----- \n",
      " 0   views    4734 non-null   int64 \n",
      " 1   hashtag  4734 non-null   object\n",
      "dtypes: int64(1), object(1)\n",
      "memory usage: 111.0+ KB\n"
     ]
    },
    {
     "name": "stderr",
     "output_type": "stream",
     "text": [
      "/Users/jgardin875/codeup-data-science/Brad-file/prepare.py:92: SettingWithCopyWarning: \n",
      "A value is trying to be set on a copy of a slice from a DataFrame.\n",
      "Try using .loc[row_indexer,col_indexer] = value instead\n",
      "\n",
      "See the caveats in the documentation: https://pandas.pydata.org/pandas-docs/stable/user_guide/indexing.html#returning-a-view-versus-a-copy\n",
      "  df.views = df.views.astype('int')\n"
     ]
    },
    {
     "data": {
      "text/plain": [
       "<Figure size 432x288 with 0 Axes>"
      ]
     },
     "metadata": {},
     "output_type": "display_data"
    }
   ],
   "source": [
    "# personal imports\n",
    "import prepare\n",
    "import explore\n",
    "\n",
    "# typical imports\n",
    "import pandas as pd\n",
    "import numpy as np\n",
    "import matplotlib.pyplot as plt\n",
    "import seaborn as sns\n",
    "from scipy import stats\n",
    "\n",
    "# modeling methods\n",
    "from sklearn.model_selection import train_test_split\n",
    "from sklearn.metrics import mean_squared_error\n",
    "from sklearn.linear_model import LinearRegression, LassoLars, TweedieRegressor\n",
    "from sklearn.preprocessing import PolynomialFeatures\n",
    "\n",
    "# working with dates\n",
    "from datetime import datetime\n",
    "import time\n",
    "from datetime import timedelta\n",
    "\n",
    "# to evaluated performance using rmse\n",
    "from sklearn.metrics import mean_squared_error\n",
    "from math import sqrt \n",
    "\n",
    "# for tsa \n",
    "import statsmodels.api as sm\n",
    "\n",
    "# holt's linear trend model. \n",
    "from statsmodels.tsa.api import Holt\n",
    "\n",
    "import re\n",
    "\n",
    "#clean look\n",
    "import warnings\n",
    "warnings.filterwarnings(\"ignore\")"
   ]
  },
  {
   "cell_type": "markdown",
   "id": "3b3fca1b",
   "metadata": {},
   "source": [
    "# Tiktok"
   ]
  },
  {
   "cell_type": "code",
   "execution_count": 2,
   "id": "89beff54",
   "metadata": {},
   "outputs": [],
   "source": [
    "tik = pd.read_csv('tik_tok_views.csv')"
   ]
  },
  {
   "cell_type": "code",
   "execution_count": 3,
   "id": "7c2e15e7",
   "metadata": {},
   "outputs": [],
   "source": [
    "tik.date = pd.to_datetime(tik.date, utc = True)\n",
    "tik.set_index('date', inplace =True)\n",
    "tik.sort_index(inplace=True);"
   ]
  },
  {
   "cell_type": "code",
   "execution_count": 4,
   "id": "4ba7843a",
   "metadata": {},
   "outputs": [
    {
     "data": {
      "text/plain": [
       "array(['humor', 'political', 'fashion', 'fitness & lifestyle', 'food'],\n",
       "      dtype=object)"
      ]
     },
     "execution_count": 4,
     "metadata": {},
     "output_type": "execute_result"
    }
   ],
   "source": [
    "tik.category.unique()"
   ]
  },
  {
   "cell_type": "code",
   "execution_count": 5,
   "id": "b7419f44",
   "metadata": {},
   "outputs": [],
   "source": [
    "yt = pd.read_csv('yt_views.csv')"
   ]
  },
  {
   "cell_type": "code",
   "execution_count": 6,
   "id": "387e9311",
   "metadata": {},
   "outputs": [],
   "source": [
    "yt.date = pd.to_datetime(yt.date, utc = True)\n",
    "yt.set_index('date', inplace =True)\n",
    "yt.sort_index(inplace=True);"
   ]
  },
  {
   "cell_type": "code",
   "execution_count": 7,
   "id": "98141316",
   "metadata": {},
   "outputs": [
    {
     "data": {
      "text/plain": [
       "array(['fitness & lifestyle', 'fashion', 'humor', 'food'], dtype=object)"
      ]
     },
     "execution_count": 7,
     "metadata": {},
     "output_type": "execute_result"
    }
   ],
   "source": [
    "yt.category.unique()"
   ]
  },
  {
   "cell_type": "code",
   "execution_count": 8,
   "id": "f656de77",
   "metadata": {},
   "outputs": [],
   "source": [
    "y_fit = yt[yt.category == 'fitness & lifestyle'] \n",
    "y_fas = yt[yt.category == 'fashion' ]\n",
    "y_hum = yt[yt.category == 'humor' ]\n",
    "y_fod = yt[yt.category == 'food']"
   ]
  },
  {
   "cell_type": "code",
   "execution_count": 9,
   "id": "9cdc425c",
   "metadata": {},
   "outputs": [],
   "source": [
    "t_fit = tik[tik.category == 'fitness & lifestyle'] \n",
    "t_fas = tik[tik.category == 'fashion' ]\n",
    "t_hum = tik[tik.category == 'humor' ]\n",
    "t_fod = tik[tik.category == 'food']"
   ]
  },
  {
   "cell_type": "code",
   "execution_count": 10,
   "id": "b42fff56",
   "metadata": {},
   "outputs": [],
   "source": [
    "yt = pd.read_csv('yt_views.csv')\n",
    "yt.date = pd.to_datetime(yt.date, utc = True)\n",
    "yt.set_index('date', inplace =True)\n",
    "yt.sort_index(inplace=True);"
   ]
  },
  {
   "cell_type": "code",
   "execution_count": 11,
   "id": "c6363031",
   "metadata": {},
   "outputs": [],
   "source": [
    "t_fit_m=t_fit.resample('M').mean()\n",
    "t_fas_m=t_fas.resample('M').mean()\n",
    "t_hum_m=t_hum.resample('M').mean()\n",
    "t_fod_m=t_fod.resample('M').mean()"
   ]
  },
  {
   "cell_type": "code",
   "execution_count": 12,
   "id": "0f89cb03",
   "metadata": {},
   "outputs": [],
   "source": [
    "y_fit_m=y_fit.resample('M').mean()\n",
    "y_fas_m=y_fas.resample('M').mean()\n",
    "y_hum_m=y_hum.resample('M').mean()\n",
    "y_fod_m=y_fod.resample('M').mean()"
   ]
  },
  {
   "cell_type": "code",
   "execution_count": 13,
   "id": "a2f66a22",
   "metadata": {},
   "outputs": [],
   "source": [
    "yt_m = yt.resample('M').mean()"
   ]
  },
  {
   "cell_type": "code",
   "execution_count": 14,
   "id": "f6f4ee84",
   "metadata": {},
   "outputs": [],
   "source": [
    "tik_m = tik.resample('M').mean()"
   ]
  },
  {
   "cell_type": "code",
   "execution_count": 16,
   "id": "5392e09b",
   "metadata": {},
   "outputs": [],
   "source": [
    "b_fit_m = y_fit_m.join(t_fit_m, how = 'outer', lsuffix = '_y', rsuffix = '_t')\n",
    "b_fas_m = y_fas_m.join(t_fas_m, how = 'outer', lsuffix = '_y', rsuffix = '_t')\n",
    "b_hum_m = y_hum_m.join(t_hum_m, how = 'outer', lsuffix = '_y', rsuffix = '_t')\n",
    "b_fod_m = y_fod_m.join(t_fod_m, how = 'outer', lsuffix = '_y', rsuffix = '_t')"
   ]
  },
  {
   "cell_type": "code",
   "execution_count": 32,
   "id": "aa502e8f",
   "metadata": {},
   "outputs": [
    {
     "data": {
      "text/html": [
       "<div>\n",
       "<style scoped>\n",
       "    .dataframe tbody tr th:only-of-type {\n",
       "        vertical-align: middle;\n",
       "    }\n",
       "\n",
       "    .dataframe tbody tr th {\n",
       "        vertical-align: top;\n",
       "    }\n",
       "\n",
       "    .dataframe thead th {\n",
       "        text-align: right;\n",
       "    }\n",
       "</style>\n",
       "<table border=\"1\" class=\"dataframe\">\n",
       "  <thead>\n",
       "    <tr style=\"text-align: right;\">\n",
       "      <th></th>\n",
       "      <th>views</th>\n",
       "      <th>hashtag</th>\n",
       "      <th>category</th>\n",
       "    </tr>\n",
       "    <tr>\n",
       "      <th>date</th>\n",
       "      <th></th>\n",
       "      <th></th>\n",
       "      <th></th>\n",
       "    </tr>\n",
       "  </thead>\n",
       "  <tbody>\n",
       "    <tr>\n",
       "      <th>2022-09-11 00:00:00+00:00</th>\n",
       "      <td>81</td>\n",
       "      <td>clothinghaul</td>\n",
       "      <td>fashion</td>\n",
       "    </tr>\n",
       "  </tbody>\n",
       "</table>\n",
       "</div>"
      ],
      "text/plain": [
       "                           views       hashtag category\n",
       "date                                                   \n",
       "2022-09-11 00:00:00+00:00     81  clothinghaul  fashion"
      ]
     },
     "execution_count": 32,
     "metadata": {},
     "output_type": "execute_result"
    }
   ],
   "source": [
    "yt.tail(1)"
   ]
  },
  {
   "cell_type": "code",
   "execution_count": 33,
   "id": "cc782512",
   "metadata": {},
   "outputs": [
    {
     "data": {
      "text/plain": [
       "<AxesSubplot:xlabel='date'>"
      ]
     },
     "execution_count": 33,
     "metadata": {},
     "output_type": "execute_result"
    },
    {
     "data": {
      "image/png": "[encoded data removed]",
      "text/plain": [
       "<Figure size 432x288 with 1 Axes>"
      ]
     },
     "metadata": {
      "needs_background": "light"
     },
     "output_type": "display_data"
    }
   ],
   "source": [
    "b_fit_m.plot(xlim = ('2021-08-19 00:00:00+00:00', '2022-09-11 00:00:00+00:00'))"
   ]
  },
  {
   "cell_type": "code",
   "execution_count": 34,
   "id": "983203cc",
   "metadata": {},
   "outputs": [
    {
     "data": {
      "text/plain": [
       "<AxesSubplot:xlabel='date'>"
      ]
     },
     "execution_count": 34,
     "metadata": {},
     "output_type": "execute_result"
    },
    {
     "data": {
      "image/png": "[encoded data removed]",
      "text/plain": [
       "<Figure size 432x288 with 1 Axes>"
      ]
     },
     "metadata": {
      "needs_background": "light"
     },
     "output_type": "display_data"
    }
   ],
   "source": [
    "b_fas_m.plot(xlim = ('2021-08-19 00:00:00+00:00', '2022-09-11 00:00:00+00:00'))"
   ]
  },
  {
   "cell_type": "code",
   "execution_count": 35,
   "id": "e19f05b6",
   "metadata": {},
   "outputs": [
    {
     "data": {
      "text/plain": [
       "<AxesSubplot:xlabel='date'>"
      ]
     },
     "execution_count": 35,
     "metadata": {},
     "output_type": "execute_result"
    },
    {
     "data": {
      "image/png": "[encoded data removed]",
      "text/plain": [
       "<Figure size 432x288 with 1 Axes>"
      ]
     },
     "metadata": {
      "needs_background": "light"
     },
     "output_type": "display_data"
    }
   ],
   "source": [
    "b_hum_m.plot(xlim = ('2021-08-19 00:00:00+00:00', '2022-09-11 00:00:00+00:00'))"
   ]
  },
  {
   "cell_type": "code",
   "execution_count": 36,
   "id": "011f8f89",
   "metadata": {},
   "outputs": [
    {
     "data": {
      "text/plain": [
       "<AxesSubplot:xlabel='date'>"
      ]
     },
     "execution_count": 36,
     "metadata": {},
     "output_type": "execute_result"
    },
    {
     "data": {
      "image/png": "[encoded data removed]",
      "text/plain": [
       "<Figure size 432x288 with 1 Axes>"
      ]
     },
     "metadata": {
      "needs_background": "light"
     },
     "output_type": "display_data"
    }
   ],
   "source": [
    "b_fod_m.plot(xlim = ('2021-08-19 00:00:00+00:00', '2022-09-11 00:00:00+00:00'))"
   ]
  },
  {
   "cell_type": "code",
   "execution_count": null,
   "id": "d24401f3",
   "metadata": {},
   "outputs": [],
   "source": []
  },
  {
   "cell_type": "code",
   "execution_count": null,
   "id": "3a44bccc",
   "metadata": {},
   "outputs": [],
   "source": []
  },
  {
   "cell_type": "code",
   "execution_count": null,
   "id": "5372c5f7",
   "metadata": {},
   "outputs": [],
   "source": []
  },
  {
   "cell_type": "code",
   "execution_count": null,
   "id": "28009476",
   "metadata": {},
   "outputs": [],
   "source": []
  }
 ],
 "metadata": {
  "kernelspec": {
   "display_name": "Python 3 (ipykernel)",
   "language": "python",
   "name": "python3"
  },
  "language_info": {
   "codemirror_mode": {
    "name": "ipython",
    "version": 3
   },
   "file_extension": ".py",
   "mimetype": "text/x-python",
   "name": "python",
   "nbconvert_exporter": "python",
   "pygments_lexer": "ipython3",
   "version": "3.9.12"
  }
 },
 "nbformat": 4,
 "nbformat_minor": 5
}
