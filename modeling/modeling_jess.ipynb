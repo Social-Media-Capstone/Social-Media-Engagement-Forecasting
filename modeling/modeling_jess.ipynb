{
 "cells": [
  {
   "cell_type": "markdown",
   "id": "0a1052be",
   "metadata": {},
   "source": [
    "# Modeling"
   ]
  },
  {
   "cell_type": "markdown",
   "id": "f741257b",
   "metadata": {},
   "source": [
    "- Last observed value\n",
    "- Simple average\n",
    "- Moving average\n",
    "- Holt's Linear Trend\n",
    "- Previous cycle"
   ]
  },
  {
   "cell_type": "code",
   "execution_count": 1,
   "id": "8ed9b612",
   "metadata": {},
   "outputs": [],
   "source": [
    "# for presentation purposes\n",
    "import warnings\n",
    "warnings.filterwarnings(\"ignore\")\n",
    "\n",
    "import numpy as np\n",
    "import pandas as pd\n",
    "\n",
    "# visualize \n",
    "import matplotlib.pyplot as plt\n",
    "%matplotlib inline\n",
    "import seaborn as sns\n",
    "\n",
    "# wrangle\n",
    "#import acquire\n",
    "import prepare\n",
    "\n",
    "# working with dates\n",
    "from datetime import datetime\n",
    "\n",
    "# to evaluated performance using rmse\n",
    "from sklearn.metrics import mean_squared_error\n",
    "from math import sqrt \n",
    "\n",
    "# for tsa \n",
    "import statsmodels.api as sm\n",
    "\n",
    "# holt's linear trend model. \n",
    "from statsmodels.tsa.api import Holt\n",
    "\n",
    "# facebook prophet model\n",
    "#from prophet import Prophet\n",
    "\n",
    "# local files\n",
    "import prepare"
   ]
  },
  {
   "cell_type": "markdown",
   "id": "184398a3",
   "metadata": {},
   "source": [
    "# Wrangle"
   ]
  },
  {
   "cell_type": "code",
   "execution_count": 2,
   "id": "7d6b8267",
   "metadata": {
    "scrolled": true
   },
   "outputs": [],
   "source": [
    "df = pd.read_csv('youtube_data_updated_date.csv')"
   ]
  },
  {
   "cell_type": "code",
   "execution_count": 3,
   "id": "eb87e945",
   "metadata": {},
   "outputs": [
    {
     "data": {
      "text/plain": [
       "(15730, 9)"
      ]
     },
     "execution_count": 3,
     "metadata": {},
     "output_type": "execute_result"
    }
   ],
   "source": [
    "df.shape"
   ]
  },
  {
   "cell_type": "code",
   "execution_count": 4,
   "id": "349d7707",
   "metadata": {},
   "outputs": [],
   "source": [
    "df = prepare.prep_youtube(df)"
   ]
  },
  {
   "cell_type": "code",
   "execution_count": 5,
   "id": "8fe71206",
   "metadata": {},
   "outputs": [],
   "source": [
    "df = df[df.pub_date != '#VALUE!']"
   ]
  },
  {
   "cell_type": "code",
   "execution_count": 6,
   "id": "0db15b19",
   "metadata": {},
   "outputs": [],
   "source": [
    "df.date = pd.to_datetime(df.pub_date, utc = True)\n",
    "df.set_index('pub_date', inplace =True)\n",
    "df.sort_index(inplace=True);"
   ]
  },
  {
   "cell_type": "code",
   "execution_count": 7,
   "id": "60425f48",
   "metadata": {},
   "outputs": [],
   "source": [
    "# trim off date range\n",
    "#df = df[df.index>='2021-09-30']\n",
    "#df = df[df.index<='2022-09-10']"
   ]
  },
  {
   "cell_type": "code",
   "execution_count": 8,
   "id": "2e2b5fdd",
   "metadata": {},
   "outputs": [],
   "source": [
    "df.index = pd.to_datetime(df.index, errors='coerce', utc=True)"
   ]
  },
  {
   "cell_type": "code",
   "execution_count": 9,
   "id": "a3113beb",
   "metadata": {},
   "outputs": [],
   "source": [
    "df = df[df.index>='09/30/21']\n",
    "df = df[df.index<='09/10/22']"
   ]
  },
  {
   "cell_type": "code",
   "execution_count": 10,
   "id": "6d594255",
   "metadata": {},
   "outputs": [],
   "source": [
    "df = df.viewCount"
   ]
  },
  {
   "cell_type": "code",
   "execution_count": 11,
   "id": "07cf3f73",
   "metadata": {},
   "outputs": [],
   "source": [
    "df= pd.DataFrame(df)"
   ]
  },
  {
   "cell_type": "code",
   "execution_count": 12,
   "id": "6be5378d",
   "metadata": {},
   "outputs": [],
   "source": [
    "df.rename(columns = {'viewCount':'views'}, inplace=True)"
   ]
  },
  {
   "cell_type": "code",
   "execution_count": 13,
   "id": "1c621ec0",
   "metadata": {},
   "outputs": [],
   "source": [
    "# resample on day\n",
    "resample = df.resample('m')['views'].sum()"
   ]
  },
  {
   "cell_type": "code",
   "execution_count": 14,
   "id": "eb4d052d",
   "metadata": {},
   "outputs": [],
   "source": [
    "resample = pd.DataFrame(resample)"
   ]
  },
  {
   "cell_type": "code",
   "execution_count": 15,
   "id": "8e2abeb8",
   "metadata": {},
   "outputs": [
    {
     "data": {
      "text/html": [
       "<div>\n",
       "<style scoped>\n",
       "    .dataframe tbody tr th:only-of-type {\n",
       "        vertical-align: middle;\n",
       "    }\n",
       "\n",
       "    .dataframe tbody tr th {\n",
       "        vertical-align: top;\n",
       "    }\n",
       "\n",
       "    .dataframe thead th {\n",
       "        text-align: right;\n",
       "    }\n",
       "</style>\n",
       "<table border=\"1\" class=\"dataframe\">\n",
       "  <thead>\n",
       "    <tr style=\"text-align: right;\">\n",
       "      <th></th>\n",
       "      <th>views</th>\n",
       "    </tr>\n",
       "    <tr>\n",
       "      <th>pub_date</th>\n",
       "      <th></th>\n",
       "    </tr>\n",
       "  </thead>\n",
       "  <tbody>\n",
       "    <tr>\n",
       "      <th>2021-10-31 00:00:00+00:00</th>\n",
       "      <td>1402854610</td>\n",
       "    </tr>\n",
       "    <tr>\n",
       "      <th>2021-11-30 00:00:00+00:00</th>\n",
       "      <td>1063427351</td>\n",
       "    </tr>\n",
       "    <tr>\n",
       "      <th>2021-12-31 00:00:00+00:00</th>\n",
       "      <td>785746049</td>\n",
       "    </tr>\n",
       "    <tr>\n",
       "      <th>2022-01-31 00:00:00+00:00</th>\n",
       "      <td>740140465</td>\n",
       "    </tr>\n",
       "    <tr>\n",
       "      <th>2022-02-28 00:00:00+00:00</th>\n",
       "      <td>1692483741</td>\n",
       "    </tr>\n",
       "  </tbody>\n",
       "</table>\n",
       "</div>"
      ],
      "text/plain": [
       "                                views\n",
       "pub_date                             \n",
       "2021-10-31 00:00:00+00:00  1402854610\n",
       "2021-11-30 00:00:00+00:00  1063427351\n",
       "2021-12-31 00:00:00+00:00   785746049\n",
       "2022-01-31 00:00:00+00:00   740140465\n",
       "2022-02-28 00:00:00+00:00  1692483741"
      ]
     },
     "execution_count": 15,
     "metadata": {},
     "output_type": "execute_result"
    }
   ],
   "source": [
    "resample.head()"
   ]
  },
  {
   "cell_type": "code",
   "execution_count": 16,
   "id": "855dd2b9",
   "metadata": {},
   "outputs": [
    {
     "data": {
      "text/plain": [
       "[<matplotlib.lines.Line2D at 0x168188a30>]"
      ]
     },
     "execution_count": 16,
     "metadata": {},
     "output_type": "execute_result"
    },
    {
     "data": {
      "image/png": "[encoded data removed]",
      "text/plain": [
       "<Figure size 1152x576 with 1 Axes>"
      ]
     },
     "metadata": {
      "needs_background": "light"
     },
     "output_type": "display_data"
    }
   ],
   "source": [
    "#views\n",
    "plt.figure(figsize = (16,8))\n",
    "plt.title('2019 till now YouTube content likes', fontsize = 16, color = 'red')\n",
    "plt.plot(resample.index, resample.views, color = 'black')"
   ]
  },
  {
   "cell_type": "markdown",
   "id": "4068e851",
   "metadata": {},
   "source": [
    "# Split Data"
   ]
  },
  {
   "cell_type": "markdown",
   "id": "6414712a",
   "metadata": {},
   "source": [
    "- We will use the training proportion method to split.\n",
    "- Identify the total length of the dataframe and multiply by train_prop to get the number of rows that equates to the first x% of the dataframe, which equates to the first x% of the time covered in the data. (x = train_prop * 100)\n",
    "- Select row indices from 0 up to the index representing x-percentile for train, and from the index representing x-percentile through the end of the dataframe for test. In both of these, we will reset the index in order to return dataframes sorted by datetime.\n",
    "- Return train and test dataframes."
   ]
  },
  {
   "cell_type": "code",
   "execution_count": 17,
   "id": "4a8cd4c9",
   "metadata": {},
   "outputs": [
    {
     "data": {
      "text/plain": [
       "(12, 1)"
      ]
     },
     "execution_count": 17,
     "metadata": {},
     "output_type": "execute_result"
    }
   ],
   "source": [
    "# check df size\n",
    "resample.shape"
   ]
  },
  {
   "cell_type": "code",
   "execution_count": 18,
   "id": "42f2b4bf",
   "metadata": {},
   "outputs": [
    {
     "data": {
      "text/plain": [
       "6"
      ]
     },
     "execution_count": 18,
     "metadata": {},
     "output_type": "execute_result"
    }
   ],
   "source": [
    "# set train size to be 50% of total \n",
    "train_size = int(round(resample.shape[0] * 0.5))\n",
    "train_size"
   ]
  },
  {
   "cell_type": "code",
   "execution_count": 19,
   "id": "65fa2303",
   "metadata": {},
   "outputs": [
    {
     "data": {
      "text/plain": [
       "4"
      ]
     },
     "execution_count": 19,
     "metadata": {},
     "output_type": "execute_result"
    }
   ],
   "source": [
    "# set validate size to be 30% of total \n",
    "validate_size = int(round(resample.shape[0] * 0.3))\n",
    "validate_size"
   ]
  },
  {
   "cell_type": "code",
   "execution_count": 20,
   "id": "081349d6",
   "metadata": {},
   "outputs": [
    {
     "data": {
      "text/plain": [
       "2"
      ]
     },
     "execution_count": 20,
     "metadata": {},
     "output_type": "execute_result"
    }
   ],
   "source": [
    "# set test size to be number of rows remaining. \n",
    "test_size = int(round(resample.shape[0] * 0.2))\n",
    "test_size"
   ]
  },
  {
   "cell_type": "code",
   "execution_count": 21,
   "id": "e58b60a7",
   "metadata": {},
   "outputs": [
    {
     "data": {
      "text/plain": [
       "True"
      ]
     },
     "execution_count": 21,
     "metadata": {},
     "output_type": "execute_result"
    }
   ],
   "source": [
    "len(resample) == train_size + validate_size + test_size"
   ]
  },
  {
   "cell_type": "code",
   "execution_count": 22,
   "id": "be1e736a",
   "metadata": {},
   "outputs": [
    {
     "data": {
      "text/plain": [
       "10"
      ]
     },
     "execution_count": 22,
     "metadata": {},
     "output_type": "execute_result"
    }
   ],
   "source": [
    "# validate will go from 689 to 689+413\n",
    "validate_end_index = train_size + validate_size\n",
    "validate_end_index"
   ]
  },
  {
   "cell_type": "markdown",
   "id": "e538b6c7",
   "metadata": {},
   "source": [
    "**NOTE: Use above values to split our dataframe**"
   ]
  },
  {
   "cell_type": "code",
   "execution_count": 23,
   "id": "8280c27c",
   "metadata": {},
   "outputs": [],
   "source": [
    "# train will go from 0 to 689\n",
    "train = resample[:train_size]"
   ]
  },
  {
   "cell_type": "code",
   "execution_count": 24,
   "id": "9602f265",
   "metadata": {},
   "outputs": [],
   "source": [
    "# validate will go from 690 to 1102\n",
    "validate = resample[train_size:validate_end_index]"
   ]
  },
  {
   "cell_type": "code",
   "execution_count": 25,
   "id": "016c2ac3",
   "metadata": {},
   "outputs": [
    {
     "data": {
      "text/html": [
       "<div>\n",
       "<style scoped>\n",
       "    .dataframe tbody tr th:only-of-type {\n",
       "        vertical-align: middle;\n",
       "    }\n",
       "\n",
       "    .dataframe tbody tr th {\n",
       "        vertical-align: top;\n",
       "    }\n",
       "\n",
       "    .dataframe thead th {\n",
       "        text-align: right;\n",
       "    }\n",
       "</style>\n",
       "<table border=\"1\" class=\"dataframe\">\n",
       "  <thead>\n",
       "    <tr style=\"text-align: right;\">\n",
       "      <th></th>\n",
       "      <th>views</th>\n",
       "    </tr>\n",
       "    <tr>\n",
       "      <th>pub_date</th>\n",
       "      <th></th>\n",
       "    </tr>\n",
       "  </thead>\n",
       "  <tbody>\n",
       "    <tr>\n",
       "      <th>2021-11-30 00:00:00+00:00</th>\n",
       "      <td>1063427351</td>\n",
       "    </tr>\n",
       "    <tr>\n",
       "      <th>2021-12-31 00:00:00+00:00</th>\n",
       "      <td>785746049</td>\n",
       "    </tr>\n",
       "    <tr>\n",
       "      <th>2022-01-31 00:00:00+00:00</th>\n",
       "      <td>740140465</td>\n",
       "    </tr>\n",
       "    <tr>\n",
       "      <th>2022-02-28 00:00:00+00:00</th>\n",
       "      <td>1692483741</td>\n",
       "    </tr>\n",
       "    <tr>\n",
       "      <th>2022-03-31 00:00:00+00:00</th>\n",
       "      <td>1945147661</td>\n",
       "    </tr>\n",
       "  </tbody>\n",
       "</table>\n",
       "</div>"
      ],
      "text/plain": [
       "                                views\n",
       "pub_date                             \n",
       "2021-11-30 00:00:00+00:00  1063427351\n",
       "2021-12-31 00:00:00+00:00   785746049\n",
       "2022-01-31 00:00:00+00:00   740140465\n",
       "2022-02-28 00:00:00+00:00  1692483741\n",
       "2022-03-31 00:00:00+00:00  1945147661"
      ]
     },
     "execution_count": 25,
     "metadata": {},
     "output_type": "execute_result"
    }
   ],
   "source": [
    "# verify train tail and validate head\n",
    "train.tail()"
   ]
  },
  {
   "cell_type": "code",
   "execution_count": 26,
   "id": "ffa9ffc6",
   "metadata": {},
   "outputs": [
    {
     "data": {
      "text/html": [
       "<div>\n",
       "<style scoped>\n",
       "    .dataframe tbody tr th:only-of-type {\n",
       "        vertical-align: middle;\n",
       "    }\n",
       "\n",
       "    .dataframe tbody tr th {\n",
       "        vertical-align: top;\n",
       "    }\n",
       "\n",
       "    .dataframe thead th {\n",
       "        text-align: right;\n",
       "    }\n",
       "</style>\n",
       "<table border=\"1\" class=\"dataframe\">\n",
       "  <thead>\n",
       "    <tr style=\"text-align: right;\">\n",
       "      <th></th>\n",
       "      <th>views</th>\n",
       "    </tr>\n",
       "    <tr>\n",
       "      <th>pub_date</th>\n",
       "      <th></th>\n",
       "    </tr>\n",
       "  </thead>\n",
       "  <tbody>\n",
       "    <tr>\n",
       "      <th>2022-04-30 00:00:00+00:00</th>\n",
       "      <td>2158388277</td>\n",
       "    </tr>\n",
       "    <tr>\n",
       "      <th>2022-05-31 00:00:00+00:00</th>\n",
       "      <td>1674703941</td>\n",
       "    </tr>\n",
       "    <tr>\n",
       "      <th>2022-06-30 00:00:00+00:00</th>\n",
       "      <td>1977567477</td>\n",
       "    </tr>\n",
       "    <tr>\n",
       "      <th>2022-07-31 00:00:00+00:00</th>\n",
       "      <td>3040194574</td>\n",
       "    </tr>\n",
       "  </tbody>\n",
       "</table>\n",
       "</div>"
      ],
      "text/plain": [
       "                                views\n",
       "pub_date                             \n",
       "2022-04-30 00:00:00+00:00  2158388277\n",
       "2022-05-31 00:00:00+00:00  1674703941\n",
       "2022-06-30 00:00:00+00:00  1977567477\n",
       "2022-07-31 00:00:00+00:00  3040194574"
      ]
     },
     "execution_count": 26,
     "metadata": {},
     "output_type": "execute_result"
    }
   ],
   "source": [
    "# verify train tail and validate head\n",
    "validate.head()"
   ]
  },
  {
   "cell_type": "code",
   "execution_count": 27,
   "id": "18372bea",
   "metadata": {},
   "outputs": [
    {
     "data": {
      "text/html": [
       "<div>\n",
       "<style scoped>\n",
       "    .dataframe tbody tr th:only-of-type {\n",
       "        vertical-align: middle;\n",
       "    }\n",
       "\n",
       "    .dataframe tbody tr th {\n",
       "        vertical-align: top;\n",
       "    }\n",
       "\n",
       "    .dataframe thead th {\n",
       "        text-align: right;\n",
       "    }\n",
       "</style>\n",
       "<table border=\"1\" class=\"dataframe\">\n",
       "  <thead>\n",
       "    <tr style=\"text-align: right;\">\n",
       "      <th></th>\n",
       "      <th>views</th>\n",
       "    </tr>\n",
       "    <tr>\n",
       "      <th>pub_date</th>\n",
       "      <th></th>\n",
       "    </tr>\n",
       "  </thead>\n",
       "  <tbody>\n",
       "    <tr>\n",
       "      <th>2022-04-30 00:00:00+00:00</th>\n",
       "      <td>2158388277</td>\n",
       "    </tr>\n",
       "    <tr>\n",
       "      <th>2022-05-31 00:00:00+00:00</th>\n",
       "      <td>1674703941</td>\n",
       "    </tr>\n",
       "    <tr>\n",
       "      <th>2022-06-30 00:00:00+00:00</th>\n",
       "      <td>1977567477</td>\n",
       "    </tr>\n",
       "    <tr>\n",
       "      <th>2022-07-31 00:00:00+00:00</th>\n",
       "      <td>3040194574</td>\n",
       "    </tr>\n",
       "  </tbody>\n",
       "</table>\n",
       "</div>"
      ],
      "text/plain": [
       "                                views\n",
       "pub_date                             \n",
       "2022-04-30 00:00:00+00:00  2158388277\n",
       "2022-05-31 00:00:00+00:00  1674703941\n",
       "2022-06-30 00:00:00+00:00  1977567477\n",
       "2022-07-31 00:00:00+00:00  3040194574"
      ]
     },
     "execution_count": 27,
     "metadata": {},
     "output_type": "execute_result"
    }
   ],
   "source": [
    "# verify validate tail and test head\n",
    "validate.tail()"
   ]
  },
  {
   "cell_type": "code",
   "execution_count": 28,
   "id": "77cdf761",
   "metadata": {},
   "outputs": [],
   "source": [
    "# test will include 1103 to the end\n",
    "test = resample[validate_end_index:]"
   ]
  },
  {
   "cell_type": "code",
   "execution_count": 29,
   "id": "8a964a69",
   "metadata": {},
   "outputs": [
    {
     "data": {
      "text/html": [
       "<div>\n",
       "<style scoped>\n",
       "    .dataframe tbody tr th:only-of-type {\n",
       "        vertical-align: middle;\n",
       "    }\n",
       "\n",
       "    .dataframe tbody tr th {\n",
       "        vertical-align: top;\n",
       "    }\n",
       "\n",
       "    .dataframe thead th {\n",
       "        text-align: right;\n",
       "    }\n",
       "</style>\n",
       "<table border=\"1\" class=\"dataframe\">\n",
       "  <thead>\n",
       "    <tr style=\"text-align: right;\">\n",
       "      <th></th>\n",
       "      <th>views</th>\n",
       "    </tr>\n",
       "    <tr>\n",
       "      <th>pub_date</th>\n",
       "      <th></th>\n",
       "    </tr>\n",
       "  </thead>\n",
       "  <tbody>\n",
       "    <tr>\n",
       "      <th>2022-08-31 00:00:00+00:00</th>\n",
       "      <td>4264402349</td>\n",
       "    </tr>\n",
       "    <tr>\n",
       "      <th>2022-09-30 00:00:00+00:00</th>\n",
       "      <td>636536208</td>\n",
       "    </tr>\n",
       "  </tbody>\n",
       "</table>\n",
       "</div>"
      ],
      "text/plain": [
       "                                views\n",
       "pub_date                             \n",
       "2022-08-31 00:00:00+00:00  4264402349\n",
       "2022-09-30 00:00:00+00:00   636536208"
      ]
     },
     "execution_count": 29,
     "metadata": {},
     "output_type": "execute_result"
    }
   ],
   "source": [
    "# verify validate tail and test head\n",
    "test.head()"
   ]
  },
  {
   "cell_type": "code",
   "execution_count": 30,
   "id": "36aab70b",
   "metadata": {},
   "outputs": [
    {
     "data": {
      "text/plain": [
       "(6, 4, 2)"
      ]
     },
     "execution_count": 30,
     "metadata": {},
     "output_type": "execute_result"
    }
   ],
   "source": [
    "# check size\n",
    "train.shape[0], validate.shape[0], test.shape[0]"
   ]
  },
  {
   "cell_type": "markdown",
   "id": "959056e0",
   "metadata": {},
   "source": [
    "## Verify Split"
   ]
  },
  {
   "cell_type": "markdown",
   "id": "c470305e",
   "metadata": {},
   "source": [
    "- Does the length of each df equate to the length of the original df?"
   ]
  },
  {
   "cell_type": "code",
   "execution_count": 31,
   "id": "75e2d632",
   "metadata": {},
   "outputs": [
    {
     "data": {
      "text/plain": [
       "True"
      ]
     },
     "execution_count": 31,
     "metadata": {},
     "output_type": "execute_result"
    }
   ],
   "source": [
    "# is len of train + validate + test == lenght of entire dataframe. \n",
    "len(train) + len(validate) + len(test) == len(resample)"
   ]
  },
  {
   "cell_type": "markdown",
   "id": "dafa5660",
   "metadata": {},
   "source": [
    "- Does the first row of original df equate to the first row of train?"
   ]
  },
  {
   "cell_type": "code",
   "execution_count": 32,
   "id": "e6f6488f",
   "metadata": {},
   "outputs": [
    {
     "name": "stdout",
     "output_type": "stream",
     "text": [
      "                           views\n",
      "pub_date                        \n",
      "2021-10-31 00:00:00+00:00   True\n"
     ]
    }
   ],
   "source": [
    "print(resample.head(1) == train.head(1))"
   ]
  },
  {
   "cell_type": "markdown",
   "id": "dfa93e11",
   "metadata": {},
   "source": [
    "- Is the last row of train the day before the first row of validate? And the same for validate to test?"
   ]
  },
  {
   "cell_type": "code",
   "execution_count": 33,
   "id": "2a6351e2",
   "metadata": {},
   "outputs": [
    {
     "data": {
      "text/html": [
       "<div>\n",
       "<style scoped>\n",
       "    .dataframe tbody tr th:only-of-type {\n",
       "        vertical-align: middle;\n",
       "    }\n",
       "\n",
       "    .dataframe tbody tr th {\n",
       "        vertical-align: top;\n",
       "    }\n",
       "\n",
       "    .dataframe thead th {\n",
       "        text-align: right;\n",
       "    }\n",
       "</style>\n",
       "<table border=\"1\" class=\"dataframe\">\n",
       "  <thead>\n",
       "    <tr style=\"text-align: right;\">\n",
       "      <th></th>\n",
       "      <th>views</th>\n",
       "    </tr>\n",
       "    <tr>\n",
       "      <th>pub_date</th>\n",
       "      <th></th>\n",
       "    </tr>\n",
       "  </thead>\n",
       "  <tbody>\n",
       "    <tr>\n",
       "      <th>2022-03-31 00:00:00+00:00</th>\n",
       "      <td>1945147661</td>\n",
       "    </tr>\n",
       "    <tr>\n",
       "      <th>2022-04-30 00:00:00+00:00</th>\n",
       "      <td>2158388277</td>\n",
       "    </tr>\n",
       "  </tbody>\n",
       "</table>\n",
       "</div>"
      ],
      "text/plain": [
       "                                views\n",
       "pub_date                             \n",
       "2022-03-31 00:00:00+00:00  1945147661\n",
       "2022-04-30 00:00:00+00:00  2158388277"
      ]
     },
     "execution_count": 33,
     "metadata": {},
     "output_type": "execute_result"
    }
   ],
   "source": [
    "# verified\n",
    "pd.concat([train.tail(1), validate.head(1)])"
   ]
  },
  {
   "cell_type": "code",
   "execution_count": 34,
   "id": "d87e51c3",
   "metadata": {},
   "outputs": [
    {
     "data": {
      "text/html": [
       "<div>\n",
       "<style scoped>\n",
       "    .dataframe tbody tr th:only-of-type {\n",
       "        vertical-align: middle;\n",
       "    }\n",
       "\n",
       "    .dataframe tbody tr th {\n",
       "        vertical-align: top;\n",
       "    }\n",
       "\n",
       "    .dataframe thead th {\n",
       "        text-align: right;\n",
       "    }\n",
       "</style>\n",
       "<table border=\"1\" class=\"dataframe\">\n",
       "  <thead>\n",
       "    <tr style=\"text-align: right;\">\n",
       "      <th></th>\n",
       "      <th>views</th>\n",
       "    </tr>\n",
       "    <tr>\n",
       "      <th>pub_date</th>\n",
       "      <th></th>\n",
       "    </tr>\n",
       "  </thead>\n",
       "  <tbody>\n",
       "    <tr>\n",
       "      <th>2022-07-31 00:00:00+00:00</th>\n",
       "      <td>3040194574</td>\n",
       "    </tr>\n",
       "    <tr>\n",
       "      <th>2022-08-31 00:00:00+00:00</th>\n",
       "      <td>4264402349</td>\n",
       "    </tr>\n",
       "  </tbody>\n",
       "</table>\n",
       "</div>"
      ],
      "text/plain": [
       "                                views\n",
       "pub_date                             \n",
       "2022-07-31 00:00:00+00:00  3040194574\n",
       "2022-08-31 00:00:00+00:00  4264402349"
      ]
     },
     "execution_count": 34,
     "metadata": {},
     "output_type": "execute_result"
    }
   ],
   "source": [
    "# verifed\n",
    "pd.concat([validate.tail(1), test.head(1)])"
   ]
  },
  {
   "cell_type": "markdown",
   "id": "61276b12",
   "metadata": {},
   "source": [
    "- Is the last row of test the same as the last row of our original dataframe?"
   ]
  },
  {
   "cell_type": "code",
   "execution_count": 35,
   "id": "cb803aa3",
   "metadata": {},
   "outputs": [
    {
     "data": {
      "text/html": [
       "<div>\n",
       "<style scoped>\n",
       "    .dataframe tbody tr th:only-of-type {\n",
       "        vertical-align: middle;\n",
       "    }\n",
       "\n",
       "    .dataframe tbody tr th {\n",
       "        vertical-align: top;\n",
       "    }\n",
       "\n",
       "    .dataframe thead th {\n",
       "        text-align: right;\n",
       "    }\n",
       "</style>\n",
       "<table border=\"1\" class=\"dataframe\">\n",
       "  <thead>\n",
       "    <tr style=\"text-align: right;\">\n",
       "      <th></th>\n",
       "      <th>views</th>\n",
       "    </tr>\n",
       "    <tr>\n",
       "      <th>pub_date</th>\n",
       "      <th></th>\n",
       "    </tr>\n",
       "  </thead>\n",
       "  <tbody>\n",
       "    <tr>\n",
       "      <th>2022-09-30 00:00:00+00:00</th>\n",
       "      <td>636536208</td>\n",
       "    </tr>\n",
       "    <tr>\n",
       "      <th>2022-09-30 00:00:00+00:00</th>\n",
       "      <td>636536208</td>\n",
       "    </tr>\n",
       "  </tbody>\n",
       "</table>\n",
       "</div>"
      ],
      "text/plain": [
       "                               views\n",
       "pub_date                            \n",
       "2022-09-30 00:00:00+00:00  636536208\n",
       "2022-09-30 00:00:00+00:00  636536208"
      ]
     },
     "execution_count": 35,
     "metadata": {},
     "output_type": "execute_result"
    }
   ],
   "source": [
    "pd.concat([test.tail(1), resample.tail(1)])"
   ]
  },
  {
   "cell_type": "markdown",
   "id": "258c8a61",
   "metadata": {},
   "source": [
    "### Let's plot our data, viewing where the data is split into train and test."
   ]
  },
  {
   "cell_type": "code",
   "execution_count": 36,
   "id": "0df93177",
   "metadata": {
    "scrolled": false
   },
   "outputs": [
    {
     "data": {
      "image/png": "[encoded data removed]",
      "text/plain": [
       "<Figure size 1008x576 with 1 Axes>"
      ]
     },
     "metadata": {
      "needs_background": "light"
     },
     "output_type": "display_data"
    }
   ],
   "source": [
    "for col in train.columns:\n",
    "    plt.figure(figsize=(14,8))\n",
    "    plt.plot(train[col], color = '#ff0050')\n",
    "    plt.plot(validate[col], color = '#00f2ea')\n",
    "    plt.plot(test[col], color = '#000000')\n",
    "    plt.ylabel(col)\n",
    "    plt.title(col, color = 'red')\n",
    "    plt.show()"
   ]
  },
  {
   "cell_type": "markdown",
   "id": "ec0bceec",
   "metadata": {},
   "source": [
    "# Evaluation Functions"
   ]
  },
  {
   "cell_type": "code",
   "execution_count": 37,
   "id": "a19737c8",
   "metadata": {},
   "outputs": [],
   "source": [
    "def evaluate(target_var):\n",
    "    '''\n",
    "    This function will take the actual values of the target_var from validate, \n",
    "    and the predicted values stored in yhat_df, \n",
    "    and compute the rmse, rounding to 0 decimal places. \n",
    "    it will return the rmse. \n",
    "    '''\n",
    "    rmse = round(sqrt(mean_squared_error(validate[target_var], yhat_df[target_var])), 0)\n",
    "    return rmse"
   ]
  },
  {
   "cell_type": "code",
   "execution_count": 38,
   "id": "2a004ad4",
   "metadata": {},
   "outputs": [],
   "source": [
    "def plot_and_eval(target_var):\n",
    "    '''\n",
    "    This function takes in the target var name (string), and returns a plot\n",
    "    of the values of train for that variable, validate, and the predicted values from yhat_df. \n",
    "    it will als lable the rmse. \n",
    "    '''\n",
    "    plt.figure(figsize = (12,4))\n",
    "    plt.plot(train[target_var], label='Train', linewidth=1)\n",
    "    plt.plot(validate[target_var], label='Validate', linewidth=1)\n",
    "    plt.plot(yhat_df[target_var])\n",
    "    plt.title(target_var)\n",
    "    rmse = evaluate(target_var)\n",
    "    print(target_var, '-- RMSE: {:.0f}'.format(rmse))\n",
    "    plt.show()"
   ]
  },
  {
   "cell_type": "markdown",
   "id": "264bd629",
   "metadata": {},
   "source": [
    "Write `append_eval_df(model_type)` to append evaluation metrics for each model type, target variable, and metric type, along with the metric value into our `eval_df` data frame object. Which we will create an empty `eval_df` dataframe object to start."
   ]
  },
  {
   "cell_type": "code",
   "execution_count": 39,
   "id": "bf94feb6",
   "metadata": {},
   "outputs": [
    {
     "data": {
      "text/html": [
       "<div>\n",
       "<style scoped>\n",
       "    .dataframe tbody tr th:only-of-type {\n",
       "        vertical-align: middle;\n",
       "    }\n",
       "\n",
       "    .dataframe tbody tr th {\n",
       "        vertical-align: top;\n",
       "    }\n",
       "\n",
       "    .dataframe thead th {\n",
       "        text-align: right;\n",
       "    }\n",
       "</style>\n",
       "<table border=\"1\" class=\"dataframe\">\n",
       "  <thead>\n",
       "    <tr style=\"text-align: right;\">\n",
       "      <th></th>\n",
       "      <th>model_type</th>\n",
       "      <th>target_var</th>\n",
       "      <th>rmse</th>\n",
       "    </tr>\n",
       "  </thead>\n",
       "  <tbody>\n",
       "  </tbody>\n",
       "</table>\n",
       "</div>"
      ],
      "text/plain": [
       "Empty DataFrame\n",
       "Columns: [model_type, target_var, rmse]\n",
       "Index: []"
      ]
     },
     "execution_count": 39,
     "metadata": {},
     "output_type": "execute_result"
    }
   ],
   "source": [
    "# create an empty dataframe\n",
    "eval_df = pd.DataFrame(columns=['model_type', 'target_var', 'rmse'])\n",
    "eval_df"
   ]
  },
  {
   "cell_type": "code",
   "execution_count": 40,
   "id": "bcd2a05c",
   "metadata": {},
   "outputs": [],
   "source": [
    "# function to store the rmse so that we can compare\n",
    "def append_eval_df(model_type, target_var):\n",
    "    '''\n",
    "    this function takes in as arguments the type of model run, and the name of the target variable. \n",
    "    It returns the eval_df with the rmse appended to it for that model and target_var. \n",
    "    '''\n",
    "    rmse = evaluate(target_var)\n",
    "    d = {'model_type': [model_type], 'target_var': [target_var],\n",
    "        'rmse': [rmse]}\n",
    "    d = pd.DataFrame(d)\n",
    "    return eval_df.append(d, ignore_index = True)"
   ]
  },
  {
   "cell_type": "code",
   "execution_count": 41,
   "id": "f5e15c11",
   "metadata": {},
   "outputs": [],
   "source": [
    "def make_predictions(views=None, likes=None):\n",
    "    yhat_df = pd.DataFrame({'views': [views]},\n",
    "                          index=validate.index)\n",
    "    return yhat_df"
   ]
  },
  {
   "cell_type": "markdown",
   "id": "0cde726e",
   "metadata": {},
   "source": [
    "# Forecasting"
   ]
  },
  {
   "cell_type": "markdown",
   "id": "9a5a2efe",
   "metadata": {},
   "source": [
    "- Last Observed Value (Baseline)\n",
    "- Moving Average: The future will look, on average, like recent history.\n",
    "- Holt's Linear Trend\n",
    "- Previous Cycle\n",
    "- Facebook Prophet"
   ]
  },
  {
   "cell_type": "markdown",
   "id": "bfa4b6ef",
   "metadata": {},
   "source": [
    "## Baseline"
   ]
  },
  {
   "cell_type": "markdown",
   "id": "c1a21515",
   "metadata": {},
   "source": [
    "#### Views"
   ]
  },
  {
   "cell_type": "code",
   "execution_count": 42,
   "id": "af57a715",
   "metadata": {},
   "outputs": [
    {
     "data": {
      "text/plain": [
       "1945147661"
      ]
     },
     "execution_count": 42,
     "metadata": {},
     "output_type": "execute_result"
    }
   ],
   "source": [
    "train['views'][-1:][0]"
   ]
  },
  {
   "cell_type": "code",
   "execution_count": 43,
   "id": "de6dc507",
   "metadata": {},
   "outputs": [
    {
     "data": {
      "text/plain": [
       "1945147661"
      ]
     },
     "execution_count": 43,
     "metadata": {},
     "output_type": "execute_result"
    }
   ],
   "source": [
    "# take thb last item of sales total and assign to variable\n",
    "last_views = train['views'][-1:][0]\n",
    "last_views"
   ]
  },
  {
   "cell_type": "code",
   "execution_count": 44,
   "id": "15ed1d41",
   "metadata": {},
   "outputs": [
    {
     "data": {
      "text/html": [
       "<div>\n",
       "<style scoped>\n",
       "    .dataframe tbody tr th:only-of-type {\n",
       "        vertical-align: middle;\n",
       "    }\n",
       "\n",
       "    .dataframe tbody tr th {\n",
       "        vertical-align: top;\n",
       "    }\n",
       "\n",
       "    .dataframe thead th {\n",
       "        text-align: right;\n",
       "    }\n",
       "</style>\n",
       "<table border=\"1\" class=\"dataframe\">\n",
       "  <thead>\n",
       "    <tr style=\"text-align: right;\">\n",
       "      <th></th>\n",
       "      <th>views</th>\n",
       "    </tr>\n",
       "    <tr>\n",
       "      <th>pub_date</th>\n",
       "      <th></th>\n",
       "    </tr>\n",
       "  </thead>\n",
       "  <tbody>\n",
       "    <tr>\n",
       "      <th>2022-04-30 00:00:00+00:00</th>\n",
       "      <td>1945147661</td>\n",
       "    </tr>\n",
       "    <tr>\n",
       "      <th>2022-05-31 00:00:00+00:00</th>\n",
       "      <td>1945147661</td>\n",
       "    </tr>\n",
       "    <tr>\n",
       "      <th>2022-06-30 00:00:00+00:00</th>\n",
       "      <td>1945147661</td>\n",
       "    </tr>\n",
       "    <tr>\n",
       "      <th>2022-07-31 00:00:00+00:00</th>\n",
       "      <td>1945147661</td>\n",
       "    </tr>\n",
       "  </tbody>\n",
       "</table>\n",
       "</div>"
      ],
      "text/plain": [
       "                                views\n",
       "pub_date                             \n",
       "2022-04-30 00:00:00+00:00  1945147661\n",
       "2022-05-31 00:00:00+00:00  1945147661\n",
       "2022-06-30 00:00:00+00:00  1945147661\n",
       "2022-07-31 00:00:00+00:00  1945147661"
      ]
     },
     "execution_count": 44,
     "metadata": {},
     "output_type": "execute_result"
    }
   ],
   "source": [
    "yhat_df = pd.DataFrame(\n",
    "    {'views': [last_views]},\n",
    "    index=validate.index)\n",
    "\n",
    "yhat_df.head()"
   ]
  },
  {
   "cell_type": "markdown",
   "id": "763a1521",
   "metadata": {},
   "source": [
    "#### Plot Actual vs. Predicted Values"
   ]
  },
  {
   "cell_type": "code",
   "execution_count": 45,
   "id": "847d24a7",
   "metadata": {},
   "outputs": [
    {
     "name": "stdout",
     "output_type": "stream",
     "text": [
      "views -- RMSE: 574192945\n"
     ]
    },
    {
     "data": {
      "image/png": "[encoded data removed]",
      "text/plain": [
       "<Figure size 864x288 with 1 Axes>"
      ]
     },
     "metadata": {
      "needs_background": "light"
     },
     "output_type": "display_data"
    }
   ],
   "source": [
    "plot_and_eval('views')"
   ]
  },
  {
   "cell_type": "markdown",
   "id": "5a0d6ccb",
   "metadata": {},
   "source": [
    "#### Evaluate"
   ]
  },
  {
   "cell_type": "code",
   "execution_count": 46,
   "id": "12d3dc93",
   "metadata": {},
   "outputs": [
    {
     "data": {
      "text/html": [
       "<div>\n",
       "<style scoped>\n",
       "    .dataframe tbody tr th:only-of-type {\n",
       "        vertical-align: middle;\n",
       "    }\n",
       "\n",
       "    .dataframe tbody tr th {\n",
       "        vertical-align: top;\n",
       "    }\n",
       "\n",
       "    .dataframe thead th {\n",
       "        text-align: right;\n",
       "    }\n",
       "</style>\n",
       "<table border=\"1\" class=\"dataframe\">\n",
       "  <thead>\n",
       "    <tr style=\"text-align: right;\">\n",
       "      <th></th>\n",
       "      <th>model_type</th>\n",
       "      <th>target_var</th>\n",
       "      <th>rmse</th>\n",
       "    </tr>\n",
       "  </thead>\n",
       "  <tbody>\n",
       "    <tr>\n",
       "      <th>0</th>\n",
       "      <td>last_observed_value</td>\n",
       "      <td>views</td>\n",
       "      <td>574192945.0</td>\n",
       "    </tr>\n",
       "  </tbody>\n",
       "</table>\n",
       "</div>"
      ],
      "text/plain": [
       "            model_type target_var         rmse\n",
       "0  last_observed_value      views  574192945.0"
      ]
     },
     "execution_count": 46,
     "metadata": {},
     "output_type": "execute_result"
    }
   ],
   "source": [
    "for col in train[['views']]:\n",
    "    eval_df = append_eval_df(model_type = 'last_observed_value', \n",
    "                             target_var = col)\n",
    "\n",
    "eval_df"
   ]
  },
  {
   "cell_type": "code",
   "execution_count": 47,
   "id": "e69d635f",
   "metadata": {},
   "outputs": [
    {
     "data": {
      "text/plain": [
       "574192945.0"
      ]
     },
     "execution_count": 47,
     "metadata": {},
     "output_type": "execute_result"
    }
   ],
   "source": [
    "min_views_rmse = eval_df[eval_df.target_var == 'views']['rmse'].min()\n",
    "min_views_rmse"
   ]
  },
  {
   "cell_type": "markdown",
   "id": "506b9ddf",
   "metadata": {},
   "source": [
    "## Moving Average"
   ]
  },
  {
   "cell_type": "markdown",
   "id": "37bd9be5",
   "metadata": {},
   "source": [
    "In this example, we will use a 30-day moving average to forecast. In other words, the average over the last 30-days will be used as the forecasted value."
   ]
  },
  {
   "cell_type": "code",
   "execution_count": 48,
   "id": "5234b4da",
   "metadata": {},
   "outputs": [],
   "source": [
    "# print(train['views'].rolling(30).mean())"
   ]
  },
  {
   "cell_type": "markdown",
   "id": "f9f7526a",
   "metadata": {},
   "source": [
    "#### Make Predictions"
   ]
  },
  {
   "cell_type": "code",
   "execution_count": 49,
   "id": "47a2146d",
   "metadata": {},
   "outputs": [],
   "source": [
    "# period=30\n",
    "# train['views'].rolling(period).mean()[-1]"
   ]
  },
  {
   "cell_type": "code",
   "execution_count": 50,
   "id": "ba6791c7",
   "metadata": {},
   "outputs": [],
   "source": [
    "# period = 30 \n",
    "\n",
    "# # take 30 day rolling average, then take the last element and that will the one that propogates \n",
    "# # forward as our prediction. \n",
    "# rolling_views = round(train['views'].rolling(period).mean()[-1], 2)\n",
    "# #rolling_likes = round(train['likes'].rolling(period).mean()[-1], 2)\n",
    "# print(rolling_views)"
   ]
  },
  {
   "cell_type": "code",
   "execution_count": 51,
   "id": "88e01cfb",
   "metadata": {},
   "outputs": [],
   "source": [
    "# yhat_df = make_predictions(rolling_views)\n",
    "# yhat_df.head()"
   ]
  },
  {
   "cell_type": "markdown",
   "id": "8fccfd39",
   "metadata": {},
   "source": [
    "#### Plot Actual vs. Predicted Values"
   ]
  },
  {
   "cell_type": "markdown",
   "id": "e70922d5",
   "metadata": {},
   "source": [
    "Now, let's plot and evaluate the performance of our time series model using **Moving Average**"
   ]
  },
  {
   "cell_type": "code",
   "execution_count": 52,
   "id": "c80d30d2",
   "metadata": {},
   "outputs": [],
   "source": [
    "# train.head()"
   ]
  },
  {
   "cell_type": "code",
   "execution_count": 53,
   "id": "254c970f",
   "metadata": {
    "scrolled": true
   },
   "outputs": [],
   "source": [
    "# plot_and_eval('views')"
   ]
  },
  {
   "cell_type": "markdown",
   "id": "1cd7d18b",
   "metadata": {},
   "source": [
    "#### Evaluate"
   ]
  },
  {
   "cell_type": "code",
   "execution_count": 54,
   "id": "4be7a00e",
   "metadata": {},
   "outputs": [],
   "source": [
    "# eval_df = append_eval_df(model_type = '30d_moving_avg', target_var = 'views')\n",
    "\n",
    "# eval_df"
   ]
  },
  {
   "cell_type": "markdown",
   "id": "d5a9dd3b",
   "metadata": {},
   "source": [
    "Let's try out several other values for periods:"
   ]
  },
  {
   "cell_type": "code",
   "execution_count": 55,
   "id": "f6975e61",
   "metadata": {},
   "outputs": [],
   "source": [
    "# periods = [4, 12, 26, 52, 104]\n",
    "\n",
    "# for p in periods: \n",
    "#     rolling_sales = round(train['views'].rolling(p).mean()[-1], 2)\n",
    "#     #rolling_quantity = round(train['likes'].rolling(p).mean()[-1], 2)\n",
    "#     yhat_df = make_predictions(rolling_views)\n",
    "#     model_type = str(p) + '_day_moving_avg'\n",
    "#     eval_df = append_eval_df(model_type = model_type,\n",
    "#                                 target_var = 'views')"
   ]
  },
  {
   "cell_type": "code",
   "execution_count": 56,
   "id": "0d9154cf",
   "metadata": {},
   "outputs": [],
   "source": [
    "# # which is best so far?\n",
    "# eval_df"
   ]
  },
  {
   "cell_type": "code",
   "execution_count": 57,
   "id": "7e8c8e34",
   "metadata": {},
   "outputs": [],
   "source": [
    "# # min rmse for views\n",
    "# min_views_rmse = eval_df[eval_df.target_var == 'views']['rmse'].min()"
   ]
  },
  {
   "cell_type": "code",
   "execution_count": 58,
   "id": "f3536255",
   "metadata": {},
   "outputs": [],
   "source": [
    "# min_views_rmse"
   ]
  },
  {
   "cell_type": "code",
   "execution_count": 59,
   "id": "5b0d4889",
   "metadata": {},
   "outputs": [],
   "source": [
    "# eval_df[eval_df.rmse == min_views_rmse]"
   ]
  },
  {
   "cell_type": "markdown",
   "id": "e252cd4b",
   "metadata": {},
   "source": [
    "## Holt's Linear Trend"
   ]
  },
  {
   "cell_type": "code",
   "execution_count": 60,
   "id": "d0cf959a",
   "metadata": {},
   "outputs": [],
   "source": [
    "col = 'views' \n",
    "# create our Holt's Object\n",
    "model = Holt(train[col], exponential=False, damped=True)"
   ]
  },
  {
   "cell_type": "code",
   "execution_count": 61,
   "id": "d00011cb",
   "metadata": {},
   "outputs": [],
   "source": [
    "# fit the holt's object\n",
    "model = model.fit(optimized=True)"
   ]
  },
  {
   "cell_type": "code",
   "execution_count": 62,
   "id": "37888a15",
   "metadata": {},
   "outputs": [],
   "source": [
    "col = 'views'\n",
    "model = Holt(train[col], exponential=False, damped=True)\n",
    "model = model.fit(optimized=True)\n",
    "yhat_items = model.predict(start = validate.index[0],\n",
    "                          end = validate.index[-1])\n",
    "yhat_df[col] = round(yhat_items, 2)"
   ]
  },
  {
   "cell_type": "markdown",
   "id": "e725ed51",
   "metadata": {},
   "source": [
    "#### Plot Actual vs. Predicted Values"
   ]
  },
  {
   "cell_type": "code",
   "execution_count": 63,
   "id": "39383a4b",
   "metadata": {
    "scrolled": false
   },
   "outputs": [
    {
     "name": "stdout",
     "output_type": "stream",
     "text": [
      "views -- RMSE: 657173669\n"
     ]
    },
    {
     "data": {
      "image/png": "[encoded data removed]",
      "text/plain": [
       "<Figure size 864x288 with 1 Axes>"
      ]
     },
     "metadata": {
      "needs_background": "light"
     },
     "output_type": "display_data"
    }
   ],
   "source": [
    "#for col in train['views']:\n",
    "plot_and_eval(target_var = col)"
   ]
  },
  {
   "cell_type": "markdown",
   "id": "fa32259e",
   "metadata": {},
   "source": [
    "#### Evaluate"
   ]
  },
  {
   "cell_type": "code",
   "execution_count": 64,
   "id": "b31737cf",
   "metadata": {},
   "outputs": [],
   "source": [
    "#for col in train['views']:\n",
    "eval_df = append_eval_df(model_type = 'holts_optimized', target_var = col)"
   ]
  },
  {
   "cell_type": "code",
   "execution_count": 65,
   "id": "6ba59c9b",
   "metadata": {},
   "outputs": [
    {
     "data": {
      "text/html": [
       "<div>\n",
       "<style scoped>\n",
       "    .dataframe tbody tr th:only-of-type {\n",
       "        vertical-align: middle;\n",
       "    }\n",
       "\n",
       "    .dataframe tbody tr th {\n",
       "        vertical-align: top;\n",
       "    }\n",
       "\n",
       "    .dataframe thead th {\n",
       "        text-align: right;\n",
       "    }\n",
       "</style>\n",
       "<table border=\"1\" class=\"dataframe\">\n",
       "  <thead>\n",
       "    <tr style=\"text-align: right;\">\n",
       "      <th></th>\n",
       "      <th>model_type</th>\n",
       "      <th>target_var</th>\n",
       "      <th>rmse</th>\n",
       "    </tr>\n",
       "  </thead>\n",
       "  <tbody>\n",
       "    <tr>\n",
       "      <th>0</th>\n",
       "      <td>last_observed_value</td>\n",
       "      <td>views</td>\n",
       "      <td>574192945.0</td>\n",
       "    </tr>\n",
       "    <tr>\n",
       "      <th>1</th>\n",
       "      <td>holts_optimized</td>\n",
       "      <td>views</td>\n",
       "      <td>657173669.0</td>\n",
       "    </tr>\n",
       "  </tbody>\n",
       "</table>\n",
       "</div>"
      ],
      "text/plain": [
       "            model_type target_var         rmse\n",
       "0  last_observed_value      views  574192945.0\n",
       "1      holts_optimized      views  657173669.0"
      ]
     },
     "execution_count": 65,
     "metadata": {},
     "output_type": "execute_result"
    }
   ],
   "source": [
    "eval_df[eval_df.target_var =='views'].sort_values(by='rmse').head(10)"
   ]
  },
  {
   "cell_type": "markdown",
   "id": "2cab0fb5",
   "metadata": {},
   "source": [
    "## Facebook Prophet"
   ]
  },
  {
   "cell_type": "code",
   "execution_count": 66,
   "id": "b7285b00",
   "metadata": {},
   "outputs": [],
   "source": [
    "fb_train = pd.DataFrame({'ds':train.index, 'y': train.views})"
   ]
  },
  {
   "cell_type": "code",
   "execution_count": 67,
   "id": "8aea2996",
   "metadata": {},
   "outputs": [
    {
     "ename": "NameError",
     "evalue": "name 'Prophet' is not defined",
     "output_type": "error",
     "traceback": [
      "\u001b[0;31m---------------------------------------------------------------------------\u001b[0m",
      "\u001b[0;31mNameError\u001b[0m                                 Traceback (most recent call last)",
      "Input \u001b[0;32mIn [67]\u001b[0m, in \u001b[0;36m<cell line: 1>\u001b[0;34m()\u001b[0m\n\u001b[0;32m----> 1\u001b[0m m \u001b[38;5;241m=\u001b[39m \u001b[43mProphet\u001b[49m(changepoint_range\u001b[38;5;241m=\u001b[39m\u001b[38;5;241m0.75\u001b[39m,changepoint_prior_scale\u001b[38;5;241m=\u001b[39m\u001b[38;5;241m0.75\u001b[39m)\n\u001b[1;32m      2\u001b[0m m\u001b[38;5;241m.\u001b[39mfit(fb_train)\n",
      "\u001b[0;31mNameError\u001b[0m: name 'Prophet' is not defined"
     ]
    }
   ],
   "source": [
    "m = Prophet(changepoint_range=0.75,changepoint_prior_scale=0.75)\n",
    "m.fit(fb_train)"
   ]
  },
  {
   "cell_type": "code",
   "execution_count": null,
   "id": "3fcea390",
   "metadata": {},
   "outputs": [],
   "source": [
    "validate.index"
   ]
  },
  {
   "cell_type": "code",
   "execution_count": null,
   "id": "f0cda5bc",
   "metadata": {},
   "outputs": [],
   "source": [
    "future = m.make_future_dataframe(periods = 59, freq = 'W')\n",
    "future.tail()"
   ]
  },
  {
   "cell_type": "code",
   "execution_count": null,
   "id": "6895693c",
   "metadata": {},
   "outputs": [],
   "source": [
    "# make prediction\n",
    "forecast = m.predict(future)\n",
    "forecast[['ds', 'yhat', 'yhat_lower', 'yhat_upper']].tail()"
   ]
  },
  {
   "cell_type": "code",
   "execution_count": null,
   "id": "be621e12",
   "metadata": {},
   "outputs": [],
   "source": [
    "# plot the forecast\n",
    "m.plot(forecast)"
   ]
  },
  {
   "cell_type": "code",
   "execution_count": null,
   "id": "18b37d9f",
   "metadata": {},
   "outputs": [],
   "source": [
    "# trend, yearly seasonality, and weekly seasonality of the time series\n",
    "m.plot_components(forecast)"
   ]
  },
  {
   "cell_type": "code",
   "execution_count": null,
   "id": "542d5b7a",
   "metadata": {},
   "outputs": [],
   "source": [
    "# interactive figure of the forecast and components\n",
    "from prophet.plot import plot_plotly, plot_components_plotly\n",
    "\n",
    "plot_plotly(m, forecast)\n"
   ]
  },
  {
   "cell_type": "code",
   "execution_count": null,
   "id": "80e838cd",
   "metadata": {},
   "outputs": [],
   "source": [
    "plot_components_plotly(m, forecast)"
   ]
  },
  {
   "cell_type": "code",
   "execution_count": null,
   "id": "88995294",
   "metadata": {},
   "outputs": [],
   "source": [
    "from prophet.plot import add_changepoints_to_plot\n",
    "fig = m.plot(forecast)\n",
    "add_changepoints_to_plot(fig.gca(),m,forecast)"
   ]
  },
  {
   "cell_type": "code",
   "execution_count": null,
   "id": "c94f265c",
   "metadata": {},
   "outputs": [],
   "source": [
    "validate.shape"
   ]
  },
  {
   "cell_type": "code",
   "execution_count": null,
   "id": "64f14d31",
   "metadata": {},
   "outputs": [],
   "source": [
    "train.shape"
   ]
  },
  {
   "cell_type": "code",
   "execution_count": null,
   "id": "042cc0ee",
   "metadata": {},
   "outputs": [],
   "source": [
    "forecast.shape"
   ]
  },
  {
   "cell_type": "code",
   "execution_count": null,
   "id": "ce10ead3",
   "metadata": {},
   "outputs": [],
   "source": [
    "rmse = round(sqrt(mean_squared_error(validate['views'], forecast['yhat'].tail(59))), 0)\n",
    "rmse"
   ]
  },
  {
   "cell_type": "markdown",
   "id": "adb5283f",
   "metadata": {},
   "source": [
    "## Autoregressive Integrated Moving Average (ARIMA)"
   ]
  },
  {
   "cell_type": "markdown",
   "id": "c2802ff1",
   "metadata": {},
   "source": [
    "- First parameter:  the lagging (past values)\n",
    "- Second parameter:  differencing (this is what makes non-stationary data stationary)\n",
    "- Last parameter: white noise (for modeling shock events). "
   ]
  },
  {
   "cell_type": "code",
   "execution_count": null,
   "id": "3e64643d",
   "metadata": {},
   "outputs": [],
   "source": [
    "from statsmodels.tsa.arima.model import ARIMA"
   ]
  },
  {
   "cell_type": "code",
   "execution_count": null,
   "id": "52be948d",
   "metadata": {},
   "outputs": [],
   "source": []
  },
  {
   "cell_type": "markdown",
   "id": "c7835b02",
   "metadata": {},
   "source": [
    "## LSTM Neural Network"
   ]
  },
  {
   "cell_type": "code",
   "execution_count": null,
   "id": "06ef7a0b",
   "metadata": {},
   "outputs": [],
   "source": []
  },
  {
   "cell_type": "markdown",
   "id": "f2c6a8ef",
   "metadata": {},
   "source": [
    "## XGBoost"
   ]
  },
  {
   "cell_type": "markdown",
   "id": "d167961c",
   "metadata": {},
   "source": [
    "#### Basic Model Resample by Day (2018-12-01 - 2022-09-10)\n",
    "- Baseline Views RMSE: 120066387\n",
    "\n",
    "- Rolling Average RMSE: 120259456\n",
    "\n",
    "- Facebook Prophet Views: 109683655 (outperform by 8.6%)\n",
    "\n",
    "#### Basic Model Resample by Week (2018-12-01 - 2022-09-10)\n",
    "- Baseline Views RMSE: 599773169\n",
    "- Rolling Average RMSE: 599773169\n",
    "- Holt's RMSE: 349329760\n",
    "- Facebook: 322011088 (46.3%)\n",
    "    - weekly_seasonality=False, changepoint_range=1,changepoint_prior_scale=0.75 464053600\n",
    "    - weekly_seasonality=False, changepoint_range=1,changepoint_prior_scale=0.5 365801236\n",
    "    - weekly_seasonality=False, changepoint_range=0.5,changepoint_prior_scale=0.75 323347218\n",
    "    - weekly_seasonality=False, changepoint_range=0.3,changepoint_prior_scale=0.5 354942242\n",
    "    - weekly_seasonality=False, changepoint_range=0.5,changepoint_prior_scale=0.5 618014950"
   ]
  },
  {
   "cell_type": "code",
   "execution_count": null,
   "id": "2a045562",
   "metadata": {},
   "outputs": [],
   "source": [
    "(599773169-322011088)/599773169"
   ]
  },
  {
   "cell_type": "code",
   "execution_count": null,
   "id": "9d430d33",
   "metadata": {},
   "outputs": [],
   "source": []
  }
 ],
 "metadata": {
  "kernelspec": {
   "display_name": "Python 3 (ipykernel)",
   "language": "python",
   "name": "python3"
  },
  "language_info": {
   "codemirror_mode": {
    "name": "ipython",
    "version": 3
   },
   "file_extension": ".py",
   "mimetype": "text/x-python",
   "name": "python",
   "nbconvert_exporter": "python",
   "pygments_lexer": "ipython3",
   "version": "3.9.12"
  }
 },
 "nbformat": 4,
 "nbformat_minor": 5
}
